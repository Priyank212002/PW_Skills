{
 "cells": [
  {
   "cell_type": "code",
   "execution_count": null,
   "id": "52fe97bb-ec29-4f3b-acb9-c8bc38627525",
   "metadata": {},
   "outputs": [],
   "source": [
    "#question 1 \n",
    "\n",
    "!pip install bokeh\n",
    "\n",
    "import bokeh.io\n",
    "import bokeh.plotting\n",
    "bokeh.io.output_notebook\n",
    "from bokeh.plotting import figure,show,output_file\n",
    "\n",
    "from bokeh.sampledata.iris import flowers\n",
    "\n",
    "output_file('test.html')\n",
    "\n",
    "p = figure(title = 'Flowers')\n",
    "p.xaxis.axis_label = 'petal length'\n",
    "p.yaxis.axis_label = 'petal width'\n",
    "p.circle(flowers['petal_length'],flowers['petal_width'])\n",
    "show(p)"
   ]
  },
  {
   "cell_type": "code",
   "execution_count": null,
   "id": "de3491f6-b44d-4f04-9229-adfa5ee24b8f",
   "metadata": {},
   "outputs": [],
   "source": [
    "#question 2 \n",
    "\n",
    "import bokeh.io\n",
    "import bokeh.plotting\n",
    "bokeh.io.output_notebook\n",
    "from bokeh.plotting import figure,show,output_file\n",
    "\n",
    "from bokeh.sampledata.iris import flowers\n",
    "\n",
    "\n",
    "p = figure(title = 'Flowers')\n",
    "p.xaxis.axis_label = 'petal length'\n",
    "p.yaxis.axis_label = 'petal width'\n",
    "p.circle(flowers['petal_length'],flowers['petal_width'],fill_color = 'red',legend_label = \"pink points\")\n",
    "show(p)\n"
   ]
  },
  {
   "cell_type": "code",
   "execution_count": null,
   "id": "d83abcd2-0887-4298-a6a4-c6c56655015f",
   "metadata": {},
   "outputs": [],
   "source": [
    "#question 3 \n",
    "\n",
    "\"by using the title and axis label tage we can customize it\""
   ]
  },
  {
   "cell_type": "code",
   "execution_count": null,
   "id": "b2078d23-9126-43fe-bd4b-ed373784532c",
   "metadata": {},
   "outputs": [],
   "source": [
    "#question 4 \n",
    "\n",
    "\"he Bokeh server is a component of the Bokeh library that allows you to create interactive web applications with real-time updates. It enables you to build dynamic and interactive data visualizations that can respond to user inputs, update in real time, and provide a more engaging and interactive experience compared to static visualizations.\"\n",
    "\n"
   ]
  },
  {
   "cell_type": "code",
   "execution_count": null,
   "id": "fc675708-9f8e-4170-814c-9e39800a76f5",
   "metadata": {},
   "outputs": [],
   "source": [
    "#question 5 \n",
    "\n",
    "\"for django \"\n",
    "'''\n",
    "Step 1: Set Up Your Django Project\n",
    "\n",
    "Step 2: Generate the Bokeh Plot\n",
    "\n",
    "Step 3: Create a Django View\n",
    "\n",
    "Step 4: Create a Django Template\n",
    "\n",
    "Step 5: Configure URL Mapping\n",
    "\n",
    "Step 6: Run the Django Development Server\n",
    "\n",
    "'''\n",
    "\n",
    "\"for flask\"\n",
    "\n",
    "'''\n",
    "Step 1: Set Up Your Flask Application\n",
    "\n",
    "Step 2: Generate the Bokeh Plot\n",
    "\n",
    "Step 3: Render the Plot in a Flask Template\n",
    "\n",
    "Step 4: Serve the Flask Application\n",
    "\n",
    "'''"
   ]
  }
 ],
 "metadata": {
  "kernelspec": {
   "display_name": "Python 3 (ipykernel)",
   "language": "python",
   "name": "python3"
  },
  "language_info": {
   "codemirror_mode": {
    "name": "ipython",
    "version": 3
   },
   "file_extension": ".py",
   "mimetype": "text/x-python",
   "name": "python",
   "nbconvert_exporter": "python",
   "pygments_lexer": "ipython3",
   "version": "3.10.8"
  }
 },
 "nbformat": 4,
 "nbformat_minor": 5
}
