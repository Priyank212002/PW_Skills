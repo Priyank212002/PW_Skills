{
 "cells": [
  {
   "cell_type": "code",
   "execution_count": 18,
   "id": "dc5a4d95-4a0b-4ac4-ab5a-39c85568b037",
   "metadata": {},
   "outputs": [
    {
     "name": "stdout",
     "output_type": "stream",
     "text": [
      "{'Sachin Tendulkar': 34357, 'Ricky Ponting': 27483, 'Jack Kallis': 25534, 'Virat Kohli': 24936}\n"
     ]
    }
   ],
   "source": [
    "#question 1 \n",
    "\n",
    "l = [('Sachin Tendulkar', 34357), ('Ricky Ponting', 27483), ('Jack Kallis', 25534), ('Virat Kohli', 24936)]\n",
    "\n",
    "l1= sorted(l,key=lambda x : )\n"
   ]
  },
  {
   "cell_type": "code",
   "execution_count": 9,
   "id": "1cda6258-5f1c-42c3-973a-7306ea9ca1cc",
   "metadata": {},
   "outputs": [
    {
     "data": {
      "text/plain": [
       "[1, 4, 9, 16, 25, 36, 49, 64, 81, 100]"
      ]
     },
     "execution_count": 9,
     "metadata": {},
     "output_type": "execute_result"
    }
   ],
   "source": [
    "#question 2\n",
    "\n",
    "l = [1,2,3,4,5,6,7,8,9,10]\n",
    "l1 = []\n",
    "for i in l:\n",
    "    sqaure=lambda i : i**2\n",
    "    l1.append(square(i))\n",
    "    \n",
    "l1    "
   ]
  },
  {
   "cell_type": "code",
   "execution_count": 11,
   "id": "4e149ea3-371c-49fb-83c3-93d65d621b28",
   "metadata": {},
   "outputs": [
    {
     "data": {
      "text/plain": [
       "['1', '2', '3', '4', '5', '6', '7', '8', '9', '10']"
      ]
     },
     "execution_count": 11,
     "metadata": {},
     "output_type": "execute_result"
    }
   ],
   "source": [
    "#question 3 \n",
    "\n",
    "l = [1,2,3,4,5,6,7,8,9,10]\n",
    "l1=[]\n",
    "for i in l:\n",
    "    s=lambda i : str(i)\n",
    "    l1.append(s(i))\n",
    "l1    "
   ]
  },
  {
   "cell_type": "code",
   "execution_count": 16,
   "id": "54014fcb-b9af-4bcc-8ebd-2a4f5c035e56",
   "metadata": {},
   "outputs": [
    {
     "name": "stdout",
     "output_type": "stream",
     "text": [
      "15511210043330985984000000\n"
     ]
    }
   ],
   "source": [
    "#question 4\n",
    "from functools import reduce\n",
    "l = [1,2,3,4,5,6,7,8,9,10,11,12,13,14,15,16,17,18,19,20,21,22,23,24,25]\n",
    "ans = reduce(lambda a,b : a*b,l)\n",
    "print(ans)"
   ]
  },
  {
   "cell_type": "code",
   "execution_count": 15,
   "id": "eb4c5248-7288-482d-8d32-d33231323e90",
   "metadata": {},
   "outputs": [
    {
     "name": "stdout",
     "output_type": "stream",
     "text": [
      "6\n",
      "60\n",
      "90\n",
      "120\n"
     ]
    }
   ],
   "source": [
    "#question 5\n",
    "\n",
    "l = [2, 3, 6, 9, 27, 60, 90, 120, 55, 46]\n",
    "\n",
    "check = filter(lambda a : a%2==0  and a%3==0,l)\n",
    "\n",
    "for i in check:\n",
    "    print(i)\n",
    "\n"
   ]
  },
  {
   "cell_type": "code",
   "execution_count": 13,
   "id": "2ce68fa8-affd-4e7b-a490-e96b0321f45e",
   "metadata": {},
   "outputs": [
    {
     "name": "stdout",
     "output_type": "stream",
     "text": [
      "php\n",
      "aba\n",
      "radar\n",
      "level\n"
     ]
    }
   ],
   "source": [
    "#question 6\n",
    "\n",
    "l = ['python', 'php', 'aba', 'radar', 'level']\n",
    "\n",
    "check = filter(lambda a : a==a[::-1] , l)\n",
    "\n",
    "for i in check :\n",
    "    print(i)"
   ]
  },
  {
   "cell_type": "code",
   "execution_count": null,
   "id": "bef2f5b3-b61b-4789-b053-cb4037a29a51",
   "metadata": {},
   "outputs": [],
   "source": []
  }
 ],
 "metadata": {
  "kernelspec": {
   "display_name": "Python 3 (ipykernel)",
   "language": "python",
   "name": "python3"
  },
  "language_info": {
   "codemirror_mode": {
    "name": "ipython",
    "version": 3
   },
   "file_extension": ".py",
   "mimetype": "text/x-python",
   "name": "python",
   "nbconvert_exporter": "python",
   "pygments_lexer": "ipython3",
   "version": "3.10.8"
  }
 },
 "nbformat": 4,
 "nbformat_minor": 5
}
