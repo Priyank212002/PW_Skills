{
 "cells": [
  {
   "cell_type": "code",
   "execution_count": null,
   "id": "e1bbcb23-f232-4483-ae0d-cfad5837d739",
   "metadata": {},
   "outputs": [],
   "source": [
    "#question 1 \n",
    "\n",
    "'''\n",
    "Probability Mass Function (PMF):\n",
    "\n",
    "The PMF is a function that provides the probability of a discrete random variable taking on a specific value. In other words, it describes the probability distribution of a discrete random variable by assigning a probability to each possible outcome.\n",
    "\n",
    "Example: Consider a fair six-sided die. The random variable X represents the outcome when rolling the die. The PMF of X would be:\n",
    "\n",
    "P(X = 1) = 1/6\n",
    "P(X = 2) = 1/6\n",
    "P(X = 3) = 1/6\n",
    "P(X = 4) = 1/6\n",
    "P(X = 5) = 1/6\n",
    "P(X = 6) = 1/6\n",
    "\n",
    "In this example, the PMF assigns equal probabilities to each possible outcome because the die is fair.\n",
    "\n",
    "Probability Density Function (PDF):\n",
    "\n",
    "The PDF is a function used for continuous random variables. It provides the relative likelihood of a continuous random variable falling within a particular range of values. Unlike the PMF, the PDF does not give the probability of a specific value but rather the probability density over an interval.\n",
    "\n",
    "Example: Consider a standard normal distribution, which has a bell-shaped curve. The random variable X represents a continuous variable following this distribution. The PDF of X is given by the standard normal density function:\n",
    "\n",
    "f(x) = (1 / √(2π)) * e^(-(x^2) / 2)\n",
    "\n",
    "In this example, the PDF describes the shape of the normal distribution curve, showing that values close to the mean are more likely than values far from the mean. However, the PDF does not give the probability of a single point; instead, it provides probabilities over intervals.\n",
    "'''"
   ]
  },
  {
   "cell_type": "code",
   "execution_count": null,
   "id": "89098374-4807-42c2-a9bd-1e7662af5360",
   "metadata": {},
   "outputs": [],
   "source": [
    "#question 2 \n",
    "\n",
    "'''\n",
    "The Cumulative Density Function (CDF) is a fundamental concept in probability and statistics. It is a function that describes the cumulative probability that a random variable takes on a value less than or equal to a specified value. In essence, the CDF provides information about the probability distribution of a random variable by accumulating the probabilities of events up to a given point.\n",
    "\n",
    "Mathematically, if X is a random variable, the CDF of X, denoted as F(x), is defined as:\n",
    "\n",
    "F(x) = P(X ≤ x)\n",
    "\n",
    "In words, the CDF tells us the probability that the random variable X is less than or equal to a specific value x.\n",
    "\n",
    "Example: Let's consider a simple example using a fair six-sided die. The random variable X represents the outcome when rolling the die. The CDF of X would be:\n",
    "\n",
    "F(x) = P(X ≤ x)\n",
    "\n",
    "For this fair die, the CDF would look like this:\n",
    "\n",
    "F(1) = P(X ≤ 1) = 1/6\n",
    "F(2) = P(X ≤ 2) = (1/6) + (1/6) = 1/3\n",
    "F(3) = P(X ≤ 3) = (1/6) + (1/6) + (1/6) = 1/2\n",
    "F(4) = P(X ≤ 4) = (1/6) + (1/6) + (1/6) + (1/6) = 2/3\n",
    "F(5) = P(X ≤ 5) = (1/6) + (1/6) + (1/6) + (1/6) + (1/6) = 5/6\n",
    "F(6) = P(X ≤ 6) = (1/6) + (1/6) + (1/6) + (1/6) + (1/6) + (1/6) = 1\n",
    "In this example, the CDF tells us the probability of getting a result less than or equal to a specific value when rolling the die. For instance, F(4) = 2/3 indicates that there's a 2/3 probability of rolling a number less than or equal to 4.\n",
    "'''"
   ]
  },
  {
   "cell_type": "code",
   "execution_count": null,
   "id": "662a32ec-3c6f-47f4-9210-4d6d9d38f604",
   "metadata": {},
   "outputs": [],
   "source": [
    "#question 3 \n",
    "\n",
    "'''\n",
    "heights of students\n",
    "iq of students\n",
    "scores of students\n",
    "\n",
    "if the mean is low then the shape will be different \n",
    "if the std is more then the graph will be more  dispersed\n",
    "'''"
   ]
  },
  {
   "cell_type": "code",
   "execution_count": null,
   "id": "a66bd5ab-320b-4616-b54c-c7ffae1e4495",
   "metadata": {},
   "outputs": [],
   "source": [
    "#question 4\n",
    "\n",
    "'''\n",
    "it is important for the following reason \n",
    "\n",
    "Modeling Natural Variability\n",
    "Statistical Inference\n",
    "Central Limit Theorem\n",
    "\n",
    "\n",
    "it is used in \n",
    "heights of students\n",
    "iq of students\n",
    "scores of students\n",
    "\n",
    "'''"
   ]
  },
  {
   "cell_type": "code",
   "execution_count": null,
   "id": "8f5b2910-0d7d-4387-99e8-67d8d68a8dfe",
   "metadata": {},
   "outputs": [],
   "source": [
    "#question 5 \n",
    "\n",
    "'''\n",
    "The Bernoulli distribution is a discrete probability distribution that models a random experiment with two possible outcomes: success and failure. It is named after the Swiss mathematician Jacob Bernoulli, who introduced it in the 18th century. The Bernoulli distribution is characterized by a single parameter, denoted as \"p,\" which represents the probability of success (usually denoted as 1) in a single trial and \"1-p\" represents the probability of failure (usually denoted as 0). The probability mass function (PMF) of the Bernoulli distribution is:\n",
    "\n",
    "P(X = 1) = p\n",
    "P(X = 0) = 1 - p\n",
    "\n",
    "Here's an example of the Bernoulli distribution:\n",
    "\n",
    "Example: Consider flipping a fair coin. If we define success as getting heads (H) and failure as getting tails (T), then the outcome of each coin flip can be modeled using a Bernoulli distribution. In this case, p = 0.5 because there's a 50% chance of getting heads (success) and a 50% chance of getting tails (failure) in a single flip.\n",
    "'''"
   ]
  },
  {
   "cell_type": "code",
   "execution_count": 3,
   "id": "815df9b3-e1ac-4d05-b9f8-d5ce87549aa5",
   "metadata": {},
   "outputs": [
    {
     "name": "stdout",
     "output_type": "stream",
     "text": [
      "0.15865525393145707\n"
     ]
    }
   ],
   "source": [
    "#question 6 \n",
    "\n",
    "from scipy.stats import norm\n",
    "mean = 50\n",
    "std_dev = 10\n",
    "value = 60\n",
    "z = (value - mean) / std_dev\n",
    "probability = 1 - norm.cdf(z)\n",
    "print(probability)\n"
   ]
  },
  {
   "cell_type": "code",
   "execution_count": null,
   "id": "f99c698e-0c0a-4d50-90bd-1d5ac3f710e7",
   "metadata": {},
   "outputs": [],
   "source": [
    "#question 7 \n",
    "\n",
    "'''\n",
    "\n",
    "The uniform distribution, often referred to as the continuous uniform distribution, is a probability distribution that models a continuous random variable where all values within a specified interval have an equal probability of occurring. In other words, it represents a situation where each value in the interval is equally likely to be observed.\n",
    "\n",
    "\n",
    "Consider a simple example of rolling a fair six-sided die. The outcome of rolling the die can be modeled using a discrete uniform distribution. In this case:\n",
    "\n",
    "a (lower bound) = 1 (the minimum possible outcome of the die).\n",
    "b (upper bound) = 6 (the maximum possible outcome of the die).\n",
    "For each roll of the die, the probability of getting any specific face (1, 2, 3, 4, 5, or 6) is 1/6 because each face has an equal chance of appearing. This is an example of a discrete uniform distribution because we are dealing with a finite set of discrete values.\n",
    "'''\n"
   ]
  },
  {
   "cell_type": "code",
   "execution_count": null,
   "id": "ec8298ce-e123-40ed-9391-1f8cceca55c1",
   "metadata": {},
   "outputs": [],
   "source": [
    "#question 8 \n",
    "\n",
    "'''\n",
    "The z-score, also known as the standard score or standard deviation from the mean, is a statistical measure that quantifies how far a data point is from the mean of a dataset in terms of standard deviations. \n",
    "\n",
    "\n",
    "importance of the z score is as follows\n",
    "\n",
    "it is used to find the area under the curve\n",
    "hypothesis tessting\n",
    "data transformation \n",
    "'''"
   ]
  },
  {
   "cell_type": "code",
   "execution_count": null,
   "id": "a74fd82b-34c2-4ab2-b532-87ef8b593198",
   "metadata": {},
   "outputs": [],
   "source": [
    "#question 9 \n",
    "\n",
    "'''\n",
    "The Central Limit Theorem (CLT) is a fundamental concept in statistics that describes the behavior of the sampling distribution of the sample mean (or other sample statistics) for a population, regardless of the shape of the population's distribution.\n",
    "\n",
    "Significance of CLT\n",
    "\n",
    "Inference and Hypothesis Testing\n",
    "Real-world Applications\n",
    "Large Sample Sizes\n",
    "'''"
   ]
  },
  {
   "cell_type": "code",
   "execution_count": null,
   "id": "4b65a1c9-d1fe-4804-9607-82fc39369c46",
   "metadata": {},
   "outputs": [],
   "source": [
    "#question 10\n",
    "\n",
    "'''\n",
    "Random Sampling: The samples used to calculate the sample mean (or other sample statistics) must be drawn randomly from the population of interest. This means that each data point has an equal chance of being selected, and the samples are independent of each other.\n",
    "\n",
    "Independence: The individual observations within each sample must be independent of each other. In other words, the value of one observation should not influence or depend on the value of another observation within the same sample.\n",
    "\n",
    "Sample Size: The CLT generally applies as the sample size (n) becomes sufficiently large. While there is no strict rule for what constitutes \"sufficiently large,\" a common guideline is that a sample size of at least 30 is often considered large enough for the CLT to provide a reasonably accurate approximation. However, the larger the sample size, the better the approximation.\n",
    "\n",
    "Population Distribution: The CLT does not require the population distribution to be normal. It can apply to any population distribution, regardless of its shape. However, for small sample sizes (n < 30), it is helpful if the population distribution is not heavily skewed or does not have extreme outliers. In practice, the CLT tends to work well for a wide range of population distributions.\n",
    "'''"
   ]
  },
  {
   "cell_type": "code",
   "execution_count": null,
   "id": "bc579c24-a554-4cbf-8f43-e064c5fb8a3a",
   "metadata": {},
   "outputs": [],
   "source": []
  }
 ],
 "metadata": {
  "kernelspec": {
   "display_name": "Python 3 (ipykernel)",
   "language": "python",
   "name": "python3"
  },
  "language_info": {
   "codemirror_mode": {
    "name": "ipython",
    "version": 3
   },
   "file_extension": ".py",
   "mimetype": "text/x-python",
   "name": "python",
   "nbconvert_exporter": "python",
   "pygments_lexer": "ipython3",
   "version": "3.10.8"
  }
 },
 "nbformat": 4,
 "nbformat_minor": 5
}
