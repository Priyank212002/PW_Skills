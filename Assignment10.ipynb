{
 "cells": [
  {
   "cell_type": "code",
   "execution_count": null,
   "id": "4081eeaa-6dc1-4dd3-8146-f83eeb37d964",
   "metadata": {},
   "outputs": [],
   "source": [
    "#question 1\n",
    "\n",
    "\"Multiprocessing in Python refers to the capability of the language to create and manage multiple processes simultaneously. A process is an instance of a program that runs independently and has its own memory space. Multiprocessing allows you to execute multiple tasks or computations in parallel, leveraging the full potential of multi-core CPUs, thus increasing overall performance and efficiency.\""
   ]
  },
  {
   "cell_type": "code",
   "execution_count": null,
   "id": "8446febb-bb6d-4c7f-9c81-f3992b586acd",
   "metadata": {},
   "outputs": [],
   "source": [
    "#question  2\n",
    "\n",
    "'''\n",
    "ease of use \n",
    "parallelism\n",
    "fault tolerance\n",
    "effect of cpu\n",
    "'''"
   ]
  },
  {
   "cell_type": "code",
   "execution_count": 8,
   "id": "ec232708-80fc-41ed-a775-cc03d13e043a",
   "metadata": {},
   "outputs": [
    {
     "name": "stdout",
     "output_type": "stream",
     "text": [
      "hello world\n",
      "Done\n"
     ]
    }
   ],
   "source": [
    "#question 3 \n",
    "\n",
    "import multiprocessing\n",
    "\n",
    "def task():\n",
    "    print(\"hello world\")\n",
    "\n",
    "if __name__ == '__main__':\n",
    "    a=multiprocessing.Process(target=task)\n",
    "    a.start()\n",
    "    a.join()\n",
    "print(\"Done\")    "
   ]
  },
  {
   "cell_type": "code",
   "execution_count": null,
   "id": "cc886048-1e7a-4ae3-8e83-f3209fd748f7",
   "metadata": {},
   "outputs": [],
   "source": [
    "#question 4\n",
    "\n",
    "\"In Python, a multiprocessing pool refers to a mechanism provided by the multiprocessing module to manage a pool of worker processes. The pool allows you to parallelize the execution of a function across multiple inputs, distributing the workload efficiently among the available CPU cores.\n",
    "\n",
    "\"The multiprocessing.Pool class is used to create a pool of worker processes. You can submit tasks to the pool, and it will automatically assign those tasks to the available worker processes in a load-balanced manner. This simplifies the process of parallelizing tasks, as you dont have to manually create and manage individual processes.\""
   ]
  },
  {
   "cell_type": "code",
   "execution_count": null,
   "id": "34fc7cf9-2fd7-4a38-83f7-90292eec8009",
   "metadata": {},
   "outputs": [],
   "source": [
    "#question 5 \n",
    "\n",
    "import multiprocessing\n",
    "\n",
    "def task():\n",
    "    print(\"hello world\")\n",
    "\n",
    "if __name__ == '__main__':\n",
    "     with multiprocessing.Pool(processes=4) as pool:\n",
    "            pass  \n"
   ]
  },
  {
   "cell_type": "code",
   "execution_count": 13,
   "id": "5263d47c-9ab3-474c-8c4f-488b1f8836eb",
   "metadata": {},
   "outputs": [
    {
     "name": "stdout",
     "output_type": "stream",
     "text": [
      "Process 1: 1\n",
      "Process 2: 2\n",
      "Process 3: 3\n",
      "Process 4: 4\n",
      "done!\n"
     ]
    }
   ],
   "source": [
    "#question 6\n",
    "\n",
    "import multiprocessing\n",
    "\n",
    "def print_number(number):\n",
    "    print(f\"Process {number}: {number}\")\n",
    "\n",
    "if __name__ == \"__main__\":\n",
    "    processes = []\n",
    "    for i in range(1, 5):\n",
    "        process = multiprocessing.Process(target=print_number, args=(i,))\n",
    "        processes.append(process)\n",
    "        process.start()\n",
    "        process.join()\n",
    "\n",
    "    print(\"done!\")\n",
    "\n"
   ]
  },
  {
   "cell_type": "code",
   "execution_count": null,
   "id": "421eea71-0f4d-44df-aee8-c719e5e6a96c",
   "metadata": {},
   "outputs": [],
   "source": []
  }
 ],
 "metadata": {
  "kernelspec": {
   "display_name": "Python 3 (ipykernel)",
   "language": "python",
   "name": "python3"
  },
  "language_info": {
   "codemirror_mode": {
    "name": "ipython",
    "version": 3
   },
   "file_extension": ".py",
   "mimetype": "text/x-python",
   "name": "python",
   "nbconvert_exporter": "python",
   "pygments_lexer": "ipython3",
   "version": "3.10.8"
  }
 },
 "nbformat": 4,
 "nbformat_minor": 5
}
