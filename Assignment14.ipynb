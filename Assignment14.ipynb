{
 "cells": [
  {
   "cell_type": "code",
   "execution_count": null,
   "id": "9592e5a0-69ae-43ad-b5e2-23dbf415b4d0",
   "metadata": {},
   "outputs": [],
   "source": [
    "#question 1\n",
    "\n",
    "\"Flask is a lightweight and flexible web framework for Python, designed to make it easy to build web applications and APIs. It is considered a micro-framework because it provides the essentials needed to get started quickly, but it leaves many other features as optional extensions, giving developers the freedom to choose what components they want to use in their projects.\"\n",
    "\n",
    "'''\n",
    "Advantages \n",
    "\n",
    "1 Minimalistic\n",
    "\n",
    "2 Routing\n",
    "\n",
    "3 Templating\n",
    "\n",
    "4 Extensions\n",
    "'''"
   ]
  },
  {
   "cell_type": "code",
   "execution_count": null,
   "id": "b7d37778-4c52-4936-937d-094869eb0015",
   "metadata": {},
   "outputs": [],
   "source": [
    "#question 3\n",
    "\n",
    "'''\n",
    "In Flask, app routing refers to the process of defining URL patterns (routes) and associating them with specific view functions. These view functions are responsible for handling incoming requests to the corresponding URLs and generating the appropriate responses to be sent back to the client.\n",
    "\n",
    "App routing in Flask is achieved using the @app.route() decorator, which allows developers to map specific URLs to Python functions. The decorator takes a URL pattern as its argument and binds the decorated function to that URL, making it accessible to clients when they visit that route.\n",
    "'''"
   ]
  },
  {
   "cell_type": "code",
   "execution_count": null,
   "id": "c829544e-ea32-4ecc-b78e-bbae5d6befef",
   "metadata": {},
   "outputs": [],
   "source": [
    "#question 4 \n",
    "\n",
    "from IPython.display import Image\n",
    "Image (filename=\"F:\\img\\1.png\", width=400, height=400)\n",
    "Image (filename=\"F:\\img\\2.png\", width=400, height=400)\n",
    "\n",
    "\n",
    "\n"
   ]
  },
  {
   "cell_type": "code",
   "execution_count": null,
   "id": "6ab90a97-7bfe-48b9-8c4f-6c06578835d9",
   "metadata": {},
   "outputs": [],
   "source": [
    "#question 5 \n",
    "\n",
    "\"the url_for() function is used for URL building. It is a useful function that generates URLs for specific routes based on the view function name and arguments provided. This helps maintain consistency and makes it easier to change URLs throughout your application without having to update them in multiple places.\"\n",
    "\n",
    "from flask import Flask, url_for\n",
    "\n",
    "app = Flask(__name__)\n",
    "\n",
    "\n",
    "if __name__ == '__main__':\n",
    "    with app.test_request_context():\n",
    "        home_url = url_for('home')\n",
    "        print(f'URL for home(): {home_url}')\n",
    "\n",
    "        # Demonstration of url_for() with the user_profile() function and an argument\n",
    "        username = 'john_doe'\n",
    "        user_profile_url = url_for('user_profile', username=username)\n",
    "        print(f'URL for user_profile(): {user_profile_url}')\n"
   ]
  }
 ],
 "metadata": {
  "kernelspec": {
   "display_name": "Python 3 (ipykernel)",
   "language": "python",
   "name": "python3"
  },
  "language_info": {
   "codemirror_mode": {
    "name": "ipython",
    "version": 3
   },
   "file_extension": ".py",
   "mimetype": "text/x-python",
   "name": "python",
   "nbconvert_exporter": "python",
   "pygments_lexer": "ipython3",
   "version": "3.10.8"
  }
 },
 "nbformat": 4,
 "nbformat_minor": 5
}
