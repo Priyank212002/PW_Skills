{
 "cells": [
  {
   "cell_type": "code",
   "execution_count": 11,
   "id": "ebbbf2e1-0b26-4e73-8120-0fabec5d25e6",
   "metadata": {},
   "outputs": [
    {
     "data": {
      "text/plain": [
       "120"
      ]
     },
     "execution_count": 11,
     "metadata": {},
     "output_type": "execute_result"
    }
   ],
   "source": [
    "#question 1 \n",
    "\n",
    "\"A class is a blueprint or a template for creating objects. It defines the properties (attributes) and behaviors (methods) that objects of that class will possess. Think of a class as a set of instructions that describe the characteristics and actions that an object created from that class can exhibit. It acts as a data type that encapsulates data and methods related to a specific entity\"\n",
    "\n",
    "class animals:\n",
    "    def sounds(self):\n",
    "        print(\"genric sound\")\n",
    "class dogs(animals):\n",
    "    def sounds(self):\n",
    "        print(\"Bark\")\n",
    "        \n",
    "\"An object is an instance of a class—a concrete realization of the class blueprint. When you create an object from a class, it inherits the attributes and behaviors defined in the class. Each object created from the same class can have its own unique set of attribute values, while still sharing the same methods.\"\n",
    "\n",
    "class Cars:\n",
    "    def __init__ (self,car_name,car_speed):\n",
    "        self.car_name=car_name\n",
    "        self.car_speed=car_speed\n",
    "        \n",
    "car_1 = Cars(\"honda\",120)\n",
    "\n",
    "car_1.car_speed"
   ]
  },
  {
   "cell_type": "code",
   "execution_count": null,
   "id": "82edfae9-35ac-4939-8866-88c67b7b99bd",
   "metadata": {},
   "outputs": [],
   "source": [
    "#question 2\n",
    "\n",
    "'''\n",
    "Four pillars of Oop's are -\n",
    "Encapsulation \n",
    "Abstraction \n",
    "Polymorphism\n",
    "Inheritance\n",
    "'''"
   ]
  },
  {
   "cell_type": "code",
   "execution_count": null,
   "id": "e2d74e30-75b5-4825-b913-1c873a8f3dc2",
   "metadata": {},
   "outputs": [],
   "source": [
    "#question 3\n",
    "\n",
    "'The __init__() function is a special method in Python classes that is used to initialize the attributes of an object when it is created. It is also known as the constructor method. The name __init__ is surrounded by double underscores before and after, indicating its special nature in Python.'\n",
    "\n",
    "class Cars:\n",
    "    def __init__ (self,car_name,car_speed):\n",
    "        self.car_name=car_name\n",
    "        self.car_speed=car_speed\n",
    "        \n",
    "car_1 = Cars(\"honda\",120)\n",
    "\n",
    "\n"
   ]
  },
  {
   "cell_type": "code",
   "execution_count": null,
   "id": "b6f6051b-4c2a-4b4e-be81-e7f676e69223",
   "metadata": {},
   "outputs": [],
   "source": [
    "#question 4\n",
    "\n",
    "'In Object-Oriented Programming (OOP), the self keyword is used as a reference to the current instance of a class. It is a convention in Python (and some other object-oriented languages) to use the name self as the first parameter in the method definitions within a class. The self parameter allows you to access and manipulate the attributes and methods of the instance (object) being operated on.'"
   ]
  },
  {
   "cell_type": "code",
   "execution_count": 25,
   "id": "b74a2e14-e4ba-407b-8dfc-9d11a00ee218",
   "metadata": {},
   "outputs": [
    {
     "data": {
      "text/plain": [
       "<bound method dogs.woof of <__main__.cats object at 0x7fdb4de4f820>>"
      ]
     },
     "execution_count": 25,
     "metadata": {},
     "output_type": "execute_result"
    }
   ],
   "source": [
    "#question 5 \n",
    "'''\n",
    " Inhertiance - Inheritance is a fundamental concept in object-oriented programming (OOP) that allows a class (called the subclass or derived class) to inherit properties and behaviors from another class (called the superclass or base class). The subclass can reuse the attributes and methods of the superclass, and it can also have its own specific attributes and methods.\n",
    "'''\n",
    "  \n",
    "'''\n",
    " Multiple inheritance\n",
    "'''\n",
    "    \n",
    "class mammals:\n",
    "    pass\n",
    "class insects:\n",
    "    pass\n",
    "class animals(mammals,insects):\n",
    "    pass\n",
    "'''\n",
    "Multilevel Inheritance\n",
    "'''\n",
    "class animal:\n",
    "    def sounds():\n",
    "        print('genric sound')\n",
    "class dogs(animal):\n",
    "    def woof():\n",
    "        print('bark')\n",
    "class cats(dogs):\n",
    "    def sounds():\n",
    "        print('meow')\n",
    "        \n",
    "cats=cats() \n",
    "cats.woof\n"
   ]
  },
  {
   "cell_type": "code",
   "execution_count": null,
   "id": "3ff678bf-1617-4e38-819e-b1fd3fcb0727",
   "metadata": {},
   "outputs": [],
   "source": []
  }
 ],
 "metadata": {
  "kernelspec": {
   "display_name": "Python 3 (ipykernel)",
   "language": "python",
   "name": "python3"
  },
  "language_info": {
   "codemirror_mode": {
    "name": "ipython",
    "version": 3
   },
   "file_extension": ".py",
   "mimetype": "text/x-python",
   "name": "python",
   "nbconvert_exporter": "python",
   "pygments_lexer": "ipython3",
   "version": "3.10.8"
  }
 },
 "nbformat": 4,
 "nbformat_minor": 5
}
