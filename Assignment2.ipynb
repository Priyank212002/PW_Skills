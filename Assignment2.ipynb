{
 "cells": [
  {
   "cell_type": "code",
   "execution_count": null,
   "id": "cd442392-6c59-43ba-8b03-d36bfccc2f9e",
   "metadata": {},
   "outputs": [],
   "source": [
    "#question 1\n",
    "\n",
    "Single-line comments: To add a comment that spans only a single line, you can use the hash symbol (#) \n",
    "Multi-linne comment: To add a multi line comment, you can use the ( \" \" \" ) \n",
    "                                                                   "
   ]
  },
  {
   "cell_type": "code",
   "execution_count": null,
   "id": "86d71618-9af6-4ae9-9092-3b8eee2c5356",
   "metadata": {},
   "outputs": [],
   "source": [
    "#question 2\n",
    "\n",
    "variables are used to store and manipulate data. A variable is like a container that holds a value, and the value can be of different types such as numbers, strings, lists, etc.\n",
    "\n",
    "To declare a variable in Python, you simply choose a name for the variable and use the assignment operator (=) to assign a value to it. "
   ]
  },
  {
   "cell_type": "code",
   "execution_count": null,
   "id": "5e0a6287-b10d-41aa-a19f-80aa0f1cb91e",
   "metadata": {},
   "outputs": [],
   "source": [
    "#question 3\n",
    "\n",
    "num_str = \"42\"\n",
    "num_int = int(num_str)     \n",
    "num_float = float(num_str) \n"
   ]
  },
  {
   "cell_type": "code",
   "execution_count": null,
   "id": "7e7ee29b-0f1d-406b-8b4f-c429d14cc80b",
   "metadata": {},
   "outputs": [],
   "source": [
    "#question 4\n",
    "\n",
    "Open a text editor and create a new file. You can use any text editor of your choice, such as Notepad, Sublime Text, or Visual Studio Code.\n",
    "\n",
    "Write your Python code in the text file and save it with a .py extension. For example, you can create a file named script.py and write your code inside it. Here's a simple \"Hello, world!\" script as an example:\n",
    "\n",
    "Navigate to the directory where you saved the Python script using the cd command. For example, if your script is saved in the Documents directory, you can navigate to it like this:\n",
    "\n",
    "Once youre in the correct directory, you can execute the Python script by typing python followed by the scripts filename. In our example, the command would be:\n",
    "python script.py\n",
    "\n",
    "This will run the Python interpreter, which will read and execute the code in your script.\n",
    "\n",
    "Press Enter, and you should see the output of your script in the command prompt or terminal:\n",
    "\n"
   ]
  },
  {
   "cell_type": "code",
   "execution_count": 5,
   "id": "624dad1a-7676-4553-bc62-15e151854f1e",
   "metadata": {},
   "outputs": [
    {
     "data": {
      "text/plain": [
       "[1, 2]"
      ]
     },
     "execution_count": 5,
     "metadata": {},
     "output_type": "execute_result"
    }
   ],
   "source": [
    "#question 5\n",
    "\n",
    "my_list = [1,2,3,4,5]\n",
    "sub_list = []\n",
    "\n",
    "for i in my_list:\n",
    "    if i == 1 or i == 2 :\n",
    "        sub_list.append(i)\n",
    "    \n",
    "    else:\n",
    "        None\n",
    "sub_list\n",
    "        \n"
   ]
  },
  {
   "cell_type": "code",
   "execution_count": null,
   "id": "f0f2d5e1-a29d-4b94-8bcf-3737fc64900d",
   "metadata": {},
   "outputs": [],
   "source": [
    "#question 6\n",
    "\n",
    "complex numbers are represented using the complex data type. The complex type is a built-in numeric type that allows you to work with complex numbers in Python. The complex numbers in Python are written in the form a + bj, where a and b are real numbers, and j (or J) denotes the imaginary unit.\n",
    "\n"
   ]
  },
  {
   "cell_type": "code",
   "execution_count": null,
   "id": "c5255bfa-d26f-4aa4-8379-17980bfcf9bf",
   "metadata": {},
   "outputs": [],
   "source": [
    "#question 7 \n",
    "\n",
    "age = int()\n",
    "\n",
    "age = 25 "
   ]
  },
  {
   "cell_type": "code",
   "execution_count": 6,
   "id": "5e6cb6dc-40cf-429f-9f5f-95132b2ab60b",
   "metadata": {},
   "outputs": [
    {
     "data": {
      "text/plain": [
       "float"
      ]
     },
     "execution_count": 6,
     "metadata": {},
     "output_type": "execute_result"
    }
   ],
   "source": [
    "#question 8\n",
    "\n",
    "price = 9.999\n",
    "\n",
    "type(price)"
   ]
  },
  {
   "cell_type": "code",
   "execution_count": 7,
   "id": "6fb5ca60-7ecf-4704-a5ac-64152af4408f",
   "metadata": {},
   "outputs": [
    {
     "name": "stdout",
     "output_type": "stream",
     "text": [
      "Priyank Sunil Nikalje\n"
     ]
    }
   ],
   "source": [
    "#question 9\n",
    "\n",
    "Name = \"Priyank Sunil Nikalje\"\n",
    "\n",
    "print(Name)"
   ]
  },
  {
   "cell_type": "code",
   "execution_count": null,
   "id": "7af82bc8-b394-4390-9807-875cbccb9433",
   "metadata": {},
   "outputs": [],
   "source": [
    "# question 10 \n",
    "\n",
    "string = \"Hello,Worl\""
   ]
  }
 ],
 "metadata": {
  "kernelspec": {
   "display_name": "Python 3 (ipykernel)",
   "language": "python",
   "name": "python3"
  },
  "language_info": {
   "codemirror_mode": {
    "name": "ipython",
    "version": 3
   },
   "file_extension": ".py",
   "mimetype": "text/x-python",
   "name": "python",
   "nbconvert_exporter": "python",
   "pygments_lexer": "ipython3",
   "version": "3.10.8"
  }
 },
 "nbformat": 4,
 "nbformat_minor": 5
}
