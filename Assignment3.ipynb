{
 "cells": [
  {
   "cell_type": "code",
   "execution_count": 6,
   "id": "23c36d8a-75ee-4b2b-9594-3520eeb2f901",
   "metadata": {},
   "outputs": [
    {
     "data": {
      "text/plain": [
       "[1, 3, 5, 7, 9, 11, 13, 15, 17, 19, 21, 23, 25]"
      ]
     },
     "execution_count": 6,
     "metadata": {},
     "output_type": "execute_result"
    }
   ],
   "source": [
    "#question 1\n",
    "\n",
    "\"def keyword is used to create a function\"\n",
    "\n",
    "a = [1,2,3,4,5,6,7,8,9,10,11,12,13,14,15,16,17,18,19,20,21,22,23,24,25]\n",
    "def odd():\n",
    "    l=[]\n",
    "    for i in a:\n",
    "        if (i%2 != 0):\n",
    "            l.append(i)\n",
    "    return l\n",
    "\n",
    "odd()\n",
    "\n"
   ]
  },
  {
   "cell_type": "code",
   "execution_count": 17,
   "id": "c544747c-564d-4541-a56c-722fcca060ed",
   "metadata": {},
   "outputs": [
    {
     "name": "stdout",
     "output_type": "stream",
     "text": [
      "1\n",
      "2\n",
      "3\n",
      "4\n",
      "5\n",
      "6\n",
      "name Alice\n",
      "age 25\n",
      "city New York\n"
     ]
    }
   ],
   "source": [
    "#question 2 \n",
    "\n",
    "\"The *args parameter is used to pass a variable number of positional arguments to a function. It allows you to pass any number of arguments to the function without explicitly specifying them. Inside the function, args becomes a tuple containing all the passed arguments.\"\n",
    "\n",
    "\n",
    "def a(*args):\n",
    "    for i in args:\n",
    "        print(i)\n",
    "        \n",
    "a(1,2,3,4,5,6)\n",
    "\n",
    "\n",
    "\"**kwargs parameter allows you to pass a variable number of keyword arguments to a function. It allows you to pass key-value pairs as arguments to the function, where the keys are the parameter names and the values are the corresponding values for those parameters. Inside the function, kwargs becomes a dictionary containing the passed keyword arguments.\"\n",
    "\n",
    "def b(**kwargs):\n",
    "    for key, value in kwargs.items():\n",
    "        print(key, value)\n",
    "\n",
    "b(name='Priyank', age=18,)\n"
   ]
  },
  {
   "cell_type": "code",
   "execution_count": 21,
   "id": "b1f58c60-17a0-4d61-b008-53096917b376",
   "metadata": {},
   "outputs": [
    {
     "name": "stdout",
     "output_type": "stream",
     "text": [
      "2\n",
      "4\n",
      "6\n",
      "8\n",
      "10\n"
     ]
    }
   ],
   "source": [
    "#question 3\n",
    "'''\n",
    "The __iter__() method is used to initialize the iterator object. It returns the iterator object itself and is typically implemented to return self. This method is called when you want to iterate over the elements of an object.\n",
    "\n",
    "The __next__() method is used for iteration. It returns the next item from the iterator. If there are no more items to return, it should raise the StopIteration exception. This method is called repeatedly in a loop to retrieve the next element from the iterator.\"\n",
    "'''\n",
    "l1 = [2,4,6,8,10,12,14,16,18,20]\n",
    "\n",
    "def a(l1):\n",
    "    count=0\n",
    "    for i in l1:\n",
    "        yield i\n",
    "        count+= 1 \n",
    "        if count == 5:\n",
    "            break\n",
    "        \n",
    "generate = a(l1)\n",
    "\n",
    "for i in generate:\n",
    "    print(i)\n",
    "\n",
    "\n",
    "        "
   ]
  },
  {
   "cell_type": "code",
   "execution_count": null,
   "id": "af5f7023-eda9-4d56-8ff8-1963c3c7f9d5",
   "metadata": {},
   "outputs": [],
   "source": [
    "#question 4\n",
    "\n",
    "\"a generator function is a special type of function that returns an iterator object called a generator. It uses the yield keyword to produce a sequence of values one at a time\"\n",
    "\n",
    "def a(l1):\n",
    "    count=0\n",
    "    for i in l1:\n",
    "        yield i\n",
    "        count+= 1 \n",
    "        if count == 5:\n",
    "            break\n"
   ]
  },
  {
   "cell_type": "code",
   "execution_count": 32,
   "id": "d9392f69-b402-4c6f-9b49-a440247b854c",
   "metadata": {},
   "outputs": [
    {
     "ename": "SyntaxError",
     "evalue": "invalid syntax (1926654567.py, line 3)",
     "output_type": "error",
     "traceback": [
      "\u001b[0;36m  Cell \u001b[0;32mIn[32], line 3\u001b[0;36m\u001b[0m\n\u001b[0;31m    def check_prime:\u001b[0m\n\u001b[0m                   ^\u001b[0m\n\u001b[0;31mSyntaxError\u001b[0m\u001b[0;31m:\u001b[0m invalid syntax\n"
     ]
    }
   ],
   "source": [
    "#question 5\n",
    "\n",
    "def check_prime :\n",
    "    for i in range(2,1001):\n",
    "        for j in range(2,i):\n",
    "            if i%j==0:\n",
    "                break\n",
    "            else:\n",
    "                yield i \n",
    "for i in range(21):\n",
    "    print(next(check_prime()))"
   ]
  },
  {
   "cell_type": "code",
   "execution_count": 23,
   "id": "e520e9cb-ba2d-4f03-81b5-0ff83631c29b",
   "metadata": {},
   "outputs": [
    {
     "name": "stdout",
     "output_type": "stream",
     "text": [
      "0\n",
      "1\n",
      "1\n",
      "2\n",
      "3\n",
      "5\n",
      "8\n",
      "13\n",
      "21\n",
      "34\n"
     ]
    }
   ],
   "source": [
    "#question 6 \n",
    "\n",
    "a = 0\n",
    "b = 1\n",
    "\n",
    "print(a)\n",
    "print(b)\n",
    "\n",
    "i=3\n",
    "\n",
    "while(i<=10):\n",
    "    c = a+b\n",
    "    print(c)\n",
    "    \n",
    "    a=b\n",
    "    b=c\n",
    "    \n",
    "    i+=1"
   ]
  },
  {
   "cell_type": "code",
   "execution_count": 25,
   "id": "9456856f-8fb8-447b-b5d7-b71ab0fed434",
   "metadata": {},
   "outputs": [
    {
     "data": {
      "text/plain": [
       "['p', 'w', 's', 'k', 'i', 'l', 'l', 's']"
      ]
     },
     "execution_count": 25,
     "metadata": {},
     "output_type": "execute_result"
    }
   ],
   "source": [
    "#question 7\n",
    "\n",
    "s = \"pwskills\"\n",
    "l = []\n",
    "\n",
    "for i in s:\n",
    "    l.append(i)\n",
    "    \n",
    "l"
   ]
  },
  {
   "cell_type": "code",
   "execution_count": 29,
   "id": "620addf4-08a1-4412-a241-7819c9bb7df6",
   "metadata": {},
   "outputs": [
    {
     "name": "stdout",
     "output_type": "stream",
     "text": [
      "Its a palindrome\n"
     ]
    }
   ],
   "source": [
    "#question 8\n",
    "n = 121\n",
    "\n",
    "\n",
    "def palin(n):\n",
    "    \n",
    "    n = str(n)\n",
    "    \n",
    "    if(n==n[::-1]):\n",
    "        print(\"Its a palindrome\")\n",
    "    \n",
    "    else:\n",
    "        print(\"Its not a palindrome\")\n",
    "        \n",
    "palin(n)"
   ]
  },
  {
   "cell_type": "code",
   "execution_count": 30,
   "id": "ea78a81d-874e-4c5c-93cc-367f94bd0b86",
   "metadata": {},
   "outputs": [
    {
     "data": {
      "text/plain": [
       "[1,\n",
       " 3,\n",
       " 5,\n",
       " 7,\n",
       " 9,\n",
       " 11,\n",
       " 13,\n",
       " 15,\n",
       " 17,\n",
       " 19,\n",
       " 21,\n",
       " 23,\n",
       " 25,\n",
       " 27,\n",
       " 29,\n",
       " 31,\n",
       " 33,\n",
       " 35,\n",
       " 37,\n",
       " 39,\n",
       " 41,\n",
       " 43,\n",
       " 45,\n",
       " 47,\n",
       " 49,\n",
       " 51,\n",
       " 53,\n",
       " 55,\n",
       " 57,\n",
       " 59,\n",
       " 61,\n",
       " 63,\n",
       " 65,\n",
       " 67,\n",
       " 69,\n",
       " 71,\n",
       " 73,\n",
       " 75,\n",
       " 77,\n",
       " 79,\n",
       " 81,\n",
       " 83,\n",
       " 85,\n",
       " 87,\n",
       " 89,\n",
       " 91,\n",
       " 93,\n",
       " 95,\n",
       " 97,\n",
       " 99]"
      ]
     },
     "execution_count": 30,
     "metadata": {},
     "output_type": "execute_result"
    }
   ],
   "source": [
    "#question 9 \n",
    "\n",
    "\n",
    "def odd():\n",
    "    l=[]\n",
    "    for i in range(1,101):\n",
    "        if (i%2 != 0):\n",
    "            l.append(i)\n",
    "    return l\n",
    "\n",
    "odd()\n"
   ]
  },
  {
   "cell_type": "code",
   "execution_count": null,
   "id": "bbd68200-8429-43ca-9738-e02a5932fdeb",
   "metadata": {},
   "outputs": [],
   "source": []
  }
 ],
 "metadata": {
  "kernelspec": {
   "display_name": "Python 3 (ipykernel)",
   "language": "python",
   "name": "python3"
  },
  "language_info": {
   "codemirror_mode": {
    "name": "ipython",
    "version": 3
   },
   "file_extension": ".py",
   "mimetype": "text/x-python",
   "name": "python",
   "nbconvert_exporter": "python",
   "pygments_lexer": "ipython3",
   "version": "3.10.8"
  }
 },
 "nbformat": 4,
 "nbformat_minor": 5
}
