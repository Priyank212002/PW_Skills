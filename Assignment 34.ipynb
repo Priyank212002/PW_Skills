{
 "cells": [
  {
   "cell_type": "code",
   "execution_count": 1,
   "id": "7862f628-ce34-4ca9-b87b-bca8b209c4fb",
   "metadata": {},
   "outputs": [
    {
     "name": "stdout",
     "output_type": "stream",
     "text": [
      "0.6521739130434782 5.050329057632646\n"
     ]
    }
   ],
   "source": [
    "#question 1\n",
    "\n",
    "import numpy as np \n",
    "import scipy.stats as stats\n",
    "\n",
    "A = [1,2,3,4,5,6]\n",
    "B = [7,8,9,4,6,3]\n",
    "significance_value = 0.05\n",
    "df1 = len(A) - 1\n",
    "df2 = len(B) - 1\n",
    "\n",
    "F_test = np.var(A)/np.var(B)\n",
    "\n",
    "p_value = stats.f.ppf(1-significance_value,df1,df2)\n",
    "\n",
    "print(F_test,p_value)"
   ]
  },
  {
   "cell_type": "code",
   "execution_count": 2,
   "id": "f2f5f0f0-b514-44a8-a9be-25a0e2eda055",
   "metadata": {},
   "outputs": [],
   "source": [
    "#question 2 \n",
    "\n",
    "import scipy.stats\n",
    "\n",
    "def critical_value(df1,df2,alpha = 0.05):\n",
    "    two_tail_alpha = alpha/2\n",
    "    f_value = stats.f.ppf(1-two_tail_alpha,df1,df2)\n",
    "    return f_value"
   ]
  },
  {
   "cell_type": "code",
   "execution_count": 6,
   "id": "7fb5ed75-b10c-4160-8ef0-6322d2a76489",
   "metadata": {},
   "outputs": [
    {
     "name": "stdout",
     "output_type": "stream",
     "text": [
      "0.5384615384615384 18.999999999999982\n"
     ]
    }
   ],
   "source": [
    "#question 3 \n",
    "\n",
    "import random\n",
    "\n",
    "A = [1,2,3,4,5,6]\n",
    "B = [7,8,9,4,6,3]\n",
    "A1 = random.sample(A,3)\n",
    "B1 = random.sample(B,3)\n",
    "significance_value = 0.05\n",
    "df1 = len(A1) - 1\n",
    "df2 = len(B1) - 1\n",
    "\n",
    "F_test = np.var(A1)/np.var(B1)\n",
    "\n",
    "p_value = stats.f.ppf(1-significance_value,df1,df2)\n",
    "\n",
    "print(F_test,p_value)\n"
   ]
  },
  {
   "cell_type": "code",
   "execution_count": 7,
   "id": "be226bef-17de-4a37-b807-a3041e88b99b",
   "metadata": {},
   "outputs": [
    {
     "name": "stdout",
     "output_type": "stream",
     "text": [
      "Fail to reject the null hypothesis: Variances are not significantly different.\n"
     ]
    }
   ],
   "source": [
    "#question 4 \n",
    "\n",
    "import scipy.stats as stats\n",
    "\n",
    "variance1 = 10\n",
    "variance2 = 15\n",
    "n1 = 12\n",
    "n2 = 12\n",
    "df1 = n1 - 1\n",
    "df2 = n2 - 1\n",
    "f_statistic = variance1 / variance2\n",
    "alpha = 0.05\n",
    "critical_f = stats.f.ppf(1 - alpha / 2, df1, df2)\n",
    "if f_statistic > critical_f:\n",
    "    print(\"Reject the null hypothesis: Variances are significantly different.\")\n",
    "else:\n",
    "    print(\"Fail to reject the null hypothesis: Variances are not significantly different.\")\n"
   ]
  },
  {
   "cell_type": "code",
   "execution_count": 8,
   "id": "bee28f93-98d5-4997-a9f7-c790c4ee97b0",
   "metadata": {},
   "outputs": [
    {
     "name": "stdout",
     "output_type": "stream",
     "text": [
      "Fail to reject the null hypothesis\n"
     ]
    }
   ],
   "source": [
    "#question 5 \n",
    "\n",
    "import scipy.stats as stats\n",
    "\n",
    "variance1 = 0.005\n",
    "variance2 = 0.006\n",
    "n1 = 25\n",
    "n2 = 25\n",
    "df1 = n1 - 1\n",
    "df2 = n2 - 1\n",
    "f_statistic = variance1 / variance2\n",
    "alpha = 0.01\n",
    "critical_f = stats.f.ppf(1 - alpha / 2, df1, df2)\n",
    "if f_statistic > critical_f:\n",
    "    print(\"Reject the null hypothesis\")\n",
    "else:\n",
    "    print(\"Fail to reject the null hypothesis\")"
   ]
  },
  {
   "cell_type": "code",
   "execution_count": null,
   "id": "3db23088-f78e-4847-b131-3d45cf94f224",
   "metadata": {},
   "outputs": [],
   "source": [
    "#question 6 \n",
    "\n",
    "def f_distribution_mean_and_variance(df1, df2):\n",
    "    mean = df2 / (df2 - 2)  \n",
    "    variance_numerator = 2 * df2 ** 2 * (df1 + df2 - 2)  \n",
    "    variance_denominator = df1 * (df2 - 2) ** 2 * (df2 - 4)\n",
    "    variance = (variance_numerator / (df1 * (df2 - 2) ** 2 * (df2 - 4)))  \n",
    "    return mean, variance"
   ]
  },
  {
   "cell_type": "code",
   "execution_count": 11,
   "id": "06689f4f-eafd-48aa-9771-458d774c8703",
   "metadata": {},
   "outputs": [
    {
     "name": "stdout",
     "output_type": "stream",
     "text": [
      "Fail to reject the null hypothesis\n"
     ]
    }
   ],
   "source": [
    "#question 7\n",
    "\n",
    "variance1 = 25\n",
    "variance2 = 20\n",
    "n1 = 10\n",
    "n2 = 15\n",
    "df1 = n1 - 1\n",
    "df2 = n2 - 1\n",
    "f_statistic = variance1 / variance2\n",
    "alpha = 0.1\n",
    "critical_f = stats.f.ppf(1 - alpha , df1, df2)\n",
    "if f_statistic > critical_f:\n",
    "    print(\"Reject the null hypothesis\")\n",
    "else:\n",
    "    print(\"Fail to reject the null hypothesis\")"
   ]
  },
  {
   "cell_type": "code",
   "execution_count": 12,
   "id": "50c8aa99-849c-4f69-9722-1f5c8872189a",
   "metadata": {},
   "outputs": [
    {
     "name": "stdout",
     "output_type": "stream",
     "text": [
      "Fail to reject the null hypothesis\n"
     ]
    }
   ],
   "source": [
    "#question 8 \n",
    "\n",
    "import numpy as np \n",
    "import scipy.stats as stats\n",
    "\n",
    "A = [24, 25, 28, 23, 22, 20, 27]\n",
    "B = [31, 33, 35, 30, 32, 36]\n",
    "significance_value = 0.05\n",
    "df1 = len(A) - 1\n",
    "df2 = len(B) - 1\n",
    "\n",
    "F_test = np.var(A)/np.var(B)\n",
    "\n",
    "p_value = stats.f.ppf(1-significance_value,df1,df2)\n",
    "\n",
    "if F_test > p_value:\n",
    "    print(\"Reject the null hypothesis\")\n",
    "else:\n",
    "    print(\"Fail to reject the null hypothesis\")"
   ]
  },
  {
   "cell_type": "code",
   "execution_count": 13,
   "id": "d67a70c1-0682-40c0-9aa6-1c647afc5fe3",
   "metadata": {},
   "outputs": [
    {
     "name": "stdout",
     "output_type": "stream",
     "text": [
      "Fail to reject the null hypothesis: Variances are not significantly different.\n"
     ]
    }
   ],
   "source": [
    "#question 9 \n",
    "import numpy as np \n",
    "import scipy.stats as stats\n",
    "\n",
    "A = [A: 24, 25, 28, 23, 22, 20, 27]\n",
    "B = []\n",
    "significance_value = 0.05\n",
    "df1 = len(A) - 1\n",
    "df2 = len(B) - 1\n",
    "\n",
    "F_test = np.var(A)/np.var(B)\n",
    "\n",
    "p_value = stats.f.ppf(1-significance_value,df1,df2)\n",
    "\n",
    "if F_test > p_value:\n",
    "    print(\"Reject the null hypothesis\")\n",
    "else:\n",
    "    print(\"Fail to reject the null hypothesis\")\n"
   ]
  },
  {
   "cell_type": "code",
   "execution_count": null,
   "id": "9e6c6d3d-e836-4fad-97a2-367d9f5abbae",
   "metadata": {},
   "outputs": [],
   "source": []
  }
 ],
 "metadata": {
  "kernelspec": {
   "display_name": "Python 3 (ipykernel)",
   "language": "python",
   "name": "python3"
  },
  "language_info": {
   "codemirror_mode": {
    "name": "ipython",
    "version": 3
   },
   "file_extension": ".py",
   "mimetype": "text/x-python",
   "name": "python",
   "nbconvert_exporter": "python",
   "pygments_lexer": "ipython3",
   "version": "3.10.8"
  }
 },
 "nbformat": 4,
 "nbformat_minor": 5
}
