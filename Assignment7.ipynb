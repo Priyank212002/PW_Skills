{
 "cells": [
  {
   "cell_type": "code",
   "execution_count": null,
   "id": "8bbe727a-1b42-4826-8567-6a48d2acd578",
   "metadata": {},
   "outputs": [],
   "source": [
    "#question 1\n",
    "\n",
    "\"an exception is an event that occurs during the execution of a program that disrupts the normal flow of the program's instructions. When an exceptional situation arises, Python raises an exception, which can be caught and handled by the program to prevent it from terminating abruptly.\"\n",
    "\n",
    "\"difference between exception and syntax error are - \n",
    "1 Nature of Occurence\n",
    "\n",
    "2 Time of detection \n",
    "\n",
    "3 Handling\n",
    "\n",
    "\n",
    "\"\n"
   ]
  },
  {
   "cell_type": "code",
   "execution_count": 2,
   "id": "38f8ea56-8f70-46cb-ace1-e4f64edf860e",
   "metadata": {},
   "outputs": [
    {
     "ename": "ZeroDivisionError",
     "evalue": "division by zero",
     "output_type": "error",
     "traceback": [
      "\u001b[0;31m---------------------------------------------------------------------------\u001b[0m",
      "\u001b[0;31mZeroDivisionError\u001b[0m                         Traceback (most recent call last)",
      "Cell \u001b[0;32mIn[2], line 5\u001b[0m\n\u001b[1;32m      1\u001b[0m \u001b[38;5;66;03m#question 2\u001b[39;00m\n\u001b[1;32m      3\u001b[0m \u001b[38;5;124m\"\u001b[39m\u001b[38;5;124mif the exception is noy handled then the code will not run properly and it will throw error\u001b[39m\u001b[38;5;124m\"\u001b[39m\n\u001b[0;32m----> 5\u001b[0m a \u001b[38;5;241m=\u001b[39m \u001b[38;5;241;43m10\u001b[39;49m\u001b[38;5;241;43m/\u001b[39;49m\u001b[38;5;241;43m0\u001b[39;49m\n\u001b[1;32m      6\u001b[0m a\n\u001b[1;32m      7\u001b[0m \u001b[38;5;28mprint\u001b[39m(\u001b[38;5;124m\"\u001b[39m\u001b[38;5;124mhello world\u001b[39m\u001b[38;5;124m\"\u001b[39m)\n",
      "\u001b[0;31mZeroDivisionError\u001b[0m: division by zero"
     ]
    }
   ],
   "source": [
    "#question 2\n",
    "\n",
    "\"if the exception is noy handled then the code will not run properly and it will throw error\"\n",
    "\n",
    "a = 10/0\n",
    "a\n",
    "print(\"hello world\")"
   ]
  },
  {
   "cell_type": "code",
   "execution_count": 4,
   "id": "25037e81-165f-47e0-9ff3-c317a46fbcf9",
   "metadata": {},
   "outputs": [
    {
     "name": "stdin",
     "output_type": "stream",
     "text": [
      "enter a number :  0\n"
     ]
    },
    {
     "name": "stdout",
     "output_type": "stream",
     "text": [
      "Not possible\n",
      "its done\n"
     ]
    }
   ],
   "source": [
    "#question 3\n",
    "\n",
    "'''\n",
    "try\n",
    "finally\n",
    "except\n",
    "'''\n",
    "\n",
    "try:\n",
    "    a=int(input(\"enter a number : \"))\n",
    "    result = 10/a\n",
    "    print(\"Result\",result)\n",
    "except ZeroDivisionError:\n",
    "     print(\"Error\")\n",
    "finally:\n",
    "    print(\"its done\")\n"
   ]
  },
  {
   "cell_type": "code",
   "execution_count": null,
   "id": "d13158ed-554b-4b36-84dc-4af2f1ba355e",
   "metadata": {},
   "outputs": [],
   "source": [
    "#question 4\n",
    "\n",
    "\n",
    "try:\n",
    "    a=int(input(\"enter a number : \"))\n",
    "    result = 10/a\n",
    "    print(\"Result\",result)\n",
    "except ZeroDivisionError:\n",
    "     print(\"Error\")\n",
    "else:\n",
    "    print(\"Not done\")\n",
    "raise: \n",
    "    if a >\n",
    "finally:\n",
    "    print(\"its done\")\n",
    "    \n"
   ]
  },
  {
   "cell_type": "code",
   "execution_count": null,
   "id": "a2c27348-4a63-43d8-b7fa-36465d53a445",
   "metadata": {},
   "outputs": [],
   "source": [
    "#auestion 5 \n",
    "\n",
    "#question 5 \n",
    "\n",
    "\"custom exception sre the exception that are beign not present in the system and the custom exception are the user in built in exceptions\"\n",
    "\n",
    "try:\n",
    "    age = int(input(\"Enter your age\"))\n",
    "    \n",
    "raise:\n",
    "    if age = 0:\n",
    "        print(\"age cant be zero\")\n",
    "    elif age < 0:\n",
    "        print(\"age can't be neagative\")\n",
    "    else:\n",
    "        print(\"your age is : \" , age)\n"
   ]
  },
  {
   "cell_type": "code",
   "execution_count": null,
   "id": "cdb15750-aaf8-41e3-9948-b4ec874d5e2a",
   "metadata": {},
   "outputs": [],
   "source": [
    "#question 6 \n",
    "\n",
    "try:\n",
    "    age = int(input(\"Enter your age\"))\n",
    "    \n",
    "raise:\n",
    "    if age = 0:\n",
    "        print(\"age cant be zero\")\n",
    "    elif age < 0:\n",
    "        print(\"age can't be neagative\")\n",
    "    else:\n",
    "        print(\"your age is : \" , age)"
   ]
  }
 ],
 "metadata": {
  "kernelspec": {
   "display_name": "Python 3 (ipykernel)",
   "language": "python",
   "name": "python3"
  },
  "language_info": {
   "codemirror_mode": {
    "name": "ipython",
    "version": 3
   },
   "file_extension": ".py",
   "mimetype": "text/x-python",
   "name": "python",
   "nbconvert_exporter": "python",
   "pygments_lexer": "ipython3",
   "version": "3.10.8"
  }
 },
 "nbformat": 4,
 "nbformat_minor": 5
}
