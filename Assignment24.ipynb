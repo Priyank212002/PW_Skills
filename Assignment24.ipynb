{
 "cells": [
  {
   "cell_type": "code",
   "execution_count": null,
   "id": "cb82fe9a-5370-4a16-b6ca-3d2111413b1a",
   "metadata": {},
   "outputs": [],
   "source": [
    "#question 1\n",
    "import seaborn as sns\n",
    "import pandas as pd\n",
    "import plotly.express as px\n",
    "\n",
    "titanic_data = sns.load_dataset(\"titanic\")\n",
    "scatter_plot = px.scatter(titanic_data, x=\"age\", y=\"fare\", title=\"Age vs Fare Scatter Plot\")\n",
    "\n",
    "\n",
    "scatter_plot.show()\n"
   ]
  },
  {
   "cell_type": "code",
   "execution_count": null,
   "id": "41a27da3-faaf-442b-aa5d-00fffad835da",
   "metadata": {},
   "outputs": [],
   "source": [
    "#question 2 \n",
    "\n",
    "import seaborn as sns\n",
    "import pandas as pd\n",
    "import plotly.express as px\n",
    "\n",
    "tips_data = sns.load_dataset(\"tips\")\n",
    "box_plot = px.box(tips_data,x='total_bill',y='tip')\n",
    "\n",
    "box_plot.show()"
   ]
  },
  {
   "cell_type": "code",
   "execution_count": null,
   "id": "dea37d42-8d10-4400-b2e2-b7b383d54744",
   "metadata": {},
   "outputs": [],
   "source": [
    "#question 3 \n",
    "\n",
    "import seaborn as sns\n",
    "import pandas as pd\n",
    "import plotly.express as px\n",
    "\n",
    "tips_data = sns.load_dataset(\"tips\")\n",
    "hist_plot = px.histogram(tips_data,x='total_bill',pattern_shape = 'smoker',color='day')\n",
    "\n",
    "hist_plot.show()"
   ]
  },
  {
   "cell_type": "code",
   "execution_count": 1,
   "id": "e00b0325-f9f5-4126-af58-e7782ecf80a8",
   "metadata": {},
   "outputs": [
    {
     "ename": "ModuleNotFoundError",
     "evalue": "No module named 'plotly'",
     "output_type": "error",
     "traceback": [
      "\u001b[0;31m---------------------------------------------------------------------------\u001b[0m",
      "\u001b[0;31mModuleNotFoundError\u001b[0m                       Traceback (most recent call last)",
      "Cell \u001b[0;32mIn[1], line 5\u001b[0m\n\u001b[1;32m      3\u001b[0m \u001b[38;5;28;01mfrom\u001b[39;00m \u001b[38;5;21;01mpandas\u001b[39;00m\u001b[38;5;21;01m.\u001b[39;00m\u001b[38;5;21;01mplotting\u001b[39;00m \u001b[38;5;28;01mimport\u001b[39;00m scatter_matrix\n\u001b[1;32m      4\u001b[0m \u001b[38;5;28;01mimport\u001b[39;00m \u001b[38;5;21;01mseaborn\u001b[39;00m \u001b[38;5;28;01mas\u001b[39;00m \u001b[38;5;21;01msns\u001b[39;00m\n\u001b[0;32m----> 5\u001b[0m \u001b[38;5;28;01mimport\u001b[39;00m \u001b[38;5;21;01mplotly\u001b[39;00m\u001b[38;5;21;01m.\u001b[39;00m\u001b[38;5;21;01mexpress\u001b[39;00m \u001b[38;5;28;01mas\u001b[39;00m \u001b[38;5;21;01mpx\u001b[39;00m\n\u001b[1;32m      7\u001b[0m iris_dataset \u001b[38;5;241m=\u001b[39m sns\u001b[38;5;241m.\u001b[39mload_dataset(\u001b[38;5;124m'\u001b[39m\u001b[38;5;124miris\u001b[39m\u001b[38;5;124m'\u001b[39m)\n\u001b[1;32m      8\u001b[0m scatter_matrix(iris_dataset)\n",
      "\u001b[0;31mModuleNotFoundError\u001b[0m: No module named 'plotly'"
     ]
    }
   ],
   "source": [
    "\n",
    "#question 4 \n",
    "\n",
    "from pandas.plotting import scatter_matrix\n",
    "import seaborn as sns\n",
    "import plotly.express as px\n",
    "\n",
    "iris_dataset = sns.load_dataset('iris')\n",
    "scatter_matrix(iris_dataset)"
   ]
  },
  {
   "cell_type": "code",
   "execution_count": null,
   "id": "8976b96a-5b09-48ac-adc6-6f07f5e88f63",
   "metadata": {},
   "outputs": [],
   "source": [
    "#question 5 \n",
    "\n",
    "\"distplot is a function that used to be part of the Seaborn data visualization library in Python. Seaborn is built on top of Matplotlib and provides a high-level interface for creating attractive and informative statistical graphics. However, as of Seaborn version 0.11.0 (released in January 2021), the distplot function has been deprecated and replaced with other functions due to some limitations and to provide a more consistent API.\"\n",
    "\n",
    "import plotly.express as px\n",
    "import numpy as np\n",
    "import plotly.figure_factory as ff\n",
    "data = px.data.tips()\n",
    "figure = px.box(data_frame = data, x=\"time\", y=\"tip\")\n",
    "data = px.data.tips()\n",
    "figure = px.box(data_frame = data, x=\"day\", y=\"tip\", points=\"all\")\n",
    "hist_data = [np.random.randn(100)]\n",
    "labels = ['distplot']\n",
    "figure = ff.create_distplot(hist_data, labels)\n",
    "figure.show()\n"
   ]
  }
 ],
 "metadata": {
  "kernelspec": {
   "display_name": "Python 3 (ipykernel)",
   "language": "python",
   "name": "python3"
  },
  "language_info": {
   "codemirror_mode": {
    "name": "ipython",
    "version": 3
   },
   "file_extension": ".py",
   "mimetype": "text/x-python",
   "name": "python",
   "nbconvert_exporter": "python",
   "pygments_lexer": "ipython3",
   "version": "3.10.8"
  }
 },
 "nbformat": 4,
 "nbformat_minor": 5
}
