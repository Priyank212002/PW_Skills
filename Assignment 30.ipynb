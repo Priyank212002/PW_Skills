{
 "cells": [
  {
   "cell_type": "code",
   "execution_count": null,
   "id": "7ab8a406-3a3d-4924-92d0-efd929e6ae57",
   "metadata": {},
   "outputs": [],
   "source": [
    "#question 1\n",
    "\n",
    "'''\n",
    "Estimation statistics is a branch of statistics that deals with making inferences or predictions about population parameters (such as the mean, variance, proportion, etc.) based on information gathered from a sample of data. Estimation involves using sample data to estimate or approximate these population parameters.\n",
    "\n",
    "There are two main types of estimation in statistics: point estimation and interval estimation.\n",
    "\n",
    "Point Estimate:\n",
    "\n",
    "A point estimate is a single, specific value that is used to estimate the unknown population parameter. It provides a \"best guess\" or a single numerical approximation of the parameter.\n",
    "For example, if you calculate the sample mean (average) from a sample of data, and you use this sample mean as an estimate of the population mean, that sample mean is a point estimate.\n",
    "Formula for Point Estimate:\n",
    "\n",
    "Point Estimate = Sample Statistic (e.g., sample mean, sample proportion)\n",
    "Point estimates are simple and easy to interpret, but they do not provide information about the uncertainty associated with the estimate. Interval estimation addresses this limitation.\n",
    "\n",
    "Interval Estimate:\n",
    "\n",
    "An interval estimate, also known as a confidence interval, provides a range of values within which the true population parameter is likely to fall, along with a level of confidence associated with this range.\n",
    "It takes into account the uncertainty inherent in estimating a parameter from a sample.\n",
    "The confidence interval consists of both a point estimate and a margin of error, and it is constructed such that it captures the parameter with a specified level of confidence (e.g., 95% or 99%).\n",
    "'''"
   ]
  },
  {
   "cell_type": "code",
   "execution_count": 2,
   "id": "d6dee0c2-ca0f-4650-a205-fe737efa7f6b",
   "metadata": {},
   "outputs": [
    {
     "name": "stdout",
     "output_type": "stream",
     "text": [
      "The population Mean is : 1\n"
     ]
    }
   ],
   "source": [
    "#question 2 \n",
    "\n",
    "def estimate(sample_mean,sample_std):\n",
    "    population_mean = sample_mean\n",
    "    \n",
    "    return sample_mean\n",
    "\n",
    "print(f\"The population Mean is : {estimate(1,1.5)}\")"
   ]
  },
  {
   "cell_type": "code",
   "execution_count": null,
   "id": "e50265a4-6bed-431b-8294-fc954b3a7ac5",
   "metadata": {},
   "outputs": [],
   "source": [
    "#question 3 \n",
    "\n",
    "'''\n",
    "Hypothesis testing is a fundamental statistical technique used to make decisions and draw conclusions about populations based on sample data. It is a structured and systematic process used to assess the validity of a claim or hypothesis about a population parameter, such as the population mean, population proportion, population variance, and so on. Hypothesis testing is commonly used in scientific research, quality control, business decision-making, and many other fields.\n",
    "\n",
    "it is important for \n",
    "\n",
    "Testing Research Hypotheses\n",
    "Quality Control and Process Improvement\n",
    "Business Decision-Making\n",
    "\n",
    "'''"
   ]
  },
  {
   "cell_type": "code",
   "execution_count": 4,
   "id": "81c6858f-a295-4af5-940a-6227231e8d8d",
   "metadata": {},
   "outputs": [
    {
     "name": "stdout",
     "output_type": "stream",
     "text": [
      "Reject the null hypothesis. There is enough evidence to suggest that the average weight of male college students is greater than that of female college students.\n"
     ]
    }
   ],
   "source": [
    "#question 4 \n",
    "\n",
    "import numpy as np\n",
    "from scipy import stats\n",
    "\n",
    "male_weights = np.array([150, 160, 170, 180, 190, 200])\n",
    "female_weights = np.array([140, 150, 155, 160, 165, 170])\n",
    "t_statistic, p_value = stats.ttest_ind(male_weights, female_weights, alternative='greater')\n",
    "alpha = 0.05\n",
    "if p_value < alpha:\n",
    "    print(\"Reject the null hypothesis.\")\n",
    "else:\n",
    "    print(\" to reject the null hypothesis\")\n"
   ]
  },
  {
   "cell_type": "code",
   "execution_count": null,
   "id": "421f25be-8f45-4354-b0c9-de1d66e4f7ab",
   "metadata": {},
   "outputs": [],
   "source": [
    "#question 5 \n",
    "\n",
    "import numpy as np\n",
    "from scipy import stats\n",
    "sample1 = np.array([85, 92, 78, 88, 96, 89, 90, 85, 88, 82])\n",
    "sample2 = np.array([76, 81, 75, 71, 78, 86, 80, 77, 82, 79])\n",
    "alpha = 0.05\n",
    "t_statistic, p_value = stats.ttest_ind(sample1, sample2, equal_var=False)\n",
    "print(f\"t-statistic: {t_statistic}\")\n",
    "print(f\"p-value: {p_value}\")\n",
    "if p_value < alpha:\n",
    "    print(\"Reject the null hypothesis. There is a significant difference between the means.\")\n",
    "else:\n",
    "    print(\"Fail to reject the null hypothesis. There is no significant difference between the means.\")\n"
   ]
  },
  {
   "cell_type": "code",
   "execution_count": null,
   "id": "eed1f862-5057-46a2-ac11-70c19a1a43d4",
   "metadata": {},
   "outputs": [],
   "source": [
    "#question 6\n",
    "\n",
    "'''\n",
    "In hypothesis testing, the null hypothesis (often denoted as H0) and the alternative hypothesis (often denoted as Ha or H1) are two competing statements about a population or a statistical relationship that you want to test. These hypotheses help you make decisions based on sample data and statistical analysis. Here are examples of null and alternative hypotheses:\n",
    "\n",
    "Example: Testing a New Drug\n",
    "\n",
    "Null Hypothesis (H0): The new drug has no effect, and its performance is the same as a placebo.\n",
    "\n",
    "Alternative Hypothesis (Ha): The new drug has a significant effect, and its performance is different from that of a placebo.\n",
    "\n",
    "In this example, you would conduct a study to determine if the new drug has a measurable impact compared to a placebo. The null hypothesis assumes no effect, while the alternative hypothesis suggests a significant effect.\n",
    "'''"
   ]
  },
  {
   "cell_type": "code",
   "execution_count": null,
   "id": "a7e230ee-1960-4d71-a6f8-7763e253ea08",
   "metadata": {},
   "outputs": [],
   "source": [
    "#question 7 \n",
    "\n",
    "'''\n",
    "Formulate the Null Hypothesis and Alternative Hypothesis \n",
    "Choose the Significance Level (Alpha, α)\n",
    "Collect and Prepare the Data\n",
    "Select the Appropriate Statistical Test\n",
    "Compute the Test Statistic\n",
    "Determine the Critical Region\n",
    "Compute the P-Value\n",
    "Make a Decision\n",
    "'''"
   ]
  },
  {
   "cell_type": "code",
   "execution_count": null,
   "id": "1e3ab8b5-16b0-421c-b22d-daaa5ed442e6",
   "metadata": {},
   "outputs": [],
   "source": [
    "#question 8 \n",
    "\n",
    "'''\n",
    "The p-value, short for \"probability value,\" is a critical concept in hypothesis testing in statistics. It quantifies the strength of the evidence against the null hypothesis (H0) and helps determine whether to reject or fail to reject the null hypothesis\n",
    "\n",
    "Significance of the p-value in hypothesis testing - \n",
    "\n",
    "Decision Rule\n",
    "Quantifies Evidence\n",
    "Determines Statistical Significance\n",
    "Controls Type I Error Rate\n",
    "Guides Scientific Inference\n",
    "Comparisons and Ranking\n",
    "'''\n"
   ]
  },
  {
   "cell_type": "code",
   "execution_count": 9,
   "id": "9b72742c-fc9a-43f1-a7e2-b31f05efa114",
   "metadata": {},
   "outputs": [
    {
     "data": {
      "image/png": "[encoded data removed]",
      "text/plain": [
       "<Figure size 640x480 with 1 Axes>"
      ]
     },
     "metadata": {},
     "output_type": "display_data"
    }
   ],
   "source": [
    "#question 9 \n",
    "\n",
    "import numpy as np \n",
    "import matplotlib.pyplot as plt\n",
    "from scipy.stats import t\n",
    "\n",
    "degree_of_fredom = 10\n",
    "\n",
    "x = np.linspace(-5,5,100)\n",
    "\n",
    "pdf_value = t.pdf(x,degree_of_fredom)\n",
    "\n",
    "plt.plot(x,pdf_value,color = 'g')\n",
    "plt.grid()\n"
   ]
  },
  {
   "cell_type": "code",
   "execution_count": 20,
   "id": "bb6ee40b-dcf0-416c-9591-df6e05dea080",
   "metadata": {},
   "outputs": [
    {
     "name": "stdout",
     "output_type": "stream",
     "text": [
      "reject\n"
     ]
    }
   ],
   "source": [
    "#question 10 \n",
    "\n",
    "import numpy as np \n",
    "from scipy import stats\n",
    "\n",
    "sample_size = 25\n",
    "np.random.seed(0)\n",
    "\n",
    "sample_1 = np.random.normal(size = sample_size)\n",
    "sample_2 = np.random.normal(size = sample_size)\n",
    "\n",
    "t_statistics,p_value = stats.ttest_ind(sample_1,sample_2)\n",
    "\n",
    "alpha = 0.05\n",
    "\n",
    "if alpha > p_value :\n",
    "    print(\"reject\")\n",
    "else:\n",
    "    print(\"pass\")"
   ]
  },
  {
   "cell_type": "code",
   "execution_count": null,
   "id": "dcc55125-d0fd-47f5-a9b7-872e33f66970",
   "metadata": {},
   "outputs": [],
   "source": [
    "#question 11 \n",
    "\n",
    "'''\n",
    "Student's t-distribution, often referred to as the t-distribution, is a probability distribution that is similar in shape to the normal distribution (bell-shaped curve) but has heavier tails. It is named after William Sealy Gosset, who used the pseudonym \"Student\" when publishing his work on the distribution in 1908. The t-distribution arises when working with small sample sizes and estimating population parameters, particularly the population mean, using sample data\n",
    "'''"
   ]
  },
  {
   "cell_type": "code",
   "execution_count": null,
   "id": "b68e15bb-6b84-4cce-88e1-500ff0b9665f",
   "metadata": {},
   "outputs": [],
   "source": [
    "#question 12\n",
    "\n",
    "'''\n",
    "The t-statistic, also known as the Student's t-statistic, is a measure used in hypothesis testing to determine if the means of two groups or samples are significantly different from each other. It's also used in one-sample hypothesis tests to assess whether a sample mean is significantly different from a population mean. The t-statistic is a standardized measure that quantifies the difference between sample means while accounting for the variability within the samples.\n",
    "'''"
   ]
  },
  {
   "cell_type": "code",
   "execution_count": 23,
   "id": "7d501025-49f8-48f0-a783-97ef30113cbe",
   "metadata": {},
   "outputs": [
    {
     "name": "stdout",
     "output_type": "stream",
     "text": [
      "485.79015724388137 514.2098427561186 2.009575234489209 7.071067811865475\n"
     ]
    }
   ],
   "source": [
    "#question 13\n",
    "\n",
    "from scipy import stats\n",
    "import numpy as np \n",
    "\n",
    "sample_size = 50\n",
    "sample_mean = 500\n",
    "sample_std = 50\n",
    "confidence_level = 0.95\n",
    "degrees_of_freedom = 49\n",
    "alpha = 0.05\n",
    "standard_error = sample_std / np.sqrt(sample_size)\n",
    "t_critical = stats.t.ppf(1 - alpha / 2, df=degrees_of_freedom)\n",
    "margin_of_error = t_critical * standard_error\n",
    "lower_bound = sample_mean - margin_of_error\n",
    "upper_bound = sample_mean + margin_of_error\n",
    "\n",
    "print(lower_bound,upper_bound,t_critical,standard_error)\n"
   ]
  },
  {
   "cell_type": "code",
   "execution_count": 27,
   "id": "b8a930a7-dfca-41b7-b5a3-788c18441f54",
   "metadata": {},
   "outputs": [
    {
     "name": "stdout",
     "output_type": "stream",
     "text": [
      "Reject the null hypothesis. There is a significant decrease in blood pressure.\n"
     ]
    }
   ],
   "source": [
    "#question 14 \n",
    "\n",
    "from scipy import stats\n",
    "import numpy as np\n",
    "\n",
    "sample_size = 100\n",
    "sample_mean = 8\n",
    "sample_std = 3\n",
    "alpha = 0.05\n",
    "population_mean_null = 10\n",
    "dof = 99\n",
    "\n",
    "t_statistic = (sample_mean - population_mean_null)/(sample_std/np.sqrt(sample_size))\n",
    "t_critical = stats.t.ppf(1 - alpha / 2, dof)\n",
    "p_value = 2 * (1 - stats.t.cdf(np.abs(t_statistic), dof))\n",
    "if p_value < alpha:\n",
    "    print(\"Reject the null hypothesis. There is a significant decrease in blood pressure.\")\n",
    "else:\n",
    "    print(\"Fail to reject the null hypothesis. There is no significant decrease in blood pressure.\")\n",
    "\n"
   ]
  },
  {
   "cell_type": "code",
   "execution_count": 28,
   "id": "46d35a58-b036-4610-9afa-b1bf897f0c30",
   "metadata": {},
   "outputs": [
    {
     "name": "stdout",
     "output_type": "stream",
     "text": [
      "Reject the null hypothesis. \n"
     ]
    }
   ],
   "source": [
    "#question 15 \n",
    "\n",
    "from scipy import stats\n",
    "import numpy as np \n",
    "\n",
    "sample_size  = 25\n",
    "saple_mean = 4.8\n",
    "sample_std = 0.5\n",
    "alpha = 0.01\n",
    "population_mean_null = 5 \n",
    "dof = 24\n",
    "\n",
    "t_statistic = (sample_mean - population_mean_null)/(sample_std / np.sqrt(sample_size))\n",
    "t_critical = stats.t.ppf(1-alpha/2,dof)\n",
    "p_value = 2 * (1 - stats.t.cdf(np.abs(t_statistic), dof))\n",
    "if p_value < alpha:\n",
    "    print(\"Reject the null hypothesis. \")\n",
    "else:\n",
    "    print(\"Fail to reject the null hypothesis. \")\n"
   ]
  },
  {
   "cell_type": "code",
   "execution_count": 29,
   "id": "76b4386d-ac13-46f6-9528-43d3c5487f12",
   "metadata": {},
   "outputs": [
    {
     "name": "stdout",
     "output_type": "stream",
     "text": [
      "Fail to reject the null hypothesis.\n"
     ]
    }
   ],
   "source": [
    "#question 16 \n",
    "\n",
    "import numpy as np\n",
    "from scipy import stats\n",
    "\n",
    "n1 = 30\n",
    "mean1 = 80\n",
    "std1 = 10\n",
    "n2 = 40\n",
    "mean2 = 75\n",
    "std2 = 8\n",
    "alpha = 0.01\n",
    "pooled_std_error = np.sqrt(((std1 ** 2) / n1) + ((std2 ** 2) / n2))\n",
    "t_statistic = (mean1 - mean2) / pooled_std_error\n",
    "degrees_of_freedom = int(((std1 ** 2 / n1 + std2 ** 2 / n2) ** 2) / ((std1 ** 4 / (n1 ** 2 * (n1 - 1))) + (std2 ** 4 / (n2 ** 2 * (n2 - 1)))))\n",
    "t_critical = stats.t.ppf(1 - alpha / 2, df=degrees_of_freedom)\n",
    "p_value = 2 * (1 - stats.t.cdf(np.abs(t_statistic), df=degrees_of_freedom))\n",
    "if p_value < alpha:\n",
    "    print(\"Reject the null hypothesis.\")\n",
    "else:\n",
    "    print(\"Fail to reject the null hypothesis.\")\n"
   ]
  },
  {
   "cell_type": "code",
   "execution_count": 31,
   "id": "258abdd2-1cad-4e9f-ac14-e6d8de882eb0",
   "metadata": {},
   "outputs": [
    {
     "name": "stdout",
     "output_type": "stream",
     "text": [
      "3.5737047173164402 4.42629528268356 2.009575234489209 0.21213203435596426\n"
     ]
    }
   ],
   "source": [
    "#question 17 \n",
    "\n",
    "from scipy import stats\n",
    "import numpy as np \n",
    "\n",
    "sample_size = 50\n",
    "sample_mean = 4\n",
    "sample_std = 1.5\n",
    "aplha = 0.01\n",
    "df = 49\n",
    "\n",
    "standard_error = sample_std / np.sqrt(sample_size)\n",
    "alpha = 1 - confidence_level\n",
    "t_critical = stats.t.ppf(1 - alpha / 2, df)\n",
    "margin_of_error = t_critical * standard_error\n",
    "lower_bound = sample_mean - margin_of_error\n",
    "upper_bound = sample_mean + margin_of_error\n",
    "print(lower_bound,upper_bound,t_critical,standard_error)\n"
   ]
  },
  {
   "cell_type": "code",
   "execution_count": null,
   "id": "a661eaa1-4cbc-463e-a066-10079c9f097f",
   "metadata": {},
   "outputs": [],
   "source": []
  }
 ],
 "metadata": {
  "kernelspec": {
   "display_name": "Python 3 (ipykernel)",
   "language": "python",
   "name": "python3"
  },
  "language_info": {
   "codemirror_mode": {
    "name": "ipython",
    "version": 3
   },
   "file_extension": ".py",
   "mimetype": "text/x-python",
   "name": "python",
   "nbconvert_exporter": "python",
   "pygments_lexer": "ipython3",
   "version": "3.10.8"
  }
 },
 "nbformat": 4,
 "nbformat_minor": 5
}
