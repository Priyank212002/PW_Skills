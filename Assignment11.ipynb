{
 "cells": [
  {
   "cell_type": "code",
   "execution_count": null,
   "id": "f0efe6cc-e2c3-41b4-96b7-9a268294da3d",
   "metadata": {},
   "outputs": [],
   "source": [
    "#question 1 \n",
    "\n",
    "\"database means where the all data is begin stored and from where we can manipulate the data through it\"\n",
    "\n",
    "'''\n",
    "difference betweeen nosql and sql is \n",
    "\n",
    "sql takes table row form while nosql takes the data in object oriented form \n",
    "\n",
    "'''"
   ]
  },
  {
   "cell_type": "code",
   "execution_count": null,
   "id": "fb6f4af1-670c-4be8-8f8a-67dad1dee22a",
   "metadata": {},
   "outputs": [],
   "source": [
    "#question 2\n",
    "\n",
    "\"ddl stands for data defination language\"\n",
    "\n",
    "'''\n",
    "create = use to create something in the db\n",
    "\n",
    "\n",
    "CREATE TABLE students (\n",
    "    student_id INT,\n",
    "    student_name VARCHAR(100),\n",
    "    age INT\n",
    ");\n",
    "\n",
    "drop = use to delete the db in the server\n",
    "\n",
    "DROP TABLE atudenta;\n",
    "\n",
    "\n",
    "trucate= use to delete all the data from the db\n",
    "\n",
    "truncate table syudents;\n",
    "\n",
    "Alter= alter is used to modify the table by adding a row or deleting a column\n",
    "\n",
    "ALTER TABLE employees\n",
    "ADD address VARCHAR(100);\n",
    "\n",
    "\n",
    "'''\n"
   ]
  },
  {
   "cell_type": "code",
   "execution_count": null,
   "id": "001d1569-66a1-419b-b3e9-b9f228fd3740",
   "metadata": {},
   "outputs": [],
   "source": [
    "#question 3\n",
    "\n",
    "\"DML stands for data manipulation language\"\n",
    "\n",
    "'''\n",
    "insert = is use to insert values in something\n",
    "\n",
    "update = is used to to update the data which is already present in the db\n",
    "\n",
    "delete = it is use to delete a total row from the data\n",
    "\n",
    "'''"
   ]
  },
  {
   "cell_type": "code",
   "execution_count": null,
   "id": "79ff161a-58da-4da6-8504-61c1b99ed18e",
   "metadata": {},
   "outputs": [],
   "source": [
    "#question 4 \n",
    "\n",
    "\"dql stands for the data query language\"\n",
    "\n",
    "\n",
    "'''\n",
    "select is use to specifically select some thing\n",
    "\n",
    "select*from student;\n",
    "'''"
   ]
  },
  {
   "cell_type": "code",
   "execution_count": null,
   "id": "bdcff5f5-8ec4-4666-8e0b-69e37e730c66",
   "metadata": {},
   "outputs": [],
   "source": [
    "#question 5 \n",
    "\n",
    "\"primary key is the unique key in the table that cant change its value and its value cannot be overwritten\"\n",
    "\n",
    "\"foreign key means it can be used again and again and it does not have any uniqueness\""
   ]
  },
  {
   "cell_type": "code",
   "execution_count": 2,
   "id": "0acc4a02-79d7-4352-a740-9810963db508",
   "metadata": {},
   "outputs": [
    {
     "ename": "ModuleNotFoundError",
     "evalue": "No module named 'mysql'",
     "output_type": "error",
     "traceback": [
      "\u001b[0;31m---------------------------------------------------------------------------\u001b[0m",
      "\u001b[0;31mModuleNotFoundError\u001b[0m                       Traceback (most recent call last)",
      "Cell \u001b[0;32mIn[2], line 8\u001b[0m\n\u001b[1;32m      3\u001b[0m \u001b[38;5;124m\"\u001b[39m\u001b[38;5;124mThe cursor() method is used to create a cursor object, which is a pointer or handle to interact with the database. A cursor allows you to execute SQL queries and fetch data from the database result sets. It acts as a work area to process the query results and provides methods to fetch and manipulate data returned from the database.\u001b[39m\u001b[38;5;124m\"\u001b[39m\n\u001b[1;32m      5\u001b[0m \u001b[38;5;124m\"\u001b[39m\u001b[38;5;124mThe execute() method is used to execute SQL queries or statements on the database using the cursor object. It allows you to send SQL commands to the database and perform operations like SELECT, INSERT, UPDATE, DELETE, etc.\u001b[39m\u001b[38;5;124m\"\u001b[39m\n\u001b[0;32m----> 8\u001b[0m \u001b[38;5;28;01mimport\u001b[39;00m \u001b[38;5;21;01mmysql\u001b[39;00m\u001b[38;5;21;01m.\u001b[39;00m\u001b[38;5;21;01mconnector\u001b[39;00m\n\u001b[1;32m     10\u001b[0m database_config \u001b[38;5;241m=\u001b[39m {\n\u001b[1;32m     11\u001b[0m     \u001b[38;5;124m\"\u001b[39m\u001b[38;5;124mhost\u001b[39m\u001b[38;5;124m\"\u001b[39m: \u001b[38;5;124m\"\u001b[39m\u001b[38;5;124m127.0.0.1\u001b[39m\u001b[38;5;124m\"\u001b[39m,\n\u001b[1;32m     12\u001b[0m     \u001b[38;5;124m\"\u001b[39m\u001b[38;5;124muser\u001b[39m\u001b[38;5;124m\"\u001b[39m: \u001b[38;5;124m\"\u001b[39m\u001b[38;5;124mabc\u001b[39m\u001b[38;5;124m\"\u001b[39m,\n\u001b[1;32m     13\u001b[0m     \u001b[38;5;124m\"\u001b[39m\u001b[38;5;124mpassword\u001b[39m\u001b[38;5;124m\"\u001b[39m: \u001b[38;5;124m\"\u001b[39m\u001b[38;5;124mpassword\u001b[39m\u001b[38;5;124m\"\u001b[39m,\n\u001b[1;32m     14\u001b[0m     \u001b[38;5;124m\"\u001b[39m\u001b[38;5;124mdatabase\u001b[39m\u001b[38;5;124m\"\u001b[39m: \u001b[38;5;124m\"\u001b[39m\u001b[38;5;124mTest\u001b[39m\u001b[38;5;124m\"\u001b[39m,\n\u001b[1;32m     15\u001b[0m }\n\u001b[1;32m     17\u001b[0m \u001b[38;5;28;01mtry\u001b[39;00m:\n",
      "\u001b[0;31mModuleNotFoundError\u001b[0m: No module named 'mysql'"
     ]
    }
   ],
   "source": [
    "#question 6\n",
    "\n",
    "\"The cursor() method is used to create a cursor object, which is a pointer or handle to interact with the database. A cursor allows you to execute SQL queries and fetch data from the database result sets. It acts as a work area to process the query results and provides methods to fetch and manipulate data returned from the database.\"\n",
    "\n",
    "\"The execute() method is used to execute SQL queries or statements on the database using the cursor object. It allows you to send SQL commands to the database and perform operations like SELECT, INSERT, UPDATE, DELETE, etc.\"\n",
    "\n",
    "\n",
    "import mysql.connector\n",
    "\n",
    "database_config = {\n",
    "    \"host\": \"127.0.0.1\",\n",
    "    \"user\": \"abc\",\n",
    "    \"password\": \"password\",\n",
    "    \"database\": \"Test\",\n",
    "}\n",
    "\n",
    "try:\n",
    "    connection = mysql.connector.connect(**database_config)\n",
    "\n",
    "    if connection.is_connected():\n",
    "        print(\"Connected to MySQL!\")\n",
    "\n",
    "        connection.close()\n",
    "        print(\"Connection closed.\")\n",
    "\n",
    "except mysql.connector.Error as err:\n",
    "    print(f\"Error: {err}\")\n",
    "\n"
   ]
  },
  {
   "cell_type": "code",
   "execution_count": null,
   "id": "56e36265-fbd3-45a3-bf44-a57cf6e5626c",
   "metadata": {},
   "outputs": [],
   "source": []
  }
 ],
 "metadata": {
  "kernelspec": {
   "display_name": "Python 3 (ipykernel)",
   "language": "python",
   "name": "python3"
  },
  "language_info": {
   "codemirror_mode": {
    "name": "ipython",
    "version": 3
   },
   "file_extension": ".py",
   "mimetype": "text/x-python",
   "name": "python",
   "nbconvert_exporter": "python",
   "pygments_lexer": "ipython3",
   "version": "3.10.8"
  }
 },
 "nbformat": 4,
 "nbformat_minor": 5
}
