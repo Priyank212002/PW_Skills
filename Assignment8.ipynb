{
 "cells": [
  {
   "cell_type": "code",
   "execution_count": 2,
   "id": "e850185a-d79f-4b69-a53e-52d7e49fd5f9",
   "metadata": {},
   "outputs": [
    {
     "data": {
      "text/plain": [
       "'\\n1 Inheritance\\n2 Reading and maintainability\\n3 Identifying exceptions\\n'"
      ]
     },
     "execution_count": 2,
     "metadata": {},
     "output_type": "execute_result"
    }
   ],
   "source": [
    "#question 1 \n",
    "\n",
    "'''\n",
    "1 Inheritance\n",
    "2 Reading and maintainability\n",
    "3 Identifying exceptions\n",
    "'''"
   ]
  },
  {
   "cell_type": "code",
   "execution_count": null,
   "id": "af780ff9-054b-4974-8dec-21c4f4f021dc",
   "metadata": {},
   "outputs": [],
   "source": [
    "#question 2 \n",
    "\n"
   ]
  },
  {
   "cell_type": "code",
   "execution_count": 2,
   "id": "2adcb748-6b88-42c8-8695-778c634d2930",
   "metadata": {},
   "outputs": [
    {
     "data": {
      "text/plain": [
       "-10"
      ]
     },
     "execution_count": 2,
     "metadata": {},
     "output_type": "execute_result"
    }
   ],
   "source": [
    "#question 3\n",
    "\n",
    "a = 5*-2\n",
    "a"
   ]
  },
  {
   "cell_type": "code",
   "execution_count": 3,
   "id": "4a5581e0-2b38-4146-acde-183e5718c0ae",
   "metadata": {},
   "outputs": [
    {
     "ename": "ZeroDivisionError",
     "evalue": "division by zero",
     "output_type": "error",
     "traceback": [
      "\u001b[0;31m---------------------------------------------------------------------------\u001b[0m",
      "\u001b[0;31mZeroDivisionError\u001b[0m                         Traceback (most recent call last)",
      "Cell \u001b[0;32mIn[3], line 3\u001b[0m\n\u001b[1;32m      1\u001b[0m \u001b[38;5;124m\"\u001b[39m\u001b[38;5;124mArithmatic error tells us about the silly mistakes in the calulation or the error which are computationally impossible\u001b[39m\u001b[38;5;124m\"\u001b[39m\n\u001b[0;32m----> 3\u001b[0m a \u001b[38;5;241m=\u001b[39m \u001b[38;5;241;43m10\u001b[39;49m\u001b[38;5;241;43m/\u001b[39;49m\u001b[38;5;241;43m0\u001b[39;49m\n\u001b[1;32m      4\u001b[0m a\n",
      "\u001b[0;31mZeroDivisionError\u001b[0m: division by zero"
     ]
    }
   ],
   "source": [
    "\"Arithmatic error tells us about the silly mistakes in the calulation or the error which are computationally impossible\"\n",
    "\n",
    "a = 10/0\n",
    "a"
   ]
  },
  {
   "cell_type": "code",
   "execution_count": null,
   "id": "4a52d56e-346d-4e1c-b144-b1abfd9242d5",
   "metadata": {},
   "outputs": [],
   "source": [
    "j = 5\n",
    "\n",
    "try:\n",
    "    for i in range(1, 1000):\n",
    "        j = j**i\n",
    "except ArithmeticError as e:\n",
    "    print(e)\n",
    " "
   ]
  },
  {
   "cell_type": "code",
   "execution_count": null,
   "id": "ecf5cbc7-7595-4f9e-8e28-c945d3241a0c",
   "metadata": {},
   "outputs": [],
   "source": [
    "#question 4\n",
    "\n",
    "'''\n",
    "lookup error consist of\n",
    "name error\n",
    "key error\n",
    "index error\n",
    "''' \n",
    "try:\n",
    "    l=[1,2,3,4,5]\n",
    "    a= l[6]\n",
    "    print(a)\n",
    "except IndexError as e:\n",
    "    print(e)\n",
    "    "
   ]
  },
  {
   "cell_type": "code",
   "execution_count": null,
   "id": "1fb2206b-8dac-4704-8490-b4a89f589443",
   "metadata": {},
   "outputs": [],
   "source": [
    "try:\n",
    "    l={car:honda,speed:120}\n",
    "    \n",
    "    a = (l,(age))\n",
    "    \n",
    "    print(a)\n",
    "except Keyerror as e:\n",
    "    print(e)"
   ]
  },
  {
   "cell_type": "code",
   "execution_count": null,
   "id": "c4c6082e-290c-4510-9533-36cee87fded6",
   "metadata": {},
   "outputs": [],
   "source": [
    "#question 5 \n",
    "\"import error is occured when we cant import an file in the python\"\n",
    "\n",
    "\"Modulenotfound error is when there is no module present in the files or it cant locate it in the system\"\n"
   ]
  },
  {
   "cell_type": "code",
   "execution_count": null,
   "id": "e1301a46-4b3f-4f11-a430-b75314639f9b",
   "metadata": {},
   "outputs": [],
   "source": [
    "#question 6\n",
    "\n",
    "'''\n",
    "1 Not adding multi except command \n",
    "\n",
    "2 never put the exception class at the top \n",
    "\n",
    "3 make a seprate logging info for the errors\n",
    "\n",
    "'''"
   ]
  }
 ],
 "metadata": {
  "kernelspec": {
   "display_name": "Python 3 (ipykernel)",
   "language": "python",
   "name": "python3"
  },
  "language_info": {
   "codemirror_mode": {
    "name": "ipython",
    "version": 3
   },
   "file_extension": ".py",
   "mimetype": "text/x-python",
   "name": "python",
   "nbconvert_exporter": "python",
   "pygments_lexer": "ipython3",
   "version": "3.10.8"
  }
 },
 "nbformat": 4,
 "nbformat_minor": 5
}
