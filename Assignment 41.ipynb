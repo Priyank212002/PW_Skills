{
 "cells": [
  {
   "cell_type": "code",
   "execution_count": null,
   "id": "0b6af0ae-fb77-4f18-b60a-ade7e61322e8",
   "metadata": {},
   "outputs": [],
   "source": [
    "#question 1 \n",
    "\n",
    "\"Data encoding in data science refers to the process of converting non-numeric or categorical data into a numerical format, making it suitable for analysis and machine learning tasks. Categorical data, which includes labels, categories, or groups, is common in various real-world datasets, and many statistical techniques and machine learning algorithms require numeric input data. Data encoding serves the crucial purpose of facilitating the use of this categorical information in mathematical models and analysis. It helps transform qualitative information, such as names, labels, or groups, into a quantitative form that algorithms can understand. Common encoding methods include label encoding, which assigns unique integers to categories, and one-hot encoding, which creates binary columns for each category. By enabling the inclusion of categorical data in data analysis, data encoding enhances the depth and accuracy of insights and predictions in data science applications, making it an indispensable preprocessing step in the field.\""
   ]
  },
  {
   "cell_type": "code",
   "execution_count": null,
   "id": "7e2133d5-c6d2-43f7-983d-b8fb9ad65dc1",
   "metadata": {},
   "outputs": [],
   "source": [
    "#question 2 \n",
    "\n",
    "\"Nominal encoding, in the context of data encoding, is a technique used to convert categorical data into a numerical format when dealing with nominal variables. Nominal variables are categorical variables that have no inherent order or ranking among their categories. Examples of nominal variables include colors, types of fruits, or categories of products.\""
   ]
  },
  {
   "cell_type": "code",
   "execution_count": null,
   "id": "215329f2-0f7f-4eaa-a069-d8df2ea972de",
   "metadata": {},
   "outputs": [],
   "source": [
    "#question 3 \n",
    "\n",
    "\"Nominal encoding, specifically label encoding, is preferred over one-hot encoding in situations where the categorical variable exhibits an intrinsic ordinal relationship among its categories. In other words, when the categories have a meaningful order, label encoding can be more appropriate. One-hot encoding, on the other hand, treats categories as independent, which might not be suitable for ordinal variables\""
   ]
  },
  {
   "cell_type": "code",
   "execution_count": null,
   "id": "a7cb0dd8-b6e2-44e2-b26c-88918722bb91",
   "metadata": {},
   "outputs": [],
   "source": [
    "#question 4 \n",
    "\n",
    "\"Nominal or one hot emcoding\""
   ]
  },
  {
   "cell_type": "code",
   "execution_count": null,
   "id": "0faa1249-8cd7-4fd1-8fb9-bd8ffeedf9ff",
   "metadata": {},
   "outputs": [],
   "source": [
    "#question 5 \n",
    "\n",
    "\"add the the unique values of the two categorical columns and add it\""
   ]
  },
  {
   "cell_type": "code",
   "execution_count": null,
   "id": "4ea788d9-9e98-4b9a-aeb4-1cb3eb32bee9",
   "metadata": {},
   "outputs": [],
   "source": [
    "#question 6 \n",
    "\n",
    "\"Nominal or one hot emcoding\""
   ]
  },
  {
   "cell_type": "code",
   "execution_count": null,
   "id": "41b9cb2f-cb1e-4caf-8a9e-ba28b50fdb96",
   "metadata": {},
   "outputs": [],
   "source": [
    "#question 7 \n",
    "\n"
   ]
  }
 ],
 "metadata": {
  "kernelspec": {
   "display_name": "Python 3 (ipykernel)",
   "language": "python",
   "name": "python3"
  },
  "language_info": {
   "codemirror_mode": {
    "name": "ipython",
    "version": 3
   },
   "file_extension": ".py",
   "mimetype": "text/x-python",
   "name": "python",
   "nbconvert_exporter": "python",
   "pygments_lexer": "ipython3",
   "version": "3.10.8"
  }
 },
 "nbformat": 4,
 "nbformat_minor": 5
}
