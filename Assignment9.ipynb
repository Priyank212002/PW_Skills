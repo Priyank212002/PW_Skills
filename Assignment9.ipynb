{
 "cells": [
  {
   "cell_type": "code",
   "execution_count": null,
   "id": "c7c7ce55-8737-44e8-b56f-77f4abb58db7",
   "metadata": {},
   "outputs": [],
   "source": [
    "#question 1 \n",
    "\n",
    "\"Multithreading in Python refers to the concurrent execution of multiple threads within the same process. A thread is a basic unit of CPU utilization, and having multiple threads allows a program to perform multiple tasks concurrently, making it appear as if tasks are running simultaneously.\"\n",
    "\n",
    "\" Threading module is beign used in python\""
   ]
  },
  {
   "cell_type": "code",
   "execution_count": null,
   "id": "6cd0124d-4824-4e22-93a7-3a28fbebb6f0",
   "metadata": {},
   "outputs": [],
   "source": [
    "#question 2\n",
    "\n",
    "\"The threading module in Python is used to work with threads and achieve concurrency in a program. It allows developers to create, manage, and synchronize threads easily. The primary purpose of using the threading module is to introduce parallelism and execute multiple tasks concurrently, making efficient use of available resources.\"\n",
    "\n",
    "\"activeCount tells us about the total active threads in the core \"\n",
    "\n",
    "\"current.thread tells us about the current thread thats running the process\"\n",
    "\n",
    "\"enumerate This function returns a list of all currently active Thread objects in the current Python process. It is useful when you want to obtain references to all active threads for further analysis or manipulation.\"\n",
    "\n"
   ]
  },
  {
   "cell_type": "code",
   "execution_count": null,
   "id": "8b8bd63e-874f-436e-a4dd-888c68a94963",
   "metadata": {},
   "outputs": [],
   "source": [
    "#question 3 \n",
    "\n",
    "\"This method is used to define the behavior of a thread. When you create a custom thread class by subclassing threading.Thread, you typically override the run() method in your subclass. \"\n",
    "\n",
    "\"This method is used to start the execution of a thread. \"\n",
    "\n",
    "\"The join() method is used to wait for the thread to complete its execution. \"\n",
    "\n",
    "\"The isAlive() method is used to check if a thread is currently active or running. It returns True if the thread is still executing and has not completed its task, and False otherwise.\"\n"
   ]
  },
  {
   "cell_type": "code",
   "execution_count": 13,
   "id": "bcd79b10-1f3e-4e13-8e4b-cc9f47193e0b",
   "metadata": {},
   "outputs": [],
   "source": [
    "#question 4\n",
    "import threading\n",
    "\n",
    "def print_squares(numbers):\n",
    "    squares = [num ** 2 for num in numbers]\n",
    "    print(\"List of Squares:\", squares)\n",
    "def print_cubes(numbers):\n",
    "    cubes = [num ** 3 for num in numbers]\n",
    "    print(\"List of Cubes:\", cubes)\n",
    " \n",
    "    thread_squares = threading.Thread(target=print_squares, args=(numbers,))\n",
    "    thread_cubes = threading.Thread(target=print_cubes, args=(numbers,))\n",
    "    \n",
    "    thread_squares.start()\n",
    "    thread_cubes.start()\n",
    "\n",
    "    thread_squares.join()\n",
    "    thread_cubes.join()\n",
    "\n",
    "    print(\"Main thread finished.\")"
   ]
  },
  {
   "cell_type": "code",
   "execution_count": 14,
   "id": "7366df15-81bd-4f4d-9e29-a5c9cd78dc0b",
   "metadata": {},
   "outputs": [
    {
     "ename": "NameError",
     "evalue": "name 'Advantages' is not defined",
     "output_type": "error",
     "traceback": [
      "\u001b[0;31m---------------------------------------------------------------------------\u001b[0m",
      "\u001b[0;31mNameError\u001b[0m                                 Traceback (most recent call last)",
      "Cell \u001b[0;32mIn[14], line 3\u001b[0m\n\u001b[1;32m      1\u001b[0m \u001b[38;5;66;03m#question 5\u001b[39;00m\n\u001b[0;32m----> 3\u001b[0m \u001b[43mAdvantages\u001b[49m \n\u001b[1;32m      5\u001b[0m \u001b[38;5;124;03m'''\u001b[39;00m\n\u001b[1;32m      6\u001b[0m \u001b[38;5;124;03mconcurrency\u001b[39;00m\n\u001b[1;32m      7\u001b[0m \u001b[38;5;124;03mresponsiveness\u001b[39;00m\n\u001b[1;32m      8\u001b[0m \u001b[38;5;124;03msimplified design\u001b[39;00m\n\u001b[1;32m      9\u001b[0m \u001b[38;5;124;03m'''\u001b[39;00m\n\u001b[1;32m     11\u001b[0m Disadvantages\n",
      "\u001b[0;31mNameError\u001b[0m: name 'Advantages' is not defined"
     ]
    }
   ],
   "source": [
    "#question 5\n",
    "\n",
    "Advantages \n",
    "\n",
    "'''\n",
    "concurrency\n",
    "responsiveness\n",
    "simplified design\n",
    "'''\n",
    "\n",
    "Disadvantages\n",
    "\n",
    "'''\n",
    "Complexity \n",
    "Deadlocks\n",
    "thread safety\n",
    "'''"
   ]
  },
  {
   "cell_type": "code",
   "execution_count": null,
   "id": "f7cd4e07-0ecb-41a9-b188-f8ae4858b877",
   "metadata": {},
   "outputs": [],
   "source": [
    "#question 6 \n",
    "\n",
    "Deadlock\n",
    "\n",
    "\"Deadlock is a situation that occurs in a concurrent system when two or more threads or processes are unable to proceed further because each is waiting for the other to release a resource that it needs. In other words, a deadlock is a state where a set of processes are blocked, and none of them can proceed to complete their execution. This can lead to a system freeze or unresponsiveness.Deadlock is a situation that occurs in a concurrent system when two or more threads or processes are unable to proceed further because each is waiting for the other to release a resource that it needs. In other words, a deadlock is a state where a set of processes are blocked, and none of them can proceed to complete their execution. This can lead to a system freeze or unresponsiveness.\"\n",
    "\n",
    "Race Condition \n",
    "\n",
    "\"A race condition is a situation that occurs in a concurrent system when the outcome of the execution depends on the relative timing of events rather than the logical sequence of statements in the code. In other words, the behavior of the program becomes unpredictable because multiple threads or processes access shared resources simultaneously, leading to non-deterministic results.\"\n"
   ]
  }
 ],
 "metadata": {
  "kernelspec": {
   "display_name": "Python 3 (ipykernel)",
   "language": "python",
   "name": "python3"
  },
  "language_info": {
   "codemirror_mode": {
    "name": "ipython",
    "version": 3
   },
   "file_extension": ".py",
   "mimetype": "text/x-python",
   "name": "python",
   "nbconvert_exporter": "python",
   "pygments_lexer": "ipython3",
   "version": "3.10.8"
  }
 },
 "nbformat": 4,
 "nbformat_minor": 5
}
