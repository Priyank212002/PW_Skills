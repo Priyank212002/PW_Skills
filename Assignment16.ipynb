{
 "cells": [
  {
   "cell_type": "code",
   "execution_count": null,
   "id": "1572ac33-0f35-46f6-8ae3-733e2a048599",
   "metadata": {},
   "outputs": [],
   "source": [
    "#question 1 \n",
    "\n",
    "\"Web scraping is the process of extracting data from websites using automated software tools or scripts. It involves fetching data from web pages, parsing the HTML content, and extracting the required information into a structured format, such as a CSV file or a database. Web scraping enables users to gather large amounts of data from multiple sources on the internet quickly and efficiently.\"\n",
    "\n",
    "'''\n",
    "1 buisness intelligince\n",
    "2 Research Analysis\n",
    "3 Data Aggeregation \n",
    "'''"
   ]
  },
  {
   "cell_type": "code",
   "execution_count": null,
   "id": "fd143b5c-e8bf-485c-89e8-234aef491653",
   "metadata": {},
   "outputs": [],
   "source": [
    "#question 2 \n",
    "\n",
    "'''\n",
    "1 parsing html\n",
    "2 Xpath\n",
    "3 regular Expression \n",
    "4 Headless Browser \n",
    "\n",
    "'''"
   ]
  },
  {
   "cell_type": "code",
   "execution_count": null,
   "id": "ae5121ec-b44d-4fc8-85de-cd2fb55a65c9",
   "metadata": {},
   "outputs": [],
   "source": [
    "#question 3 \n",
    "\n",
    "\"Beautiful Soup is a Python library used for parsing HTML and XML documents, particularly for web scraping purposes. It provides a convenient and Pythonic way to extract data from HTML pages, navigate the HTML tree structure, and search for specific elements or attributes.\"\n",
    "\n",
    "'''\n",
    "easy to use \n",
    "robust handling\n",
    "finding and filtering \n",
    "compatible\n",
    "'''"
   ]
  },
  {
   "cell_type": "code",
   "execution_count": null,
   "id": "bca44c74-34b1-4c27-821f-73a6b68513f1",
   "metadata": {},
   "outputs": [],
   "source": [
    "#question 4 \n",
    "\n",
    "'''\n",
    "Api endpoints\n",
    "creating a web interface\n",
    "request handling\n",
    "data storage and presentation \n",
    "Asynchronus task \n",
    "'''"
   ]
  },
  {
   "cell_type": "code",
   "execution_count": null,
   "id": "7f4e0060-13f2-4347-adf0-1f0dcc598190",
   "metadata": {},
   "outputs": [],
   "source": [
    "#question  5 \n",
    "\n",
    "'''\n",
    "Aws beanstalk \n",
    "Aws code pipeline\n",
    "'''\n",
    "\n",
    "\"AWS Elastic Beanstalk is a fully managed service provided by Amazon Web Services (AWS) that simplifies the deployment and management of web applications and services. It allows developers to easily deploy applications in multiple languages (e.g., Java, Python, Node.js, PHP, Ruby, etc.) on popular web servers (e.g., Apache, Nginx, Passenger, etc.) without worrying about the underlying infrastructure setup.\"\n",
    "\n",
    "\"AWS CodePipeline is a fully managed continuous integration and continuous delivery (CI/CD) service provided by Amazon Web Services (AWS). It automates the building, testing, and deployment of code changes to applications and services, allowing developers to deliver updates quickly and efficiently.\""
   ]
  }
 ],
 "metadata": {
  "kernelspec": {
   "display_name": "Python 3 (ipykernel)",
   "language": "python",
   "name": "python3"
  },
  "language_info": {
   "codemirror_mode": {
    "name": "ipython",
    "version": 3
   },
   "file_extension": ".py",
   "mimetype": "text/x-python",
   "name": "python",
   "nbconvert_exporter": "python",
   "pygments_lexer": "ipython3",
   "version": "3.10.8"
  }
 },
 "nbformat": 4,
 "nbformat_minor": 5
}
