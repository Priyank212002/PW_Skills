{
 "cells": [
  {
   "cell_type": "code",
   "execution_count": 4,
   "id": "ed8f331e-f767-4099-84ed-75cb7ac257cc",
   "metadata": {},
   "outputs": [],
   "source": [
    "#question 1\n",
    "\n",
    "\"Abstraction is a fundamental concept in object-oriented programming (OOP) that allows you to create a simplified representation of an object by focusing on its essential characteristics and hiding the unnecessary details. It involves breaking down complex systems into smaller, more manageable parts, and representing only the relevant information to the outside world.\"\n",
    "\n",
    "import abc \n",
    "\n",
    "class Animals:\n",
    "    @abc.abstractmethod   \n",
    "    def name():\n",
    "        pass\n",
    "    \n",
    "    @abc.abstractmethod\n",
    "    def Sound():\n",
    "        pass\n",
    "\n"
   ]
  },
  {
   "cell_type": "code",
   "execution_count": 16,
   "id": "86359ece-4e77-4f3f-954f-0aca7f350477",
   "metadata": {},
   "outputs": [],
   "source": [
    "#question 2 \n",
    "\n",
    "import abc\n",
    "\n",
    "class Bank_Account:\n",
    "    def __init__(self,Account_number,Name,Balance):\n",
    "        self.Account_number=Account_number\n",
    "        self.Name=Name\n",
    "        self.__Balance=Balance\n",
    "person_1 = Bank_Account(1233456789,'Harry',1000)\n",
    "\n",
    "@abc.abstractmethod\n",
    "def Deposit(self,amount):\n",
    "    self.__balance=self.__balance + amount\n",
    "@abc.abstractmethod\n",
    "def Withdraw(self,amount):\n",
    "    if self.__balance>=amount:\n",
    "        self.__balance = self.__balance - amount\n",
    "    else:\n",
    "        False\n",
    "        \n"
   ]
  },
  {
   "cell_type": "code",
   "execution_count": null,
   "id": "066d539f-b095-4bcb-bd7a-009621fedc99",
   "metadata": {},
   "outputs": [],
   "source": [
    "#question 3\n",
    "\n",
    "'the abc module stands for \"Abstract Base Classes.\" It provides a framework for defining abstract base classes and interfaces. Abstract base classes (ABCs) are classes that cannot be instantiated directly but are designed to serve as base classes for other classes. They define a common interface that their subclasses are expected to implement.'\n",
    "import abc \n",
    "\n",
    "class Animals:\n",
    "    @abc.abstractmethod   \n",
    "    def name():\n",
    "        pass\n",
    "    \n",
    "    @abc.abstractmethod\n",
    "    def Sound():\n",
    "        pass"
   ]
  },
  {
   "cell_type": "code",
   "execution_count": null,
   "id": "e5b0b6fe-6bf6-4f68-b391-a10b2d7375c2",
   "metadata": {},
   "outputs": [],
   "source": [
    "#question 4\n",
    "\n",
    "'Data abstraction is a fundamental concept in object-oriented programming (OOP) that allows you to represent the essential features of an object while hiding the unnecessary details. It enables you to create abstract data types (ADTs) that expose only the relevant interfaces to interact with the data, while keeping the internal implementation hidden'\n"
   ]
  },
  {
   "cell_type": "code",
   "execution_count": null,
   "id": "36cc19c5-41bc-4908-809f-fafaf44128ed",
   "metadata": {},
   "outputs": [],
   "source": [
    "#question 5 \n",
    "\n",
    "''"
   ]
  }
 ],
 "metadata": {
  "kernelspec": {
   "display_name": "Python 3 (ipykernel)",
   "language": "python",
   "name": "python3"
  },
  "language_info": {
   "codemirror_mode": {
    "name": "ipython",
    "version": 3
   },
   "file_extension": ".py",
   "mimetype": "text/x-python",
   "name": "python",
   "nbconvert_exporter": "python",
   "pygments_lexer": "ipython3",
   "version": "3.10.8"
  }
 },
 "nbformat": 4,
 "nbformat_minor": 5
}
