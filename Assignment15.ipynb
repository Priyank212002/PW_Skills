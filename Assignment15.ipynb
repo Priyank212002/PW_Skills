{
 "cells": [
  {
   "cell_type": "code",
   "execution_count": null,
   "id": "3a9b5322-0453-456c-9af5-079a90daa419",
   "metadata": {},
   "outputs": [],
   "source": [
    "#question 1 \n",
    "\n",
    "\"The GET method is used to retrieve data from the server. It is a safe and idempotent method, meaning it should not change the server's state, and making multiple identical requests should produce the same result as a single request.\"\n",
    "\n",
    "\"The POST method is used to submit data to be processed to the server. It is not a safe method, as it may result in changes on the server's state (e.g., data creation, update, or deletion).\""
   ]
  },
  {
   "cell_type": "code",
   "execution_count": null,
   "id": "35264913-7714-463a-8e34-da1ca67228b5",
   "metadata": {},
   "outputs": [],
   "source": [
    "#question 2 \n",
    "\n",
    "\"he request object is used to access incoming request data from the client, such as data submitted through HTML forms, query parameters in the URL, JSON data, and more. It is a critical component of Flask and other web frameworks, as it allows developers to interact with the client's data and retrieve information sent by the user.\""
   ]
  },
  {
   "cell_type": "code",
   "execution_count": null,
   "id": "642019cd-fe0e-4af7-b8ab-1504aeede5a2",
   "metadata": {},
   "outputs": [],
   "source": [
    "#question 3 \n",
    "\n",
    "\"the redirect() function is used to perform URL redirection. It is a helpful tool for sending users to a different URL, typically after processing some data or handling a specific request. URL redirection is a fundamental concept in web development and serves several important purpose\""
   ]
  },
  {
   "cell_type": "code",
   "execution_count": null,
   "id": "e79f655b-cc3e-4c1e-a6ec-fb923e7cf2b3",
   "metadata": {},
   "outputs": [],
   "source": [
    "#question 4 \n",
    "\n",
    "\"templates are files that contain the HTML structure and dynamic content placeholders (often referred to as \"variables\" or \"placeholders\") that will be replaced with actual data when rendering a web page. Templates allow you to separate the presentation layer (HTML) from the application logic, making it easier to maintain and update your web application.\"\n",
    "\n",
    "\"The render_template() function is used to render a template by combining it with the data provided by the Flask application. It takes the name of the template file (usually a .html file) and any necessary data as arguments. The function processes the template, replaces the dynamic content placeholders with the provided data, and returns the resulting HTML as the response to the client's request.\""
   ]
  },
  {
   "cell_type": "code",
   "execution_count": null,
   "id": "121c53a9-82d1-48d3-a95c-166f0bfc2045",
   "metadata": {},
   "outputs": [],
   "source": []
  }
 ],
 "metadata": {
  "kernelspec": {
   "display_name": "Python 3 (ipykernel)",
   "language": "python",
   "name": "python3"
  },
  "language_info": {
   "codemirror_mode": {
    "name": "ipython",
    "version": 3
   },
   "file_extension": ".py",
   "mimetype": "text/x-python",
   "name": "python",
   "nbconvert_exporter": "python",
   "pygments_lexer": "ipython3",
   "version": "3.10.8"
  }
 },
 "nbformat": 4,
 "nbformat_minor": 5
}
