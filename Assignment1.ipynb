{
 "cells": [
  {
   "cell_type": "code",
   "execution_count": 3,
   "id": "309b7729-178f-401c-8b22-a8ac0dcb73c3",
   "metadata": {},
   "outputs": [
    {
     "name": "stdout",
     "output_type": "stream",
     "text": [
      "(<class 'str'>, <class 'list'>, <class 'float'>, <class 'tuple'>)\n"
     ]
    }
   ],
   "source": [
    "a = \"Priyank\"\n",
    "b = [\"priyank\",2,\"2\"]\n",
    "c = 9.32\n",
    "d = (1,2,3,4)\n",
    "\n",
    "types = (type(a),type(b),type(c),type(d))\n",
    "\n",
    "print(types)\n"
   ]
  },
  {
   "cell_type": "code",
   "execution_count": 8,
   "id": "ad9e2f72-4f7c-4e0e-a4f9-474672c7237d",
   "metadata": {},
   "outputs": [
    {
     "name": "stdout",
     "output_type": "stream",
     "text": [
      "0.4 2 0 32\n"
     ]
    }
   ],
   "source": [
    "a = 2\n",
    "b = 5\n",
    "\n",
    "print(a/b,a%b,a//b,a**b)"
   ]
  },
  {
   "cell_type": "code",
   "execution_count": 4,
   "id": "d199829d-d8fd-4f99-8cd0-872c62235879",
   "metadata": {},
   "outputs": [
    {
     "name": "stdout",
     "output_type": "stream",
     "text": [
      "1\n",
      "2\n",
      "3\n",
      "4\n",
      "5\n",
      "6\n",
      "7\n",
      "8\n",
      "9\n",
      "10\n"
     ]
    }
   ],
   "source": [
    "list=[1,2,3,4,5,6,7,8,9,10]\n",
    "for i in list :\n",
    "    print(i)"
   ]
  },
  {
   "cell_type": "code",
   "execution_count": 5,
   "id": "48022039-756b-4405-bff4-f0efc00ab709",
   "metadata": {},
   "outputs": [
    {
     "name": "stdin",
     "output_type": "stream",
     "text": [
      "Enter a number :  10\n",
      "Enter a number :  2\n"
     ]
    },
    {
     "name": "stdout",
     "output_type": "stream",
     "text": [
      "5.0\n"
     ]
    }
   ],
   "source": [
    "A = int(input(\"Enter a number : \"))\n",
    "B = int(input(\"Enter a number : \"))\n",
    "while (A / B != int):\n",
    "    print(A/B)\n",
    "    break\n",
    "else:\n",
    "    None\n"
   ]
  },
  {
   "cell_type": "code",
   "execution_count": 6,
   "id": "67f4a230-d5ff-4745-8d59-716d670917b3",
   "metadata": {},
   "outputs": [
    {
     "name": "stdout",
     "output_type": "stream",
     "text": [
      "1 it is not Divisible\n",
      "2 it is not Divisible\n",
      "3 it is Divisible\n",
      "4 it is not Divisible\n",
      "5 it is not Divisible\n",
      "6 it is Divisible\n",
      "7 it is not Divisible\n",
      "8 it is not Divisible\n",
      "9 it is Divisible\n",
      "1 it is not Divisible\n",
      "10 it is not Divisible\n",
      "11 it is not Divisible\n",
      "12 it is Divisible\n",
      "13 it is not Divisible\n",
      "14 it is not Divisible\n",
      "15 it is Divisible\n",
      "16 it is not Divisible\n",
      "17 it is not Divisible\n",
      "18 it is Divisible\n",
      "19 it is not Divisible\n",
      "20 it is not Divisible\n",
      "21 it is Divisible\n",
      "22 it is not Divisible\n",
      "23 it is not Divisible\n",
      "24 it is Divisible\n",
      "25 it is not Divisible\n"
     ]
    }
   ],
   "source": [
    "list = [\n",
    "  1, 2, 3, 4, 5, 6, 7, 8, 9, 1, 10, 11, 12, 13, 14, 15, 16, 17, 18, 19, 20, 21,\n",
    "  22, 23, 24, 25\n",
    "]\n",
    "\n",
    "for i in list: \n",
    "    if (i%3==0):\n",
    "        print(f\"{i} it is Divisible\")\n",
    "    else:\n",
    "        print(f\"{i} it is not Divisible\")\n"
   ]
  },
  {
   "cell_type": "code",
   "execution_count": 12,
   "id": "342f44f4-c46f-45a4-89a1-4db12f37f3bb",
   "metadata": {},
   "outputs": [
    {
     "data": {
      "text/plain": [
       "'Priyank'"
      ]
     },
     "execution_count": 12,
     "metadata": {},
     "output_type": "execute_result"
    }
   ],
   "source": [
    "#Mutable\n",
    "\n",
    "list = [1,2,3,4,5]\n",
    "list[1]\n",
    "list[1] = \"Priyank\"\n",
    "list[1]"
   ]
  },
  {
   "cell_type": "code",
   "execution_count": 14,
   "id": "ed3543cc-5f3f-46a0-a3f8-09a6398784b4",
   "metadata": {},
   "outputs": [
    {
     "data": {
      "text/plain": [
       "False"
      ]
     },
     "execution_count": 14,
     "metadata": {},
     "output_type": "execute_result"
    }
   ],
   "source": [
    "#imutable\n",
    "\n",
    "a = 'Priyank'\n",
    "\n",
    "'Priyank' == 2"
   ]
  },
  {
   "cell_type": "code",
   "execution_count": null,
   "id": "5a9fc927-c2ba-4fe2-a9c3-33990f4af2d6",
   "metadata": {},
   "outputs": [],
   "source": []
  }
 ],
 "metadata": {
  "kernelspec": {
   "display_name": "Python 3 (ipykernel)",
   "language": "python",
   "name": "python3"
  },
  "language_info": {
   "codemirror_mode": {
    "name": "ipython",
    "version": 3
   },
   "file_extension": ".py",
   "mimetype": "text/x-python",
   "name": "python",
   "nbconvert_exporter": "python",
   "pygments_lexer": "ipython3",
   "version": "3.10.8"
  }
 },
 "nbformat": 4,
 "nbformat_minor": 5
}
