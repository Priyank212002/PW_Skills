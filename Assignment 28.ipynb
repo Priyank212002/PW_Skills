{
 "cells": [
  {
   "cell_type": "code",
   "execution_count": null,
   "id": "a15bd112-6509-4900-b982-d9398ddfb145",
   "metadata": {},
   "outputs": [],
   "source": [
    "#question 1 \n",
    "\n",
    "\"A Probability Density Function (PDF) is a concept used in probability theory and statistics to describe the probability distribution of a continuous random variable. In simpler terms, it tells us how the probability of the random variable taking on a specific value or falling within a certain range is distributed across its entire range of possible values.\""
   ]
  },
  {
   "cell_type": "code",
   "execution_count": null,
   "id": "0c30e784-7fee-4441-8a7b-24366a17800a",
   "metadata": {},
   "outputs": [],
   "source": [
    "#question 2 \n",
    "\n",
    "'''\n",
    "Biomial Distribution \n",
    "poissons Distribution \n",
    "Normal Distribution \n",
    "Uniform Distribution\n",
    "Log Normal Distribution \n",
    "'''"
   ]
  },
  {
   "cell_type": "code",
   "execution_count": 3,
   "id": "051c61b4-593f-4a7f-bf47-0d7fd9393dc6",
   "metadata": {},
   "outputs": [
    {
     "data": {
      "text/plain": [
       "0.0025251911069332934"
      ]
     },
     "execution_count": 3,
     "metadata": {},
     "output_type": "execute_result"
    }
   ],
   "source": [
    "#question 3\n",
    "\n",
    "import math \n",
    "def normal_pdf(mean,std,x):\n",
    "    pdf = (1/(std * math.sqrt(2 * math.pi))) * math.exp(-((x - mean)**2/(std))**2)\n",
    "    return pdf\n",
    "normal_pdf(0,1,1.5)    "
   ]
  },
  {
   "cell_type": "code",
   "execution_count": null,
   "id": "48c0a12b-dbcf-4221-b91d-10b6868fa9bf",
   "metadata": {},
   "outputs": [],
   "source": [
    "#question 4 \n",
    "\n",
    "'''\n",
    "Discretness\n",
    "Fixed Number of Trials\n",
    "Independent trials\n",
    "Two posssible outcomes\n",
    "'''\n",
    "\n",
    "\"it can be used in coin tossing or any website for click or no click\""
   ]
  },
  {
   "cell_type": "code",
   "execution_count": 6,
   "id": "cab2004f-8840-454c-bfdf-53ece707cce7",
   "metadata": {},
   "outputs": [
    {
     "data": {
      "image/png": "[encoded data removed]",
      "text/plain": [
       "<Figure size 640x480 with 1 Axes>"
      ]
     },
     "metadata": {},
     "output_type": "display_data"
    }
   ],
   "source": [
    "#question 5 \n",
    "\n",
    "import numpy as np\n",
    "import matplotlib.pyplot as plt\n",
    "n = 1000  \n",
    "p = 0.4   \n",
    "\n",
    "random_sample = np.random.binomial(1, p, n)\n",
    "plt.hist(random_sample, bins=2, rwidth=0.8, color='pink', alpha=0.7)\n",
    "plt.xlabel('Success (1) / Failure (0)')\n",
    "plt.ylabel('Frequency')\n",
    "plt.title('Binomial Distribution Histogram')\n",
    "plt.show()\n"
   ]
  },
  {
   "cell_type": "code",
   "execution_count": 8,
   "id": "0da5cbdf-2872-4580-ba7f-b917090d39e2",
   "metadata": {},
   "outputs": [
    {
     "name": "stdout",
     "output_type": "stream",
     "text": [
      "0.42319008112684364\n"
     ]
    }
   ],
   "source": [
    "#question 6\n",
    "\n",
    "from scipy.stats import poisson\n",
    "def poisson_cdf(mean, k):\n",
    "    return poisson.cdf(k, mu=mean)\n",
    "mean = 3  \n",
    "k = 2     \n",
    "cdf_value = poisson_cdf(mean, k)\n",
    "print(cdf_value)\n"
   ]
  },
  {
   "cell_type": "code",
   "execution_count": null,
   "id": "10a2ec0f-6735-40e1-9fdc-8fcb4cf7668c",
   "metadata": {},
   "outputs": [],
   "source": [
    "#question 7 \n",
    "\n",
    "\"The Binomial distribution and the Poisson distribution are both fundamental probability distributions used to model random events, but they differ in several key ways. The Binomial distribution is applicable when dealing with a fixed number of independent trials, each with only two possible outcomes (usually success or failure). The probability of success remains constant across all trials, and it is characterized by two parameters: the number of trials (n) and the probability of success (p) in each trial. In contrast, the Poisson distribution is used to model the number of events or occurrences in a fixed interval of time or space, and there is no predetermined number of trials. Events in a Poisson process are assumed to occur randomly, and this distribution is characterized by a single parameter, the average rate of event occurrences (λ) in the given interval. Essentially, the Binomial distribution deals with discrete events in a fixed, known number of trials, while the Poisson distribution addresses events that happen randomly in a continuous or variable manner within a specified time or space interval.\""
   ]
  },
  {
   "cell_type": "code",
   "execution_count": 9,
   "id": "e702efee-8064-42ba-a919-3078697701a7",
   "metadata": {},
   "outputs": [
    {
     "name": "stdout",
     "output_type": "stream",
     "text": [
      "Sample Mean: 5.033\n",
      "Sample Variance: 4.983911\n"
     ]
    }
   ],
   "source": [
    "#question 8 \n",
    "\n",
    "import numpy as np\n",
    "mean = 5  \n",
    "sample_size = 1000  \n",
    "random_sample = np.random.poisson(mean, size=sample_size)\n",
    "sample_mean = np.mean(random_sample)\n",
    "sample_variance = np.var(random_sample, ddof=0)  \n",
    "print(f\"Sample Mean: {sample_mean}\")\n",
    "print(f\"Sample Variance: {sample_variance}\")\n"
   ]
  },
  {
   "cell_type": "code",
   "execution_count": null,
   "id": "5d9b3687-0899-4d15-9d8a-34a69ff0134d",
   "metadata": {},
   "outputs": [],
   "source": [
    "#question 9 \n",
    "\n",
    "'''\n",
    "In the Binomial distribution, the mean (μ) and variance (σ²) are related by a straightforward formula: σ² = np(1-p), where n is the number of trials and p is the probability of success in each trial. This formula demonstrates that the variance increases as the number of trials (n) or the probability of success (p) deviates from 0.5. When p is close to 0.5 and n is relatively large, the Binomial distribution approximates a normal distribution, and the mean and variance are approximately equal.\n",
    "\n",
    "In contrast, the Poisson distribution has a unique relationship between its mean (λ) and variance (σ²), which is σ² = λ. In other words, the variance of a Poisson distribution is equal to its mean. This characteristic implies that in a Poisson process, where events occur randomly in time or space, the spread or dispersion of event occurrences is directly proportional to the average rate of occurrence (λ). When λ is large, the Poisson distribution approaches a normal distribution, but the mean and variance remain equal.\n",
    "'''"
   ]
  },
  {
   "cell_type": "code",
   "execution_count": null,
   "id": "81b5ad28-c448-42c0-b61e-8b007171302a",
   "metadata": {},
   "outputs": [],
   "source": [
    "#question 10\n",
    "\"it happens to be towards the tail\""
   ]
  }
 ],
 "metadata": {
  "kernelspec": {
   "display_name": "Python 3 (ipykernel)",
   "language": "python",
   "name": "python3"
  },
  "language_info": {
   "codemirror_mode": {
    "name": "ipython",
    "version": 3
   },
   "file_extension": ".py",
   "mimetype": "text/x-python",
   "name": "python",
   "nbconvert_exporter": "python",
   "pygments_lexer": "ipython3",
   "version": "3.10.8"
  }
 },
 "nbformat": 4,
 "nbformat_minor": 5
}
