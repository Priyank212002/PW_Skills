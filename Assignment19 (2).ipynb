{
 "cells": [
  {
   "cell_type": "code",
   "execution_count": 1,
   "id": "4ca5d037-b6c5-4f4a-8906-42e0605937d5",
   "metadata": {},
   "outputs": [
    {
     "name": "stdout",
     "output_type": "stream",
     "text": [
      "Requirement already satisfied: pandas in /opt/conda/lib/python3.10/site-packages (1.5.2)\n",
      "\u001b[31mERROR: Could not find a version that satisfies the requirement as (from versions: none)\u001b[0m\u001b[31m\n",
      "\u001b[0m\u001b[31mERROR: No matching distribution found for as\u001b[0m\u001b[31m\n",
      "\u001b[0m"
     ]
    }
   ],
   "source": [
    "!pip install pandas as pd"
   ]
  },
  {
   "cell_type": "code",
   "execution_count": 2,
   "id": "cb9949b3-0022-4ad0-b7c5-088a5624c31a",
   "metadata": {},
   "outputs": [
    {
     "data": {
      "text/html": [
       "<div>\n",
       "<style scoped>\n",
       "    .dataframe tbody tr th:only-of-type {\n",
       "        vertical-align: middle;\n",
       "    }\n",
       "\n",
       "    .dataframe tbody tr th {\n",
       "        vertical-align: top;\n",
       "    }\n",
       "\n",
       "    .dataframe thead th {\n",
       "        text-align: right;\n",
       "    }\n",
       "</style>\n",
       "<table border=\"1\" class=\"dataframe\">\n",
       "  <thead>\n",
       "    <tr style=\"text-align: right;\">\n",
       "      <th></th>\n",
       "      <th>Name</th>\n",
       "      <th>Age</th>\n",
       "      <th>Gender</th>\n",
       "    </tr>\n",
       "  </thead>\n",
       "  <tbody>\n",
       "    <tr>\n",
       "      <th>0</th>\n",
       "      <td>Alice</td>\n",
       "      <td>25</td>\n",
       "      <td>Female</td>\n",
       "    </tr>\n",
       "    <tr>\n",
       "      <th>1</th>\n",
       "      <td>Bob</td>\n",
       "      <td>30</td>\n",
       "      <td>Male</td>\n",
       "    </tr>\n",
       "    <tr>\n",
       "      <th>2</th>\n",
       "      <td>Claire</td>\n",
       "      <td>27</td>\n",
       "      <td>Female</td>\n",
       "    </tr>\n",
       "  </tbody>\n",
       "</table>\n",
       "</div>"
      ],
      "text/plain": [
       "     Name  Age  Gender\n",
       "0   Alice   25  Female\n",
       "1     Bob   30    Male\n",
       "2  Claire   27  Female"
      ]
     },
     "execution_count": 2,
     "metadata": {},
     "output_type": "execute_result"
    }
   ],
   "source": [
    "#question 1 \n",
    "\n",
    "'''\n",
    "function of the pandas libraries \n",
    "read_csv\n",
    "head\n",
    "tail\n",
    "groupby\n",
    "sort_values\n",
    "'''\n",
    "import pandas as pd\n",
    "\n",
    "df = pd.DataFrame({'Name':['Alice','Bob','Claire'],'Age':[25,30,27],'Gender':['Female','Male','Female']})\n",
    "\n",
    "df.head()\n"
   ]
  },
  {
   "cell_type": "code",
   "execution_count": 3,
   "id": "4ea0494f-daef-43df-a881-36936ae7e4ee",
   "metadata": {},
   "outputs": [
    {
     "data": {
      "text/html": [
       "<div>\n",
       "<style scoped>\n",
       "    .dataframe tbody tr th:only-of-type {\n",
       "        vertical-align: middle;\n",
       "    }\n",
       "\n",
       "    .dataframe tbody tr th {\n",
       "        vertical-align: top;\n",
       "    }\n",
       "\n",
       "    .dataframe thead th {\n",
       "        text-align: right;\n",
       "    }\n",
       "</style>\n",
       "<table border=\"1\" class=\"dataframe\">\n",
       "  <thead>\n",
       "    <tr style=\"text-align: right;\">\n",
       "      <th></th>\n",
       "      <th>Name</th>\n",
       "      <th>Age</th>\n",
       "      <th>Gender</th>\n",
       "    </tr>\n",
       "  </thead>\n",
       "  <tbody>\n",
       "    <tr>\n",
       "      <th>0</th>\n",
       "      <td>Alice</td>\n",
       "      <td>25</td>\n",
       "      <td>Female</td>\n",
       "    </tr>\n",
       "    <tr>\n",
       "      <th>1</th>\n",
       "      <td>Bob</td>\n",
       "      <td>30</td>\n",
       "      <td>Male</td>\n",
       "    </tr>\n",
       "    <tr>\n",
       "      <th>2</th>\n",
       "      <td>Claire</td>\n",
       "      <td>27</td>\n",
       "      <td>Female</td>\n",
       "    </tr>\n",
       "  </tbody>\n",
       "</table>\n",
       "</div>"
      ],
      "text/plain": [
       "     Name  Age  Gender\n",
       "0   Alice   25  Female\n",
       "1     Bob   30    Male\n",
       "2  Claire   27  Female"
      ]
     },
     "execution_count": 3,
     "metadata": {},
     "output_type": "execute_result"
    }
   ],
   "source": [
    "df.tail()"
   ]
  },
  {
   "cell_type": "code",
   "execution_count": 4,
   "id": "dceaf87a-bc4c-4f3a-ab53-cb0a2a177668",
   "metadata": {},
   "outputs": [
    {
     "data": {
      "text/plain": [
       "<pandas.core.groupby.generic.DataFrameGroupBy object at 0x7f5c51f5ec50>"
      ]
     },
     "execution_count": 4,
     "metadata": {},
     "output_type": "execute_result"
    }
   ],
   "source": [
    "df.groupby('Age')"
   ]
  },
  {
   "cell_type": "code",
   "execution_count": 5,
   "id": "7e2b3623-f998-4f96-a60d-980248e046ef",
   "metadata": {},
   "outputs": [
    {
     "data": {
      "text/html": [
       "<div>\n",
       "<style scoped>\n",
       "    .dataframe tbody tr th:only-of-type {\n",
       "        vertical-align: middle;\n",
       "    }\n",
       "\n",
       "    .dataframe tbody tr th {\n",
       "        vertical-align: top;\n",
       "    }\n",
       "\n",
       "    .dataframe thead th {\n",
       "        text-align: right;\n",
       "    }\n",
       "</style>\n",
       "<table border=\"1\" class=\"dataframe\">\n",
       "  <thead>\n",
       "    <tr style=\"text-align: right;\">\n",
       "      <th></th>\n",
       "      <th>Name</th>\n",
       "      <th>Age</th>\n",
       "      <th>Gender</th>\n",
       "    </tr>\n",
       "  </thead>\n",
       "  <tbody>\n",
       "    <tr>\n",
       "      <th>0</th>\n",
       "      <td>Alice</td>\n",
       "      <td>25</td>\n",
       "      <td>Female</td>\n",
       "    </tr>\n",
       "    <tr>\n",
       "      <th>2</th>\n",
       "      <td>Claire</td>\n",
       "      <td>27</td>\n",
       "      <td>Female</td>\n",
       "    </tr>\n",
       "    <tr>\n",
       "      <th>1</th>\n",
       "      <td>Bob</td>\n",
       "      <td>30</td>\n",
       "      <td>Male</td>\n",
       "    </tr>\n",
       "  </tbody>\n",
       "</table>\n",
       "</div>"
      ],
      "text/plain": [
       "     Name  Age  Gender\n",
       "0   Alice   25  Female\n",
       "2  Claire   27  Female\n",
       "1     Bob   30    Male"
      ]
     },
     "execution_count": 5,
     "metadata": {},
     "output_type": "execute_result"
    }
   ],
   "source": [
    "df.sort_values('Age')"
   ]
  },
  {
   "cell_type": "code",
   "execution_count": 11,
   "id": "68ad0399-b5a7-4f88-86d4-04419d6d2c1f",
   "metadata": {},
   "outputs": [
    {
     "name": "stdout",
     "output_type": "stream",
     "text": [
      "    A   B   C\n",
      "1  10  40  70\n",
      "3  20  50  80\n",
      "5  30  60  90\n"
     ]
    }
   ],
   "source": [
    "#question 2 \n",
    "\n",
    "import pandas as pd\n",
    "\n",
    "def reindex_with_increment(df):\n",
    "    new_index = pd.Index(range(1, len(df) * 2, 2))\n",
    "    df_reindexed = df.copy()\n",
    "    df_reindexed.index = new_index\n",
    "    return df_reindexed\n",
    "\n",
    "data = {'A': [10, 20, 30],\n",
    "        'B': [40, 50, 60],\n",
    "        'C': [70, 80, 90]}\n",
    "\n",
    "df = pd.DataFrame(data)\n",
    "df_new_index = reindex_with_increment(df)\n",
    "print(df_new_index)\n"
   ]
  },
  {
   "cell_type": "code",
   "execution_count": 15,
   "id": "a43c1150-ef34-47d7-b201-b6371c214384",
   "metadata": {},
   "outputs": [
    {
     "data": {
      "text/plain": [
       "Values    60\n",
       "dtype: int64"
      ]
     },
     "execution_count": 15,
     "metadata": {},
     "output_type": "execute_result"
    }
   ],
   "source": [
    "#question 3\n",
    "\n",
    "import pandas as pd \n",
    "\n",
    "def Sum(df):\n",
    "    data_values = df['Values']\n",
    "    first_three_values = df.head(3)\n",
    "    sum_of_first_three = first_three_values.sum()\n",
    "    return sum_of_first_three\n",
    "\n",
    "data = {'Values':[10,20,30,40,50]}\n",
    "\n",
    "df = pd.DataFrame(data)\n",
    "Sum(df)\n",
    "\n"
   ]
  },
  {
   "cell_type": "code",
   "execution_count": 19,
   "id": "59ec445d-6bd6-4171-b653-18608beb8c15",
   "metadata": {},
   "outputs": [
    {
     "data": {
      "text/html": [
       "<div>\n",
       "<style scoped>\n",
       "    .dataframe tbody tr th:only-of-type {\n",
       "        vertical-align: middle;\n",
       "    }\n",
       "\n",
       "    .dataframe tbody tr th {\n",
       "        vertical-align: top;\n",
       "    }\n",
       "\n",
       "    .dataframe thead th {\n",
       "        text-align: right;\n",
       "    }\n",
       "</style>\n",
       "<table border=\"1\" class=\"dataframe\">\n",
       "  <thead>\n",
       "    <tr style=\"text-align: right;\">\n",
       "      <th></th>\n",
       "      <th>Text</th>\n",
       "      <th>Word_Count</th>\n",
       "    </tr>\n",
       "  </thead>\n",
       "  <tbody>\n",
       "    <tr>\n",
       "      <th>0</th>\n",
       "      <td>This is a sample text.</td>\n",
       "      <td>5</td>\n",
       "    </tr>\n",
       "    <tr>\n",
       "      <th>1</th>\n",
       "      <td>Another example with more words.</td>\n",
       "      <td>5</td>\n",
       "    </tr>\n",
       "    <tr>\n",
       "      <th>2</th>\n",
       "      <td>Short text.</td>\n",
       "      <td>2</td>\n",
       "    </tr>\n",
       "  </tbody>\n",
       "</table>\n",
       "</div>"
      ],
      "text/plain": [
       "                               Text  Word_Count\n",
       "0            This is a sample text.           5\n",
       "1  Another example with more words.           5\n",
       "2                       Short text.           2"
      ]
     },
     "execution_count": 19,
     "metadata": {},
     "output_type": "execute_result"
    }
   ],
   "source": [
    "#question 4 \n",
    "\n",
    "import pandas as pd\n",
    "\n",
    "def new(df):\n",
    "    df['Word_Count'] = df['Text'].apply(lambda text:len(text.split()))\n",
    "    return df\n",
    "data = {'Text': [\"This is a sample text.\",\n",
    "                 \"Another example with more words.\",\n",
    "                 \"Short text.\"]}\n",
    "\n",
    "df=pd.DataFrame(data)\n",
    "\n",
    "new(df)\n",
    "\n",
    "    "
   ]
  },
  {
   "cell_type": "code",
   "execution_count": null,
   "id": "69ec4973-94fc-4288-b98a-becdd34250b2",
   "metadata": {},
   "outputs": [],
   "source": [
    "#question 5 \n",
    "\n",
    "\"Dataframe.size\"\n",
    "'This attribute returns the total number of elements in the DataFrame.'\n",
    "\n",
    "\"Dataframe.Shape\"\n",
    "'this attribute give the no.of rows * no. of columns'"
   ]
  },
  {
   "cell_type": "code",
   "execution_count": null,
   "id": "781fc937-045c-4580-8528-2fec5157d6cb",
   "metadata": {},
   "outputs": [],
   "source": [
    "#question 6\n",
    "\n",
    "import pandas as pd\n",
    "pd.read_excel()"
   ]
  },
  {
   "cell_type": "code",
   "execution_count": 23,
   "id": "47993f6e-bbcc-432c-b9d6-6b0800501671",
   "metadata": {},
   "outputs": [
    {
     "name": "stdout",
     "output_type": "stream",
     "text": [
      "               Email Username\n",
      "0  user1@example.com    user1\n",
      "1  user2@example.com    user2\n",
      "2  user3@example.com    user3\n"
     ]
    }
   ],
   "source": [
    "#question 7 \n",
    "\n",
    "import pandas as pd\n",
    "\n",
    "def new(df):\n",
    "    df['Username'] = df['Email'].apply(lambda email: email.split('@')[0])\n",
    "    return df\n",
    "\n",
    "data = {'Email': [\"user1@example.com\",\n",
    "                  \"user2@example.com\",\n",
    "                  \"user3@example.com\"]}\n",
    "\n",
    "df = pd.DataFrame(data)\n",
    "new_data = new(df)\n",
    "\n",
    "print(new_data)"
   ]
  },
  {
   "cell_type": "code",
   "execution_count": 30,
   "id": "9cbdc704-9e6f-42c0-a340-8eeb02cb023f",
   "metadata": {},
   "outputs": [
    {
     "data": {
      "text/html": [
       "<div>\n",
       "<style scoped>\n",
       "    .dataframe tbody tr th:only-of-type {\n",
       "        vertical-align: middle;\n",
       "    }\n",
       "\n",
       "    .dataframe tbody tr th {\n",
       "        vertical-align: top;\n",
       "    }\n",
       "\n",
       "    .dataframe thead th {\n",
       "        text-align: right;\n",
       "    }\n",
       "</style>\n",
       "<table border=\"1\" class=\"dataframe\">\n",
       "  <thead>\n",
       "    <tr style=\"text-align: right;\">\n",
       "      <th></th>\n",
       "      <th>A</th>\n",
       "      <th>B</th>\n",
       "      <th>C</th>\n",
       "    </tr>\n",
       "  </thead>\n",
       "  <tbody>\n",
       "    <tr>\n",
       "      <th>1</th>\n",
       "      <td>8</td>\n",
       "      <td>2</td>\n",
       "      <td>7</td>\n",
       "    </tr>\n",
       "    <tr>\n",
       "      <th>2</th>\n",
       "      <td>6</td>\n",
       "      <td>9</td>\n",
       "      <td>4</td>\n",
       "    </tr>\n",
       "    <tr>\n",
       "      <th>4</th>\n",
       "      <td>9</td>\n",
       "      <td>1</td>\n",
       "      <td>2</td>\n",
       "    </tr>\n",
       "  </tbody>\n",
       "</table>\n",
       "</div>"
      ],
      "text/plain": [
       "   A  B  C\n",
       "1  8  2  7\n",
       "2  6  9  4\n",
       "4  9  1  2"
      ]
     },
     "execution_count": 30,
     "metadata": {},
     "output_type": "execute_result"
    }
   ],
   "source": [
    "#question 8 \n",
    "\n",
    "import pandas as pd \n",
    "\n",
    "def filter_new(df):\n",
    "    selected_rows = df[(df['A']>5)& (df['B'] <10)]\n",
    "    return selected_rows\n",
    "data = {'A': [3,8,6,2,9],\n",
    "        'B': [5,2,9,3,1],\n",
    "        'C': [1,7,4,5,2]}\n",
    "\n",
    "df = pd.DataFrame(data)\n",
    "df\n",
    "filter_new(df)"
   ]
  },
  {
   "cell_type": "code",
   "execution_count": 34,
   "id": "a1b9eda8-6235-4b8c-b8cf-1ea5e2864baa",
   "metadata": {},
   "outputs": [
    {
     "name": "stdout",
     "output_type": "stream",
     "text": [
      "30.0 30.0 15.811388300841896\n"
     ]
    }
   ],
   "source": [
    "#question 9 \n",
    "\n",
    "import pandas as pd \n",
    "\n",
    "def all_func(df):\n",
    "    Mean = df['Values'].mean()\n",
    "    Median =df['Values'].median()\n",
    "    Sd= df['Values'].std()\n",
    "    return print(Mean , Median , Sd)\n",
    "\n",
    "data = {'Values':[10,20,30,40,50]}\n",
    "\n",
    "df = pd.DataFrame(data)\n",
    "all_func(df)\n",
    "    "
   ]
  },
  {
   "cell_type": "code",
   "execution_count": 35,
   "id": "77da56d8-8174-44ba-88bc-b12dd6807b67",
   "metadata": {},
   "outputs": [
    {
     "name": "stdout",
     "output_type": "stream",
     "text": [
      "        Date  Sales  MovingAverage\n",
      "0 2023-08-01     10           10.0\n",
      "1 2023-08-02     15           12.5\n",
      "2 2023-08-03     20           15.0\n",
      "3 2023-08-04     25           17.5\n",
      "4 2023-08-05     30           20.0\n",
      "5 2023-08-06     35           22.5\n",
      "6 2023-08-07     40           25.0\n",
      "7 2023-08-08     45           30.0\n",
      "8 2023-08-09     50           35.0\n",
      "9 2023-08-10     55           40.0\n"
     ]
    }
   ],
   "source": [
    "#question 10\n",
    "\n",
    "import pandas as pd \n",
    "\n",
    "\n",
    "def calculate_moving_average(df):\n",
    "    df['MovingAverage'] = df['Sales'].rolling(window=7, min_periods=1).mean()\n",
    "    return df\n",
    "\n",
    "data = {'Date': pd.date_range(start='2023-08-01', periods=10, freq='D'),\n",
    "        'Sales': [10, 15, 20, 25, 30, 35, 40, 45, 50, 55]}\n",
    "\n",
    "df = pd.DataFrame(data)\n",
    "df_with_moving_average = calculate_moving_average(df)\n",
    "print(df_with_moving_average)\n"
   ]
  },
  {
   "cell_type": "code",
   "execution_count": 40,
   "id": "64819209-5cc7-4071-af78-5a3f4a1d4905",
   "metadata": {},
   "outputs": [
    {
     "data": {
      "text/html": [
       "<div>\n",
       "<style scoped>\n",
       "    .dataframe tbody tr th:only-of-type {\n",
       "        vertical-align: middle;\n",
       "    }\n",
       "\n",
       "    .dataframe tbody tr th {\n",
       "        vertical-align: top;\n",
       "    }\n",
       "\n",
       "    .dataframe thead th {\n",
       "        text-align: right;\n",
       "    }\n",
       "</style>\n",
       "<table border=\"1\" class=\"dataframe\">\n",
       "  <thead>\n",
       "    <tr style=\"text-align: right;\">\n",
       "      <th></th>\n",
       "      <th>Date</th>\n",
       "      <th>WeekDay</th>\n",
       "    </tr>\n",
       "  </thead>\n",
       "  <tbody>\n",
       "    <tr>\n",
       "      <th>0</th>\n",
       "      <td>2023-08-01</td>\n",
       "      <td>Tuesday</td>\n",
       "    </tr>\n",
       "    <tr>\n",
       "      <th>1</th>\n",
       "      <td>2023-08-02</td>\n",
       "      <td>Wednesday</td>\n",
       "    </tr>\n",
       "    <tr>\n",
       "      <th>2</th>\n",
       "      <td>2023-08-03</td>\n",
       "      <td>Thursday</td>\n",
       "    </tr>\n",
       "    <tr>\n",
       "      <th>3</th>\n",
       "      <td>2023-08-04</td>\n",
       "      <td>Friday</td>\n",
       "    </tr>\n",
       "    <tr>\n",
       "      <th>4</th>\n",
       "      <td>2023-08-05</td>\n",
       "      <td>Saturday</td>\n",
       "    </tr>\n",
       "    <tr>\n",
       "      <th>5</th>\n",
       "      <td>2023-08-06</td>\n",
       "      <td>Sunday</td>\n",
       "    </tr>\n",
       "    <tr>\n",
       "      <th>6</th>\n",
       "      <td>2023-08-07</td>\n",
       "      <td>Monday</td>\n",
       "    </tr>\n",
       "    <tr>\n",
       "      <th>7</th>\n",
       "      <td>2023-08-08</td>\n",
       "      <td>Tuesday</td>\n",
       "    </tr>\n",
       "    <tr>\n",
       "      <th>8</th>\n",
       "      <td>2023-08-09</td>\n",
       "      <td>Wednesday</td>\n",
       "    </tr>\n",
       "    <tr>\n",
       "      <th>9</th>\n",
       "      <td>2023-08-10</td>\n",
       "      <td>Thursday</td>\n",
       "    </tr>\n",
       "  </tbody>\n",
       "</table>\n",
       "</div>"
      ],
      "text/plain": [
       "        Date    WeekDay\n",
       "0 2023-08-01    Tuesday\n",
       "1 2023-08-02  Wednesday\n",
       "2 2023-08-03   Thursday\n",
       "3 2023-08-04     Friday\n",
       "4 2023-08-05   Saturday\n",
       "5 2023-08-06     Sunday\n",
       "6 2023-08-07     Monday\n",
       "7 2023-08-08    Tuesday\n",
       "8 2023-08-09  Wednesday\n",
       "9 2023-08-10   Thursday"
      ]
     },
     "execution_count": 40,
     "metadata": {},
     "output_type": "execute_result"
    }
   ],
   "source": [
    "#question 11 \n",
    "\n",
    "import pandas as pd\n",
    "\n",
    "def new(df):\n",
    "    df['WeekDay'] = df['Date'].dt.day_name()\n",
    "    return df\n",
    "\n",
    "data = {'Date': pd.date_range(start='2023-08-01', periods=10, freq='D')}\n",
    "\n",
    "df = pd.DataFrame(data)\n",
    "\n",
    "new(df)\n"
   ]
  },
  {
   "cell_type": "code",
   "execution_count": null,
   "id": "0cf6903c-ee79-4a86-bdc4-dbee3a659400",
   "metadata": {},
   "outputs": [],
   "source": [
    "#question 12\n",
    "\n",
    "import pandas as pd\n",
    "\n",
    "def select_rows_within_range(df, start_date, end_date):\n",
    "    mask = (df['Date'] >= start_date) & (df['Date'] <= end_date)\n",
    "    selected_rows = df[mask]\n",
    "    return selected_rows\n",
    "\n",
    "data = {'Date': pd.date_range(start='2023-01-01', periods=10, freq='D')}\n",
    "\n",
    "df = pd.DataFrame(data)\n",
    "start_date = '2023-01-01'\n",
    "end_date = '2023-01-31'\n",
    "selected_rows_df = select_rows_within_range(df, start_date, end_date)\n",
    "print(selected_rows_df)\n"
   ]
  },
  {
   "cell_type": "code",
   "execution_count": null,
   "id": "489a3a6d-fba5-4bf3-b39e-a1236cac1862",
   "metadata": {},
   "outputs": [],
   "source": [
    "#question 13\n",
    "\n"
   ]
  }
 ],
 "metadata": {
  "kernelspec": {
   "display_name": "Python 3 (ipykernel)",
   "language": "python",
   "name": "python3"
  },
  "language_info": {
   "codemirror_mode": {
    "name": "ipython",
    "version": 3
   },
   "file_extension": ".py",
   "mimetype": "text/x-python",
   "name": "python",
   "nbconvert_exporter": "python",
   "pygments_lexer": "ipython3",
   "version": "3.10.8"
  }
 },
 "nbformat": 4,
 "nbformat_minor": 5
}
