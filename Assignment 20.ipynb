{
 "cells": [
  {
   "cell_type": "code",
   "execution_count": 6,
   "id": "51631cd3-aae3-4fd9-9658-841495f78684",
   "metadata": {},
   "outputs": [
    {
     "data": {
      "text/plain": [
       "course_name    Big Data\n",
       "duration              6\n",
       "Name: 2, dtype: object"
      ]
     },
     "execution_count": 6,
     "metadata": {},
     "output_type": "execute_result"
    }
   ],
   "source": [
    "#question 1\n",
    "\n",
    "import pandas as pd\n",
    "course_name = ['Data Science', 'Machine Learning', 'Big Data', 'Data Engineer']\n",
    "duration = [2,3,6,4]\n",
    "df = pd.DataFrame(data = {'course_name' : course_name, 'duration' : duration})\n",
    "df.iloc[2]\n"
   ]
  },
  {
   "cell_type": "code",
   "execution_count": null,
   "id": "6c75da19-b019-433f-8915-b216d8db06bf",
   "metadata": {},
   "outputs": [],
   "source": [
    "#question 2 \n",
    "\n",
    "#loc\n",
    "\"works on label based indexing\"\n",
    "\n",
    "#iloc\n",
    "\"works on integer based indexing \""
   ]
  },
  {
   "cell_type": "code",
   "execution_count": 9,
   "id": "5468d9b8-653e-4516-92e2-df654e71aee7",
   "metadata": {},
   "outputs": [
    {
     "data": {
      "text/html": [
       "<div>\n",
       "<style scoped>\n",
       "    .dataframe tbody tr th:only-of-type {\n",
       "        vertical-align: middle;\n",
       "    }\n",
       "\n",
       "    .dataframe tbody tr th {\n",
       "        vertical-align: top;\n",
       "    }\n",
       "\n",
       "    .dataframe thead th {\n",
       "        text-align: right;\n",
       "    }\n",
       "</style>\n",
       "<table border=\"1\" class=\"dataframe\">\n",
       "  <thead>\n",
       "    <tr style=\"text-align: right;\">\n",
       "      <th></th>\n",
       "      <th>course_name</th>\n",
       "      <th>duration</th>\n",
       "    </tr>\n",
       "  </thead>\n",
       "  <tbody>\n",
       "    <tr>\n",
       "      <th>3</th>\n",
       "      <td>Data Engineer</td>\n",
       "      <td>4</td>\n",
       "    </tr>\n",
       "    <tr>\n",
       "      <th>0</th>\n",
       "      <td>Data Science</td>\n",
       "      <td>2</td>\n",
       "    </tr>\n",
       "    <tr>\n",
       "      <th>1</th>\n",
       "      <td>Machine Learning</td>\n",
       "      <td>3</td>\n",
       "    </tr>\n",
       "    <tr>\n",
       "      <th>2</th>\n",
       "      <td>Big Data</td>\n",
       "      <td>6</td>\n",
       "    </tr>\n",
       "  </tbody>\n",
       "</table>\n",
       "</div>"
      ],
      "text/plain": [
       "        course_name  duration\n",
       "3     Data Engineer         4\n",
       "0      Data Science         2\n",
       "1  Machine Learning         3\n",
       "2          Big Data         6"
      ]
     },
     "execution_count": 9,
     "metadata": {},
     "output_type": "execute_result"
    }
   ],
   "source": [
    "#question 3 \n",
    "\n",
    "import pandas as pd\n",
    "course_name = ['Data Science', 'Machine Learning', 'Big Data', 'Data Engineer']\n",
    "duration = [2,3,6,4]\n",
    "df = pd.DataFrame(data = {'course_name' : course_name, 'duration' : duration})\n",
    "\n",
    "reindex = [3,0,1,2]\n",
    "\n",
    "new_df = df.reindex(reindex)\n",
    "new_df\n"
   ]
  },
  {
   "cell_type": "code",
   "execution_count": 12,
   "id": "9e4dc64c-3368-4143-9b19-6b2f6375e984",
   "metadata": {},
   "outputs": [
    {
     "name": "stdout",
     "output_type": "stream",
     "text": [
      "(0.5567844458302763, 0.6451116473739925, 0.6333593398109705, 0.38162684119729356, 0.5751573531986812, 0.465090650004986)\n"
     ]
    }
   ],
   "source": [
    "#question 4 \n",
    "\n",
    "import pandas as pd\n",
    "import numpy as np\n",
    "columns = ['column_1', 'column_2', 'column_3', 'column_4', 'column_5', 'column_6']\n",
    "indices = [1,2,3,4,5,6]\n",
    "#Creating a dataframe:\n",
    "df1 = pd.DataFrame(np.random.rand(6,6), columns = columns, index = indices)\n",
    "\n",
    "a = df1['column_1'].mean(),df1['column_2'].mean(),df1['column_3'].mean(),df1['column_4'].mean(),df1['column_5'].mean(),df1['column_6'].mean()\n",
    "\n",
    "print(a)"
   ]
  },
  {
   "cell_type": "code",
   "execution_count": 13,
   "id": "e965a08f-a896-420f-b844-407e422bb659",
   "metadata": {},
   "outputs": [
    {
     "name": "stdout",
     "output_type": "stream",
     "text": [
      "(0.2965480243786108, 0.32394167312635963)\n"
     ]
    }
   ],
   "source": [
    "\n",
    "import pandas as pd\n",
    "import numpy as np\n",
    "columns = ['column_1', 'column_2', 'column_3', 'column_4', 'column_5', 'column_6']\n",
    "indices = [1,2,3,4,5,6]\n",
    "#Creating a dataframe:\n",
    "df1 = pd.DataFrame(np.random.rand(6,6), columns = columns, index = indices)\n",
    "\n",
    "b = df1['column_1'].std(),df1['column_2'].std()\n",
    "print(b)"
   ]
  },
  {
   "cell_type": "code",
   "execution_count": 15,
   "id": "bcdc475b-42bb-4c39-bf68-b0a072b5bf8d",
   "metadata": {},
   "outputs": [
    {
     "name": "stderr",
     "output_type": "stream",
     "text": [
      "/tmp/ipykernel_95/2867996308.py:10: SettingWithCopyWarning: \n",
      "A value is trying to be set on a copy of a slice from a DataFrame\n",
      "\n",
      "See the caveats in the documentation: https://pandas.pydata.org/pandas-docs/stable/user_guide/indexing.html#returning-a-view-versus-a-copy\n",
      "  df1['column_2'].loc[1] = \"Arey bhai\"\n"
     ]
    },
    {
     "data": {
      "text/html": [
       "<div>\n",
       "<style scoped>\n",
       "    .dataframe tbody tr th:only-of-type {\n",
       "        vertical-align: middle;\n",
       "    }\n",
       "\n",
       "    .dataframe tbody tr th {\n",
       "        vertical-align: top;\n",
       "    }\n",
       "\n",
       "    .dataframe thead th {\n",
       "        text-align: right;\n",
       "    }\n",
       "</style>\n",
       "<table border=\"1\" class=\"dataframe\">\n",
       "  <thead>\n",
       "    <tr style=\"text-align: right;\">\n",
       "      <th></th>\n",
       "      <th>column_1</th>\n",
       "      <th>column_2</th>\n",
       "      <th>column_3</th>\n",
       "      <th>column_4</th>\n",
       "      <th>column_5</th>\n",
       "      <th>column_6</th>\n",
       "    </tr>\n",
       "  </thead>\n",
       "  <tbody>\n",
       "    <tr>\n",
       "      <th>1</th>\n",
       "      <td>Arey bhai</td>\n",
       "      <td>Arey bhai</td>\n",
       "      <td>0.920774</td>\n",
       "      <td>0.316527</td>\n",
       "      <td>0.334491</td>\n",
       "      <td>0.569672</td>\n",
       "    </tr>\n",
       "    <tr>\n",
       "      <th>2</th>\n",
       "      <td>0.542009</td>\n",
       "      <td>0.397646</td>\n",
       "      <td>0.921208</td>\n",
       "      <td>0.272761</td>\n",
       "      <td>0.899316</td>\n",
       "      <td>0.616055</td>\n",
       "    </tr>\n",
       "    <tr>\n",
       "      <th>3</th>\n",
       "      <td>0.299559</td>\n",
       "      <td>0.218022</td>\n",
       "      <td>0.283856</td>\n",
       "      <td>0.667126</td>\n",
       "      <td>0.981678</td>\n",
       "      <td>0.686235</td>\n",
       "    </tr>\n",
       "    <tr>\n",
       "      <th>4</th>\n",
       "      <td>0.371779</td>\n",
       "      <td>0.993441</td>\n",
       "      <td>0.313068</td>\n",
       "      <td>0.467403</td>\n",
       "      <td>0.673094</td>\n",
       "      <td>0.984610</td>\n",
       "    </tr>\n",
       "    <tr>\n",
       "      <th>5</th>\n",
       "      <td>0.558618</td>\n",
       "      <td>0.306024</td>\n",
       "      <td>0.157960</td>\n",
       "      <td>0.062385</td>\n",
       "      <td>0.011967</td>\n",
       "      <td>0.966169</td>\n",
       "    </tr>\n",
       "    <tr>\n",
       "      <th>6</th>\n",
       "      <td>0.674285</td>\n",
       "      <td>0.007658</td>\n",
       "      <td>0.109336</td>\n",
       "      <td>0.483762</td>\n",
       "      <td>0.837825</td>\n",
       "      <td>0.994171</td>\n",
       "    </tr>\n",
       "  </tbody>\n",
       "</table>\n",
       "</div>"
      ],
      "text/plain": [
       "    column_1   column_2  column_3  column_4  column_5  column_6\n",
       "1  Arey bhai  Arey bhai  0.920774  0.316527  0.334491  0.569672\n",
       "2   0.542009   0.397646  0.921208  0.272761  0.899316  0.616055\n",
       "3   0.299559   0.218022  0.283856  0.667126  0.981678  0.686235\n",
       "4   0.371779   0.993441  0.313068  0.467403  0.673094  0.984610\n",
       "5   0.558618   0.306024  0.157960  0.062385  0.011967  0.966169\n",
       "6   0.674285   0.007658  0.109336  0.483762  0.837825  0.994171"
      ]
     },
     "execution_count": 15,
     "metadata": {},
     "output_type": "execute_result"
    }
   ],
   "source": [
    "#quwestion 5\n",
    "\n",
    "import pandas as pd\n",
    "import numpy as np\n",
    "columns = ['column_1', 'column_2', 'column_3', 'column_4', 'column_5', 'column_6']\n",
    "indices = [1,2,3,4,5,6]\n",
    "#Creating a dataframe:\n",
    "df1 = pd.DataFrame(np.random.rand(6,6), columns = columns, index = indices)\n",
    "\n",
    "\n",
    "df1['column_1'].loc[1] = \"Arey bhai\"\n",
    "df1['column_2'].loc[1] = \"Arey bhai\"\n",
    "\n",
    "df1"
   ]
  },
  {
   "cell_type": "code",
   "execution_count": null,
   "id": "5ad3c5c4-5a24-4da1-8b3a-c66ec4b13498",
   "metadata": {},
   "outputs": [],
   "source": [
    "#question 6 \n",
    "\n",
    "\"window functions (also known as rolling or moving functions) are used to perform calculations on a sliding window of data within a DataFrame or Series. These functions allow you to compute aggregate statistics, transformations, and other operations on a specified window of data points as the window moves across the data.\"\n",
    "\n",
    "'''\n",
    "Rolling aggregation \n",
    "shifts and lags\n",
    "exponential moving average \n",
    "custom window specification \n",
    "Expanding windows\n",
    "'''"
   ]
  },
  {
   "cell_type": "code",
   "execution_count": 2,
   "id": "413d9b07-ce17-4bc4-9048-5bc32aafb0ef",
   "metadata": {},
   "outputs": [
    {
     "name": "stdout",
     "output_type": "stream",
     "text": [
      "the current month is 8 and the current day that is going on is 22\n"
     ]
    }
   ],
   "source": [
    "#question 7 \n",
    "\n",
    "import datetime\n",
    "\n",
    "current_date = datetime.datetime.now()\n",
    "\n",
    "current_month=current_date.month\n",
    "current_day= current_date.day\n",
    "\n",
    "print(f\"the current month is {current_month} and the current day that is going on is {current_day}\")"
   ]
  },
  {
   "cell_type": "code",
   "execution_count": null,
   "id": "51a3e4df-7c75-4214-9450-aecb10abfc03",
   "metadata": {},
   "outputs": [],
   "source": [
    "#question 8\n",
    "\n",
    "def new(start_date,end_date):\n",
    "    start_date = pd.to_datetime(start_date)\n",
    "    end_date= pd.to_datetime(end_date)\n",
    "    time_difference = end_date - start_date\n",
    "    return time_difference\n",
    "\n",
    "start_date_input = input(\"Enter the date (YYYY-MM-DD)\")\n",
    "end_date_input = input(\"Enter the date (YYYY-MM-DD)\")\n",
    "\n",
    "time_difference = caluculate_time_difference(start_date_input,end_date_input)\n",
    "\n",
    "days = time_difference.days\n",
    "hours = time_difference.seconds // 3600\n",
    "minutes = (time_difference.seconds // 60) % 60\n",
    "\n",
    "# Display the result\n",
    "print(f\"Time Difference:\")\n",
    "print(f\"Days: {days}\")\n",
    "print(f\"Hours: {hours}\")\n",
    "print(f\"Minutes: {minutes}\")\n",
    "\n",
    "\n"
   ]
  },
  {
   "cell_type": "code",
   "execution_count": null,
   "id": "f203ec90-8302-4659-91c2-c051dcf60683",
   "metadata": {},
   "outputs": [],
   "source": [
    "#question 9\n",
    "\n",
    "import pandas as pd\n",
    "\n",
    "\n",
    "file_path = input(\"Enter the file path of the CSV file: \")\n",
    "column_name = input(\"Enter the column name to convert to categorical: \")\n",
    "category_order = input(\"Enter the category order (comma-separated values): \").split(',')\n",
    "\n",
    "df = pd.read_csv(file_path)\n",
    "\n",
    "df[column_name] = pd.Categorical(df[column_name], categories=category_order, ordered=True)\n",
    "print(f\"Column '{column_name}' not found in the CSV file.\") \n",
    "sorted_df = df.sort_values(by=[column_name])\n",
    "print(\"\\nSorted Data:\")\n",
    "print(sorted_df)\n",
    "\n"
   ]
  },
  {
   "cell_type": "code",
   "execution_count": null,
   "id": "32ffcc62-d58a-4e62-9da9-95762debc79e",
   "metadata": {},
   "outputs": [],
   "source": [
    "#question 10 \n",
    "\n",
    "import pandas as pd \n",
    "import matplotlib.pyplot as plt\n",
    "\n",
    "file_path = input(\"Enter the file path of the file\")\n",
    "df = pd.read_csv(file_path)\n",
    "\n",
    "df['Date'] = pd.to_datetime(df['Date'])\n",
    "\n",
    "pivot_df = df.pivot_table(index='Date', columns='ProductCategory', values='Sales', aggfunc='sum')\n",
    "\n",
    "plt.figure(figsize=(10, 6))\n",
    "pivot_df.plot(kind='bar', stacked=True)\n",
    "plt.title('Sales by Product Category Over Time')\n",
    "plt.xlabel('Date')\n",
    "plt.ylabel('Sales')\n",
    "plt.legend(title='Product Category')\n",
    "plt.xticks(rotation=45)\n",
    "plt.tight_layout()\n",
    "\n",
    "plt.show()\n",
    "\n"
   ]
  },
  {
   "cell_type": "code",
   "execution_count": null,
   "id": "0e85d739-635d-46b7-a516-6044f4323e23",
   "metadata": {},
   "outputs": [],
   "source": [
    "#question 11\n",
    "\n",
    "import pandas as pd\n",
    "\n",
    "file_path = input(\"Enter the file path of the CSV file: \")\n",
    "df = pd.read_csv(file_path)\n",
    "\n",
    "mean_score = df['Test Score'].mean()\n",
    "median_score = df['Test Score'].median()\n",
    "mode_scores = df['Test Score'].mode()\n",
    "\n",
    "data = {'mean':mean_score,'median':median_score,'mode':mode_scores}\n",
    "\n",
    "df1 = pd.DataFrame(data)\n",
    "df1\n"
   ]
  }
 ],
 "metadata": {
  "kernelspec": {
   "display_name": "Python 3 (ipykernel)",
   "language": "python",
   "name": "python3"
  },
  "language_info": {
   "codemirror_mode": {
    "name": "ipython",
    "version": 3
   },
   "file_extension": ".py",
   "mimetype": "text/x-python",
   "name": "python",
   "nbconvert_exporter": "python",
   "pygments_lexer": "ipython3",
   "version": "3.10.8"
  }
 },
 "nbformat": 4,
 "nbformat_minor": 5
}
