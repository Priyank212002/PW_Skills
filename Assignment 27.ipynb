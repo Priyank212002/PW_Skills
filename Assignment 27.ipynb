{
 "cells": [
  {
   "cell_type": "code",
   "execution_count": null,
   "id": "124e0bd1-07f1-42bf-a154-52ecb924cb75",
   "metadata": {},
   "outputs": [],
   "source": [
    "#question 1 \n",
    "\n",
    "'''\n",
    "Mean \n",
    "Median \n",
    "Mode\n",
    "'''"
   ]
  },
  {
   "cell_type": "code",
   "execution_count": null,
   "id": "6462fe75-b62d-444e-934c-7cb581a84b3e",
   "metadata": {},
   "outputs": [],
   "source": [
    "#question 2 \n",
    "\n",
    "'''\n",
    "The mean, median, and mode are three different measures of central tendency, which describe where the center of a dataset is located. They provide insights into the \"typical\" or \"central\" value of the data, but they do so in different ways, making them suitable for different types of data distributions and analysis purposes.\n",
    "'''"
   ]
  },
  {
   "cell_type": "code",
   "execution_count": 5,
   "id": "7e28f1f6-b9c3-40f8-bffa-5f23682c3bbf",
   "metadata": {},
   "outputs": [
    {
     "data": {
      "text/plain": [
       "177.01875"
      ]
     },
     "execution_count": 5,
     "metadata": {},
     "output_type": "execute_result"
    }
   ],
   "source": [
    "#question 3\n",
    "\n",
    "import numpy as np\n",
    "l = [178,177,176,177,178.2,178,175,179,180,175,178.9,176.2,177,172.5,178,176.5]\n",
    "\n",
    "np.mean(l)"
   ]
  },
  {
   "cell_type": "code",
   "execution_count": 6,
   "id": "aa535bd7-5598-4548-b53c-409cf3ffc0b5",
   "metadata": {},
   "outputs": [
    {
     "data": {
      "text/plain": [
       "1.7885814036548633"
      ]
     },
     "execution_count": 6,
     "metadata": {},
     "output_type": "execute_result"
    }
   ],
   "source": [
    "#question 4 \n",
    "import numpy as np\n",
    "l = [178,177,176,177,178.2,178,175,179,180,175,178.9,176.2,177,172.5,178,176.5]\n",
    "\n",
    "np.std(l)\n"
   ]
  },
  {
   "cell_type": "code",
   "execution_count": null,
   "id": "f556d97e-523c-458b-a6ca-41c9be570afb",
   "metadata": {},
   "outputs": [],
   "source": [
    "#question 5 \n",
    "\n",
    "'''\n",
    "Measures of dispersion, including range, variance, and standard deviation, are used to describe the spread or variability of a dataset. They provide information about how closely or widely the individual data points are distributed around the central tendency (mean, median, etc.). Let's explore these measures using an example:\n",
    "\n",
    "**Example: Exam Scores**\n",
    "\n",
    "Imagine you have collected exam scores from two different classes of students. The scores for Class A and Class B are as follows:\n",
    "\n",
    "Class A: 85, 90, 92, 88, 85\n",
    "Class B: 70, 75, 85, 95, 100\n",
    "\n",
    "1. **Range**:\n",
    "   - The range is the simplest measure of dispersion. It's the difference between the maximum and minimum values in the dataset.\n",
    "   - For Class A: Range = 92 - 85 = 7\n",
    "   - For Class B: Range = 100 - 70 = 30\n",
    "\n",
    "2. **Variance**:\n",
    "   - Variance measures the average squared difference between each data point and the mean of the dataset.\n",
    "   - Calculating the variance involves these steps:\n",
    "     1. Calculate the mean of the dataset.\n",
    "     2. Subtract the mean from each data point and square the result.\n",
    "     3. Calculate the average of these squared differences.\n",
    "   - Variance is sensitive to the scale of the data and its unit is squared.\n",
    "   - For Class A:\n",
    "     - Mean = (85 + 90 + 92 + 88 + 85) / 5 = 88\n",
    "     - Variance = [(85 - 88)^2 + (90 - 88)^2 + (92 - 88)^2 + (88 - 88)^2 + (85 - 88)^2] / 5 = 8.8\n",
    "   - For Class B:\n",
    "     - Mean = (70 + 75 + 85 + 95 + 100) / 5 = 85\n",
    "     - Variance = [(70 - 85)^2 + (75 - 85)^2 + (85 - 85)^2 + (95 - 85)^2 + (100 - 85)^2] / 5 = 325\n",
    "\n",
    "3. **Standard Deviation**:\n",
    "   - The standard deviation is the square root of the variance. It's a more interpretable measure of dispersion.\n",
    "   - For Class A: Standard Deviation = √8.8 ≈ 2.97\n",
    "   - For Class B: Standard Deviation = √325 ≈ 18.03\n",
    "\n",
    "In this example, the range of Class B is wider, indicating greater variability in scores. The variance and standard deviation for Class B are also higher, reinforcing the idea of greater spread in the data. Class A has lower variance and standard deviation, indicating less variability in scores.\n",
    "\n",
    "In summary, measures of dispersion provide insights into the extent to which data points are spread out around the central tendency. Range gives a basic sense of spread, while variance and standard deviation provide more detailed information about the distribution of data points.\n",
    "'''"
   ]
  },
  {
   "cell_type": "code",
   "execution_count": null,
   "id": "3e97f650-4e49-4c85-a396-952c001b80f1",
   "metadata": {},
   "outputs": [],
   "source": [
    "#question 6 \n",
    "\n",
    "\"A Venn diagram is a visual representation used to show the relationships between different sets or groups of items. It uses overlapping circles or other shapes to indicate the common and distinct elements within those sets. Venn diagrams are particularly helpful in illustrating concepts of set theory, logic, and relationships among different categories.\"\n"
   ]
  },
  {
   "cell_type": "code",
   "execution_count": 9,
   "id": "5b4c7cda-b8e5-4d3a-9ad9-7dbe562bd3e2",
   "metadata": {},
   "outputs": [
    {
     "data": {
      "text/plain": [
       "'A ∪ B = {0, 2, 3, 4, 5, 6, 7, 8, 10}'"
      ]
     },
     "execution_count": 9,
     "metadata": {},
     "output_type": "execute_result"
    }
   ],
   "source": [
    "#question 7 \n",
    "\n",
    "\"A ∩ B = {2, 6}\"\n",
    "\n",
    "\"A ∪ B = {0, 2, 3, 4, 5, 6, 7, 8, 10}\""
   ]
  },
  {
   "cell_type": "code",
   "execution_count": null,
   "id": "c1d062a9-604d-4572-844c-0c1c80f4b57a",
   "metadata": {},
   "outputs": [],
   "source": [
    "#question 8 \n",
    "\n",
    "\"Skewness in data refers to the asymmetry or lack of symmetry in the distribution of values within a dataset. It indicates the extent to which the data distribution is skewed or shifted to one side relative to its central tendency. In other words, it describes the shape of the distribution and how stretched or skewed it is toward the left or right.\""
   ]
  },
  {
   "cell_type": "code",
   "execution_count": null,
   "id": "fbde67bf-7db4-4879-81cf-1828e5a15339",
   "metadata": {},
   "outputs": [],
   "source": [
    "#question 9 \n",
    "\n",
    "\"Left side\"\n"
   ]
  },
  {
   "cell_type": "code",
   "execution_count": null,
   "id": "642b24aa-edc0-4bba-8eed-66c9f8f5d9a9",
   "metadata": {},
   "outputs": [],
   "source": [
    "#question 10 \n",
    "\n",
    "'''\n",
    "Covariance:\n",
    "Covariance measures the degree to which two variables change together. It indicates the direction of the linear relationship between the variables (positive or negative) and the extent to which their deviations from the mean coincide.\n",
    "\n",
    "Mathematically, the covariance between two variables X and Y is calculated as:\n",
    "\n",
    "Cov(X, Y) = Σ [(Xᵢ - X̄) * (Yᵢ - Ȳ)] / (n - 1)\n",
    "\n",
    "where:\n",
    "\n",
    "Xᵢ and Yᵢ are individual data points from the two variables.\n",
    "X̄ and Ȳ are the means of X and Y, respectively.\n",
    "n is the number of data points.\n",
    "Covariance can take any value, positive or negative, and its magnitude is not standardized, making it difficult to interpret its strength.\n",
    "\n",
    "Correlation:\n",
    "Correlation is a standardized measure of the linear relationship between two variables. It provides information not only about the direction (positive or negative) of the relationship but also about the strength of the relationship.\n",
    "\n",
    "The Pearson correlation coefficient (often simply referred to as \"correlation\") is the most common type of correlation and is calculated as:\n",
    "\n",
    "ρ(X, Y) = Cov(X, Y) / (σₓ * σᵧ)\n",
    "'''"
   ]
  },
  {
   "cell_type": "code",
   "execution_count": 11,
   "id": "050a5753-c907-4fb7-b83a-9d3bfa663ae6",
   "metadata": {},
   "outputs": [
    {
     "data": {
      "text/plain": [
       "19.78594262295082"
      ]
     },
     "execution_count": 11,
     "metadata": {},
     "output_type": "execute_result"
    }
   ],
   "source": [
    "#question 11\n",
    "\n",
    "\"Sample Mean (x̄) = Σx / n\"\n",
    "\n",
    "import numpy as np\n",
    "import seaborn as sns\n",
    "\n",
    "df = sns.load_dataset('tips')\n",
    "\n",
    "df['total_bill'].mean()"
   ]
  },
  {
   "cell_type": "code",
   "execution_count": null,
   "id": "814a77c9-0ac9-4fd8-b3ea-bb034055cc46",
   "metadata": {},
   "outputs": [],
   "source": [
    "#question 12 \n",
    "\n",
    "'''\n",
    "Mean: The mean, which is the average of all the data points, is located exactly at the center of the distribution. This is also the point where the distribution is balanced.\n",
    "\n",
    "Median: The median, which is the middle value when the data points are ordered, is also located at the center of the distribution in a symmetrical normal distribution.\n",
    "\n",
    "Mode: The mode, which is the most frequently occurring value, is also at the center of the distribution. In a normal distribution, every value occurs with the same frequency, so there is no single mode. However, the entire distribution is mound-shaped and symmetric around the mean, indicating that all values are equally \"common.\"\n",
    "\n",
    "'''"
   ]
  },
  {
   "cell_type": "code",
   "execution_count": null,
   "id": "ad3ebe18-ffda-45da-90cc-3345e12892c0",
   "metadata": {},
   "outputs": [],
   "source": [
    "#question 13 \n",
    "\n",
    "'''\n",
    "Covariance:\n",
    "\n",
    "Definition: Covariance measures the degree to which two variables change together. It indicates the direction (positive or negative) of the linear relationship between the variables and the extent to which their deviations from the mean coincide.\n",
    "'''\n",
    "\n",
    "'''\n",
    "Correlation:\n",
    "\n",
    "Definition: Correlation is a standardized measure of the linear relationship between two variables. It not only indicates the direction of the relationship but also quantifies the strength.\n",
    "'''"
   ]
  },
  {
   "cell_type": "code",
   "execution_count": null,
   "id": "c7014d5c-1bc4-48de-bd12-83927341e98f",
   "metadata": {},
   "outputs": [],
   "source": [
    "#question 14\n",
    "\n",
    "'''\n",
    "Outliers are data points that deviate significantly from the rest of the dataset. They can have a notable impact on measures of central tendency (like the mean, median, and mode) and measures of dispersion (like range, variance, and standard deviation). Outliers can distort these measures, leading to potentially misleading insights about the data's characteristics.\n",
    "\n",
    "Let's consider an example using a dataset of exam scores:\n",
    "\n",
    "Dataset: 75, 80, 82, 85, 88, 90, 92, 94, 95, 150\n",
    "\n",
    "In this example, the score \"150\" is an outlier because it's substantially higher than the other scores. Let's examine how this outlier affects measures of central tendency and dispersion:\n",
    "\n",
    "Without Outlier:\n",
    "\n",
    "Mean: (75 + 80 + 82 + 85 + 88 + 90 + 92 + 94 + 95) / 9 = 87.89\n",
    "Median: Middle value = 88\n",
    "Range: 95 - 75 = 20\n",
    "Variance: Calculated variance\n",
    "With Outlier:\n",
    "\n",
    "Mean: (75 + 80 + 82 + 85 + 88 + 90 + 92 + 94 + 95 + 150) / 10 = 94.1\n",
    "Median: Middle value = 89\n",
    "Range: 150 - 75 = 75\n",
    "Variance: Calculated variance\n",
    "In this example, the outlier \"150\" has a significant impact:\n",
    "'''"
   ]
  }
 ],
 "metadata": {
  "kernelspec": {
   "display_name": "Python 3 (ipykernel)",
   "language": "python",
   "name": "python3"
  },
  "language_info": {
   "codemirror_mode": {
    "name": "ipython",
    "version": 3
   },
   "file_extension": ".py",
   "mimetype": "text/x-python",
   "name": "python",
   "nbconvert_exporter": "python",
   "pygments_lexer": "ipython3",
   "version": "3.10.8"
  }
 },
 "nbformat": 4,
 "nbformat_minor": 5
}
