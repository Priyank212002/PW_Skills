{
 "cells": [
  {
   "cell_type": "code",
   "execution_count": 5,
   "id": "d296da47-2937-4ecf-97b8-62e2253285e0",
   "metadata": {},
   "outputs": [],
   "source": [
    "#question 1\n",
    "\n",
    "class vehicle:\n",
    "    def __init__(self,name_of_vehicle, max_speed,average_of_vehicle):\n",
    "        self.name_of_vehicle=name_of_vehicle\n",
    "        self.max_speed=max_speed\n",
    "        self.average_of_vehicle=average_of_vehicle\n",
    "        \n",
    "Raju = vehicle(\"Honda\",100,32)\n"
   ]
  },
  {
   "cell_type": "code",
   "execution_count": 10,
   "id": "50e5835e-a7eb-4d3c-a1bd-edd6967a4b8d",
   "metadata": {},
   "outputs": [
    {
     "name": "stdout",
     "output_type": "stream",
     "text": [
      "Honda has a capacity of 5\n"
     ]
    }
   ],
   "source": [
    "#question 2\n",
    "\n",
    "class vehicle:\n",
    "    def __init__(self,name_of_vehicle, max_speed,average_of_vehicle):\n",
    "        self.name_of_vehicle=name_of_vehicle\n",
    "        self.max_speed=max_speed\n",
    "        self.average_of_vehicle=average_of_vehicle\n",
    "        \n",
    "class Cars(vehicle):\n",
    "       def __init__(self,name_of_vehicle, max_speed,average_of_vehicle):\n",
    "            super().__init__(name_of_vehicle, max_speed,average_of_vehicle)\n",
    "       \n",
    "       def seating_capacity(self,capacity):\n",
    "            return f\"{self.name_of_vehicle} has a capacity of {capacity}\"\n",
    "        \n",
    "first = vehicle(\"SUV\",200,30)\n",
    "car_1 = Cars(\"Honda\",180,20)\n",
    "\n",
    "print(car_1.seating_capacity(5))\n"
   ]
  },
  {
   "cell_type": "code",
   "execution_count": 22,
   "id": "97d45f9d-352b-4c7c-a732-dbaa40566a9a",
   "metadata": {},
   "outputs": [
    {
     "data": {
      "text/plain": [
       "'This is not it'"
      ]
     },
     "execution_count": 22,
     "metadata": {},
     "output_type": "execute_result"
    }
   ],
   "source": [
    "#question 3\n",
    "\n",
    "\"Multiple inheritance is a feature in object-oriented programming where a class can inherit properties and behaviors from more than one parent class. In other words, a subclass can have multiple superclasses.\"\n",
    "\n",
    "class first : \n",
    "    def test(self):\n",
    "        return \"This is it\"\n",
    "\n",
    "class second : \n",
    "    def nest(self):\n",
    "        return \"This is not it\"\n",
    "    \n",
    "class third(first,second):\n",
    "    pass\n",
    "\n",
    "obj_third = third()\n",
    "\n",
    "obj_third.test()\n",
    "obj_third.nest()"
   ]
  },
  {
   "cell_type": "code",
   "execution_count": 32,
   "id": "53f8e9be-88b0-44d5-a5b3-6742fb8b5281",
   "metadata": {},
   "outputs": [],
   "source": [
    "#question 4 \n",
    "\n",
    "#A getter method is used to retrieve the value of a private instance variable. By defining a getter, you can access the attribute in a controlled manner, allowing you to perform additional actions before returning the value.\n",
    "\n",
    "class first:\n",
    "    def __init__(self):\n",
    "        self._my_attribute = 0 \n",
    "        \n",
    "    def get_self_my_attribute(self):\n",
    "        return self._my_attribute\n",
    "\n",
    "#A setter method is used to modify the value of a private instance variable. It allows you to validate the new value and enforce any constraints before updating the attribute.\n",
    "\n",
    "class first:\n",
    "    def __init__(self):\n",
    "        self._my_attribute = 0 \n",
    "        \n",
    "    def set_my_attribute(self,new_value):\n",
    "        if new_value >= 0:\n",
    "            print(\"Okay\")\n",
    "        else:\n",
    "            False\n",
    "        "
   ]
  },
  {
   "cell_type": "code",
   "execution_count": 29,
   "id": "6a0b45c5-9b67-4fd9-a048-ff8c04232dc3",
   "metadata": {},
   "outputs": [
    {
     "name": "stdout",
     "output_type": "stream",
     "text": [
      "Generic brand name\n",
      "Creta\n",
      "Baleno\n"
     ]
    }
   ],
   "source": [
    "#question 5\n",
    "\n",
    "\"Method overriding in Python is a concept in object-oriented programming that allows a subclass to provide a specific implementation of a method that is already defined in its superclass. When a method is overridden, the subclass redefines the behavior of the method, and the new implementation in the subclass takes precedence over the method in the superclass.\"\n",
    "\n",
    "\n",
    "class Cars:\n",
    "    def car_name(self):\n",
    "        return \"Generic brand name\"\n",
    "\n",
    "class SUV(Cars):\n",
    "    def car_name(self):\n",
    "        return \"Creta\"\n",
    "\n",
    "class CUV(Cars):\n",
    "    def car_name(self):\n",
    "        return \"Baleno\"\n",
    "\n",
    "\n",
    "    \n",
    "cars = Cars()\n",
    "print(cars.car_name())  \n",
    "\n",
    "suv = SUV()\n",
    "print(suv.car_name())    \n",
    "\n",
    "cuv = CUV()\n",
    "print(cuv.car_name())     \n",
    "\n"
   ]
  },
  {
   "cell_type": "code",
   "execution_count": null,
   "id": "4a28495d-ca96-48c0-a174-7f196d03b4dd",
   "metadata": {},
   "outputs": [],
   "source": []
  }
 ],
 "metadata": {
  "kernelspec": {
   "display_name": "Python 3 (ipykernel)",
   "language": "python",
   "name": "python3"
  },
  "language_info": {
   "codemirror_mode": {
    "name": "ipython",
    "version": 3
   },
   "file_extension": ".py",
   "mimetype": "text/x-python",
   "name": "python",
   "nbconvert_exporter": "python",
   "pygments_lexer": "ipython3",
   "version": "3.10.8"
  }
 },
 "nbformat": 4,
 "nbformat_minor": 5
}
