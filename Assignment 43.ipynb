{
 "cells": [
  {
   "cell_type": "code",
   "execution_count": 22,
   "id": "98861ea4-8744-4608-92a3-54dea7c0ec40",
   "metadata": {},
   "outputs": [
    {
     "data": {
      "text/html": [
       "<div>\n",
       "<style scoped>\n",
       "    .dataframe tbody tr th:only-of-type {\n",
       "        vertical-align: middle;\n",
       "    }\n",
       "\n",
       "    .dataframe tbody tr th {\n",
       "        vertical-align: top;\n",
       "    }\n",
       "\n",
       "    .dataframe thead th {\n",
       "        text-align: right;\n",
       "    }\n",
       "</style>\n",
       "<table border=\"1\" class=\"dataframe\">\n",
       "  <thead>\n",
       "    <tr style=\"text-align: right;\">\n",
       "      <th></th>\n",
       "      <th>time_students_spend_studying</th>\n",
       "      <th>final exam scores</th>\n",
       "    </tr>\n",
       "  </thead>\n",
       "  <tbody>\n",
       "    <tr>\n",
       "      <th>time_students_spend_studying</th>\n",
       "      <td>1.0</td>\n",
       "      <td>1.0</td>\n",
       "    </tr>\n",
       "    <tr>\n",
       "      <th>final exam scores</th>\n",
       "      <td>1.0</td>\n",
       "      <td>1.0</td>\n",
       "    </tr>\n",
       "  </tbody>\n",
       "</table>\n",
       "</div>"
      ],
      "text/plain": [
       "                              time_students_spend_studying  final exam scores\n",
       "time_students_spend_studying                           1.0                1.0\n",
       "final exam scores                                      1.0                1.0"
      ]
     },
     "execution_count": 22,
     "metadata": {},
     "output_type": "execute_result"
    }
   ],
   "source": [
    "#question 1 \n",
    "import pandas as pd\n",
    "\n",
    "l1 = [1,2,3,4,5,6]\n",
    "l2 = [2,3,4,5,6,7]\n",
    "\n",
    "df = pd.DataFrame(list(zip(l1,l2)))\n",
    "df.columns=['time_students_spend_studying','final exam scores']\n",
    "df.corr(method = 'pearson')"
   ]
  },
  {
   "cell_type": "code",
   "execution_count": 25,
   "id": "64610ed9-739c-48da-bc28-e85c7e6587f5",
   "metadata": {},
   "outputs": [
    {
     "data": {
      "text/html": [
       "<div>\n",
       "<style scoped>\n",
       "    .dataframe tbody tr th:only-of-type {\n",
       "        vertical-align: middle;\n",
       "    }\n",
       "\n",
       "    .dataframe tbody tr th {\n",
       "        vertical-align: top;\n",
       "    }\n",
       "\n",
       "    .dataframe thead th {\n",
       "        text-align: right;\n",
       "    }\n",
       "</style>\n",
       "<table border=\"1\" class=\"dataframe\">\n",
       "  <thead>\n",
       "    <tr style=\"text-align: right;\">\n",
       "      <th></th>\n",
       "      <th>amount_of_sleep_individuals_get_each_night</th>\n",
       "      <th>overall_job_satisfaction_level</th>\n",
       "    </tr>\n",
       "  </thead>\n",
       "  <tbody>\n",
       "    <tr>\n",
       "      <th>amount_of_sleep_individuals_get_each_night</th>\n",
       "      <td>1.000000</td>\n",
       "      <td>0.257143</td>\n",
       "    </tr>\n",
       "    <tr>\n",
       "      <th>overall_job_satisfaction_level</th>\n",
       "      <td>0.257143</td>\n",
       "      <td>1.000000</td>\n",
       "    </tr>\n",
       "  </tbody>\n",
       "</table>\n",
       "</div>"
      ],
      "text/plain": [
       "                                            amount_of_sleep_individuals_get_each_night  \\\n",
       "amount_of_sleep_individuals_get_each_night                                    1.000000   \n",
       "overall_job_satisfaction_level                                                0.257143   \n",
       "\n",
       "                                            overall_job_satisfaction_level  \n",
       "amount_of_sleep_individuals_get_each_night                        0.257143  \n",
       "overall_job_satisfaction_level                                    1.000000  "
      ]
     },
     "execution_count": 25,
     "metadata": {},
     "output_type": "execute_result"
    }
   ],
   "source": [
    "#question 2 \n",
    "\n",
    "l1 = [1,2,3,4,5,6]\n",
    "l2 = [3,5,1,4,2,10]\n",
    "\n",
    "df = pd.DataFrame(list(zip(l1,l2)))\n",
    "df.columns=['amount_of_sleep_individuals_get_each_night','overall_job_satisfaction_level']\n",
    "df.corr(method = 'spearman')"
   ]
  },
  {
   "cell_type": "code",
   "execution_count": 26,
   "id": "eabd88c8-f0ee-43c7-b25b-edb18fac64fc",
   "metadata": {},
   "outputs": [
    {
     "name": "stdout",
     "output_type": "stream",
     "text": [
      "Pearson correlation coefficient: 0.9929942203724047\n",
      "Spearman's rank correlation coefficient: 1.0\n"
     ]
    }
   ],
   "source": [
    "#question 3 \n",
    "\n",
    "import numpy as np\n",
    "from scipy.stats import pearsonr, spearmanr\n",
    "\n",
    "exercise_hours = [3, 5, 7, 2, 6, 4]  \n",
    "bmi = [25.5, 28.0, 30.2, 24.1, 29.8, 26.7]  \n",
    "\n",
    "pearson_corr, _ = pearsonr(exercise_hours, bmi)\n",
    "print(f\"Pearson correlation coefficient: {pearson_corr}\")\n",
    "\n",
    "spearman_corr, _ = spearmanr(exercise_hours, bmi)\n",
    "print(f\"Spearman's rank correlation coefficient: {spearman_corr}\")\n"
   ]
  },
  {
   "cell_type": "code",
   "execution_count": 27,
   "id": "d5bf05d3-d361-4024-8296-db425d98f6ff",
   "metadata": {},
   "outputs": [
    {
     "name": "stdout",
     "output_type": "stream",
     "text": [
      "Pearson correlation coefficient: 0.9929942203724047\n",
      "Spearman's rank correlation coefficient: 1.0\n"
     ]
    }
   ],
   "source": [
    "#question 4 \n",
    "\n",
    "import numpy as np\n",
    "from scipy.stats import pearsonr, spearmanr\n",
    "\n",
    "spend_watching_television_per_day = [3, 5, 7, 2, 6, 4]  \n",
    "level_of_physical_activity= [25.5, 28.0, 30.2, 24.1, 29.8, 26.7]  \n",
    "\n",
    "pearson_corr, _ = pearsonr(spend_watching_television_per_day, level_of_physical_activity)\n",
    "print(f\"Pearson correlation coefficient: {pearson_corr}\")\n",
    "\n",
    "spearman_corr, _ = spearmanr(spend_watching_television_per_day, level_of_physical_activity)\n",
    "print(f\"Spearman's rank correlation coefficient: {spearman_corr}\")\n"
   ]
  },
  {
   "cell_type": "code",
   "execution_count": 47,
   "id": "f7e1d2b5-2031-4f9d-a9f3-7b9bdab0b0e9",
   "metadata": {},
   "outputs": [
    {
     "data": {
      "text/html": [
       "<div>\n",
       "<style scoped>\n",
       "    .dataframe tbody tr th:only-of-type {\n",
       "        vertical-align: middle;\n",
       "    }\n",
       "\n",
       "    .dataframe tbody tr th {\n",
       "        vertical-align: top;\n",
       "    }\n",
       "\n",
       "    .dataframe thead th {\n",
       "        text-align: right;\n",
       "    }\n",
       "</style>\n",
       "<table border=\"1\" class=\"dataframe\">\n",
       "  <thead>\n",
       "    <tr style=\"text-align: right;\">\n",
       "      <th></th>\n",
       "      <th>Age(Years)</th>\n",
       "      <th>Soft drink Preference</th>\n",
       "      <th>Soft drink Preference_Coke</th>\n",
       "      <th>Soft drink Preference_Mountain_Dew</th>\n",
       "      <th>Soft drink Preference_Pepsi</th>\n",
       "    </tr>\n",
       "  </thead>\n",
       "  <tbody>\n",
       "    <tr>\n",
       "      <th>0</th>\n",
       "      <td>25</td>\n",
       "      <td>Coke</td>\n",
       "      <td>1.0</td>\n",
       "      <td>0.0</td>\n",
       "      <td>0.0</td>\n",
       "    </tr>\n",
       "    <tr>\n",
       "      <th>1</th>\n",
       "      <td>42</td>\n",
       "      <td>Pepsi</td>\n",
       "      <td>0.0</td>\n",
       "      <td>0.0</td>\n",
       "      <td>1.0</td>\n",
       "    </tr>\n",
       "    <tr>\n",
       "      <th>2</th>\n",
       "      <td>37</td>\n",
       "      <td>Mountain_Dew</td>\n",
       "      <td>0.0</td>\n",
       "      <td>1.0</td>\n",
       "      <td>0.0</td>\n",
       "    </tr>\n",
       "    <tr>\n",
       "      <th>3</th>\n",
       "      <td>19</td>\n",
       "      <td>Coke</td>\n",
       "      <td>1.0</td>\n",
       "      <td>0.0</td>\n",
       "      <td>0.0</td>\n",
       "    </tr>\n",
       "    <tr>\n",
       "      <th>4</th>\n",
       "      <td>31</td>\n",
       "      <td>Pepsi</td>\n",
       "      <td>0.0</td>\n",
       "      <td>0.0</td>\n",
       "      <td>1.0</td>\n",
       "    </tr>\n",
       "    <tr>\n",
       "      <th>5</th>\n",
       "      <td>28</td>\n",
       "      <td>Coke</td>\n",
       "      <td>1.0</td>\n",
       "      <td>0.0</td>\n",
       "      <td>0.0</td>\n",
       "    </tr>\n",
       "  </tbody>\n",
       "</table>\n",
       "</div>"
      ],
      "text/plain": [
       "   Age(Years) Soft drink Preference  Soft drink Preference_Coke  \\\n",
       "0          25                  Coke                         1.0   \n",
       "1          42                 Pepsi                         0.0   \n",
       "2          37          Mountain_Dew                         0.0   \n",
       "3          19                  Coke                         1.0   \n",
       "4          31                 Pepsi                         0.0   \n",
       "5          28                  Coke                         1.0   \n",
       "\n",
       "   Soft drink Preference_Mountain_Dew  Soft drink Preference_Pepsi  \n",
       "0                                 0.0                          0.0  \n",
       "1                                 0.0                          1.0  \n",
       "2                                 1.0                          0.0  \n",
       "3                                 0.0                          0.0  \n",
       "4                                 0.0                          1.0  \n",
       "5                                 0.0                          0.0  "
      ]
     },
     "execution_count": 47,
     "metadata": {},
     "output_type": "execute_result"
    }
   ],
   "source": [
    "#question 5 \n",
    "\n",
    "l1 =[25,42,37,19,31,28]\n",
    "l2 =['Coke','Pepsi','Mountain_Dew','Coke','Pepsi','Coke']\n",
    "df = pd.DataFrame(list(zip(l1,l2)))\n",
    "df.columns = ['Age(Years)','Soft drink Preference']\n",
    "\n",
    "from sklearn.preprocessing import OneHotEncoder\n",
    "\n",
    "le = OneHotEncoder()\n",
    "encoded = le.fit_transform(df[['Soft drink Preference']])\n",
    "\n",
    "df1 = pd.DataFrame(encoded.toarray(),columns=le.get_feature_names_out())\n",
    "\n",
    "df2 = pd.concat([df,df1] , axis = 1)\n",
    "\n"
   ]
  },
  {
   "cell_type": "code",
   "execution_count": 37,
   "id": "953b6f1a-de33-4e66-b172-374f42515ff9",
   "metadata": {},
   "outputs": [
    {
     "name": "stdout",
     "output_type": "stream",
     "text": [
      "Pearson correlation coefficient: 0.8547566888476421\n"
     ]
    }
   ],
   "source": [
    "#question 6\n",
    "\n",
    "import numpy as np\n",
    "from scipy.stats import pearsonr, spearmanr\n",
    "\n",
    "sales_calls_made_per_day = [3, 5, 7, 2, 6, 4]  \n",
    "sales_calls_made_per_week= [25.5, 28.0, 30.2, 24.1, 29.8, 30]  \n",
    "\n",
    "pearson_corr, _ = pearsonr(sales_calls_made_per_day,sales_calls_made_per_week)\n",
    "print(f\"Pearson correlation coefficient: {pearson_corr}\")\n",
    "\n",
    "\n"
   ]
  },
  {
   "cell_type": "code",
   "execution_count": null,
   "id": "8ddaed0d-1db1-4c9d-a65c-bf67b3a6b647",
   "metadata": {},
   "outputs": [],
   "source": []
  }
 ],
 "metadata": {
  "kernelspec": {
   "display_name": "Python 3 (ipykernel)",
   "language": "python",
   "name": "python3"
  },
  "language_info": {
   "codemirror_mode": {
    "name": "ipython",
    "version": 3
   },
   "file_extension": ".py",
   "mimetype": "text/x-python",
   "name": "python",
   "nbconvert_exporter": "python",
   "pygments_lexer": "ipython3",
   "version": "3.10.8"
  }
 },
 "nbformat": 4,
 "nbformat_minor": 5
}
