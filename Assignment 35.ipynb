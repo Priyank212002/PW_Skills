{
 "cells": [
  {
   "cell_type": "code",
   "execution_count": null,
   "id": "f54bf7a5-acdf-478a-b107-66071a4f0f48",
   "metadata": {},
   "outputs": [],
   "source": [
    "#question 1 \n",
    "\n",
    "'''\n",
    "AI- It encompasses the development of algorithms, software, and hardware that enable machines to perform tasks typically requiring human intelligence. These tasks can include problem-solving, learning, understanding natural language, recognizing patterns, making decisions, and more.\n",
    "\n",
    "ML - Machine learning is a subfield of artificial intelligence (AI) that focuses on the development of algorithms and statistical models that enable computers to learn and make predictions or decisions without being explicitly programmed to perform specific tasks. \n",
    "\n",
    "DL - Deep learning is a subfield of machine learning that focuses on the use of artificial neural networks to model and solve complex problems. It is characterized by the use of deep neural networks, which are composed of multiple layers (hence \"deep\") of interconnected nodes or neurons\n",
    "'''"
   ]
  },
  {
   "cell_type": "code",
   "execution_count": null,
   "id": "b1269fb1-d9eb-4edb-8422-483cf35e6e03",
   "metadata": {},
   "outputs": [],
   "source": [
    "#question 2 \n",
    "\n",
    "'''\n",
    "supervised learning is a type of machine learning where the algorithm is trained on a labeled dataset, meaning that each input data point is associated with a corresponding target or label. The goal of supervised learning is to learn a mapping from inputs to outputs by finding patterns and relationships in the training data.\n",
    "\n",
    "example are  -  voice recognintion\n",
    "spam classifier\n",
    "'''"
   ]
  },
  {
   "cell_type": "code",
   "execution_count": null,
   "id": "720bed30-1dcf-4770-9b4e-064ee7b0e23d",
   "metadata": {},
   "outputs": [],
   "source": [
    "#question 3\n",
    "\n",
    "'''\n",
    "Unsupervised learning is a category of machine learning where the algorithm is trained on data without explicit supervision in the form of labeled outputs. In other words, in unsupervised learning, the model is given a dataset without specific instructions on what to do with it. The primary goal of unsupervised learning is to discover patterns, structures, or relationships within the data on its own\n",
    " \n",
    "Example are - \n",
    "house price prediction model \n",
    "clustering models\n",
    "\n",
    "'''\n"
   ]
  },
  {
   "cell_type": "code",
   "execution_count": null,
   "id": "1ff66f96-7245-488b-bea0-54a2f42d23bc",
   "metadata": {},
   "outputs": [],
   "source": [
    "#question 4 \n",
    "\n",
    "\"AI , ML , DL , and DS  are distinct but interconnected fields in the realm of data analysis and intelligent systems. AI is the overarching discipline that seeks to create machines capable of human-like intelligence, encompassing rule-based systems and learning-based approaches. ML is a subset of AI, concentrating on developing algorithms that allow machines to learn from data and make predictions or decisions without explicit programming. Deep Learning (DL) is a subfield of ML that employs deep neural networks for complex pattern recognition tasks. DS, on the other hand, is a broader field that encompasses data collection, cleaning, analysis, and interpretation, often using AI and ML techniques. While AI strives for human-like intelligence, ML focuses on learning, DL deals with deep neural networks, and DS manages the entire data lifecycle. Each field has its unique applications, methods, and purposes within the realm of intelligent systems and data-driven decision-making.\""
   ]
  },
  {
   "cell_type": "code",
   "execution_count": null,
   "id": "09d0f7d5-ae9a-43a0-8821-93a858e15ffa",
   "metadata": {},
   "outputs": [],
   "source": [
    "#question 5 \n",
    "\n",
    "'''\n",
    "Supervised learning involves training a model on a labeled dataset, where each data point is paired with a known target or output. The model learns to make predictions or classifications based on this labeled data. It's a widely-used approach for tasks like image recognition, spam detection, and language translation, where the goal is to map inputs to known outputs.\n",
    "\n",
    "Unsupervised learning, on the other hand, deals with unlabeled data. In this scenario, the model seeks to discover hidden patterns, structures, or relationships within the data without specific target labels. Clustering, dimensionality reduction, and anomaly detection are common applications. Unsupervised learning is invaluable for data exploration and feature engineering.\n",
    "\n",
    "Semi-supervised learning combines elements of both supervised and unsupervised learning. It leverages a dataset with a mix of labeled and unlabeled data. Typically, the labeled data is scarce and expensive to obtain, while there's an abundance of unlabeled data. Semi-supervised algorithms aim to make use of both types of data to improve model performance. This approach is beneficial when acquiring labeled data is costly or time-consuming, such as in many real-world scenarios.\n",
    "'''"
   ]
  },
  {
   "cell_type": "code",
   "execution_count": null,
   "id": "b8c22f0e-edc8-4031-a57f-b114039b1557",
   "metadata": {},
   "outputs": [],
   "source": [
    "#question 6\n",
    "\n",
    "'''\n",
    "Training Data:\n",
    "\n",
    "Role: The training dataset is the portion of the data used to train the machine learning model. It serves as the basis for the model to learn patterns and relationships within the data.\n",
    "Importance: The primary goal of the training data is to teach the model to make predictions or classifications. The model adjusts its internal parameters based on this data to minimize the difference between its predictions and the actual outcomes. Training data plays a crucial role in building a model that generalizes well to new, unseen data.\n",
    "\n",
    "Validation Data:\n",
    "\n",
    "Role: The validation dataset is a separate portion of the data that is used to fine-tune the model's hyperparameters and assess its performance during training.\n",
    "Importance: By evaluating the model on the validation data, you can make adjustments to hyperparameters (e.g., learning rate, model architecture) to optimize the model's performance without directly exposing it to the test data. This helps prevent overfitting, where the model performs well on the training data but poorly on unseen data.\n",
    "\n",
    "Test Data:\n",
    "\n",
    "Role: The test dataset is a completely independent subset of the data that is not used during model training or hyperparameter tuning. It is reserved solely for evaluating the model's generalization performance.\n",
    "Importance: The test data provides an unbiased assessment of how well the model will perform on new, unseen data in real-world applications. It measures the model's ability to make accurate predictions or classifications on data it has never encountered before. It is the final benchmark of a model's effectiveness.It measures the model's ability to make accurate predictions or classifications on data it has never encountered before. It is the final benchmark of a model's effectiveness.\n",
    "'''\n"
   ]
  },
  {
   "cell_type": "code",
   "execution_count": null,
   "id": "fe51cd9f-6399-4d92-accb-f86a9bcc0d2c",
   "metadata": {},
   "outputs": [],
   "source": [
    "#question 7 \n",
    "\n",
    "\"Unsupervised learning can be effectively used in anomaly detection because it excels at identifying patterns and structures within data, making it well-suited for detecting deviations from expected norms\""
   ]
  },
  {
   "cell_type": "code",
   "execution_count": null,
   "id": "42c2ecbe-b27d-4c26-8b0c-790dcebe1775",
   "metadata": {},
   "outputs": [],
   "source": [
    "#question 8 \n",
    "\n",
    "'''\n",
    "Supervised\n",
    "1. Linear Regression\n",
    "2. Logistic regression (Binary)\n",
    "3. Decision Tree\n",
    "\n",
    "Unsupervised \n",
    "Auto encoders\n",
    "k means\n"
   ]
  }
 ],
 "metadata": {
  "kernelspec": {
   "display_name": "Python 3 (ipykernel)",
   "language": "python",
   "name": "python3"
  },
  "language_info": {
   "codemirror_mode": {
    "name": "ipython",
    "version": 3
   },
   "file_extension": ".py",
   "mimetype": "text/x-python",
   "name": "python",
   "nbconvert_exporter": "python",
   "pygments_lexer": "ipython3",
   "version": "3.10.8"
  }
 },
 "nbformat": 4,
 "nbformat_minor": 5
}
