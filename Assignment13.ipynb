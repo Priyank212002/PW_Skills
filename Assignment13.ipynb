{
 "cells": [
  {
   "cell_type": "code",
   "execution_count": null,
   "id": "ee99869c-8b07-4b12-ad5a-e1350cc1d0b0",
   "metadata": {},
   "outputs": [],
   "source": [
    "#question 1 \n",
    "\n",
    "\"API stands for Application Programming Interface. It is a set of rules and protocols that allows different software applications to communicate and interact with each other. APIs define the methods and data formats that applications can use to request and exchange information, enabling them to work together seamlessly.\"\n",
    "\n",
    "\n",
    "\"Example of API is is google itself whereas when we search anything in the google searchbox the searched keyword is beign gone through the server where the data is beignn stored and hence it makes a connection to a other platform so here the API is used\""
   ]
  },
  {
   "cell_type": "code",
   "execution_count": null,
   "id": "47bc654d-6da7-4b55-af51-9485379c8174",
   "metadata": {},
   "outputs": [],
   "source": [
    "#question 2\n",
    "\n",
    "'''\n",
    "Advantages \n",
    "\n",
    "1 interopersbility\n",
    "2 security and control \n",
    "3 Faster Development\n",
    "\n",
    "\n",
    "Disadvantages\n",
    "\n",
    "1 Dependency on Third-Party APIs\n",
    "\n",
    "2 Versioning and Compatibility\n",
    "\n",
    "3 Data Security and Privacy Concerns\n",
    "\n",
    "'''"
   ]
  },
  {
   "cell_type": "code",
   "execution_count": null,
   "id": "2c7b32fa-8713-4262-aa99-3e08f7073010",
   "metadata": {},
   "outputs": [],
   "source": [
    "#question 3 \n",
    "\n",
    "\"A Web API, also known as a web service API or HTTP API, is an API that is specifically designed to be accessed over the internet using the HTTP protocol. It enables communication and interaction between different software applications through standard web protocols, such as HTTP and HTTPS. Web APIs are commonly used to provide access to specific functionalities, data, or services of a web application or a web server.\"\n",
    "\n",
    "'''\n",
    "The major differneces between a web API and a API is\n",
    "\n",
    "1 Scope of Communication \n",
    "\n",
    "2 Communication of Protocol\n",
    "\n",
    "3 Medium of Communication \n",
    "\n",
    "4 Usage and Purpose\n",
    "\n",
    "5 Security Concern\n",
    "\n",
    "'''"
   ]
  },
  {
   "cell_type": "code",
   "execution_count": null,
   "id": "0e841777-cc1c-4ba0-9cc7-a0f3ee89fe80",
   "metadata": {},
   "outputs": [],
   "source": [
    "#question 4 \n",
    "\n",
    "\"REST is an architectural style that emphasizes simplicity, scalability, and statelessness. It is based on the principles of the HTTP protocol and uses standard HTTP methods like GET, POST, PUT, DELETE, etc., to interact with resources identified by URLs (Uniform Resource Locators). RESTful APIs communicate over the internet using standard HTTP/HTTPS, making them accessible from various client applications like web browsers, mobile apps, and more.\"\n",
    "\n",
    "\"SOAP is a protocol-based architectural style used for building web services. It defines a set of rules for structuring messages, usually in XML format, and uses various transport protocols like HTTP, SMTP, etc., for communication. SOAP is more rigid and formal compared to REST and relies heavily on XML schemas for defining the message structure.\"\n",
    "\n",
    "\n",
    "'''\n",
    "Shortcomings of SOAP\n",
    "\n",
    "1 Complexity\n",
    "2 Overhead\n",
    "3 Limited Compatibility\n",
    "4 Lack of Human Readability\n",
    "5 Less Support for mobile \n",
    "'''\n",
    "\n"
   ]
  },
  {
   "cell_type": "code",
   "execution_count": null,
   "id": "c3a1dcfa-50aa-42a7-b311-d6ae4cb1fe15",
   "metadata": {},
   "outputs": [],
   "source": [
    "#question 5\n",
    "\n",
    "\n",
    "'''\n",
    "the major diffenrece between SOAP And a REST architecture is as follows : \n",
    "\n",
    "1. Communication Protocol\n",
    "\n",
    "2. Message Format\n",
    "\n",
    "3. Statefulness\n",
    "\n",
    "4. Standards and Specifications\n",
    "\n",
    "5. Performance and Efficiency\n",
    "\n",
    "6. Use Cases\n",
    "\n",
    "'''\n"
   ]
  }
 ],
 "metadata": {
  "kernelspec": {
   "display_name": "Python 3 (ipykernel)",
   "language": "python",
   "name": "python3"
  },
  "language_info": {
   "codemirror_mode": {
    "name": "ipython",
    "version": 3
   },
   "file_extension": ".py",
   "mimetype": "text/x-python",
   "name": "python",
   "nbconvert_exporter": "python",
   "pygments_lexer": "ipython3",
   "version": "3.10.8"
  }
 },
 "nbformat": 4,
 "nbformat_minor": 5
}
