{
 "cells": [
  {
   "cell_type": "code",
   "execution_count": null,
   "id": "738981ed-9170-4b83-96b8-d1e501a9f82f",
   "metadata": {},
   "outputs": [],
   "source": [
    "#question 1 \n",
    "\n",
    "\"Statistics is a scene of collecting , organizing and summarizing data\""
   ]
  },
  {
   "cell_type": "code",
   "execution_count": null,
   "id": "b9d0bcdb-c35e-448a-9e5b-aa3e8be4024c",
   "metadata": {},
   "outputs": [],
   "source": [
    "#question 2 \n",
    "\n",
    "'Types of Statistics'\n",
    "'''\n",
    "1 Descriptive statistics \n",
    "\n",
    "Ex - gathering a heights of students in a class and finding mean median mode or anything on the taken data\n",
    "\n",
    "\n",
    "2 inferential statistics\n",
    "\n",
    "Ex - while taken the data of heights then checking whether the expectd height is correct or not\n",
    "\n",
    "\n",
    "''''"
   ]
  },
  {
   "cell_type": "code",
   "execution_count": null,
   "id": "028e330c-22a4-421b-934d-9525aaeb7dd2",
   "metadata": {},
   "outputs": [],
   "source": [
    "#question 3 \n",
    "\n",
    "\"Types of Data\"\n",
    "\n",
    "'''\n",
    "1 Qualitative data \n",
    "\n",
    "Ex - Gender , yes/no\n",
    "\n",
    "\n",
    "2 Quantitaive data\n",
    "\n",
    "Ex - heights, Salary ,Weights\n",
    "'''"
   ]
  },
  {
   "cell_type": "code",
   "execution_count": null,
   "id": "403dc7e7-e71c-4f50-b2e8-1f47c02b5810",
   "metadata": {},
   "outputs": [],
   "source": [
    "#question 4 \n",
    "\n",
    "''''\n",
    "1 - Ordinal Qualitative data\n",
    "\n",
    "2 - Nominal Qualitative data\n",
    "\n",
    "3 - Continous Quantitaive data\n",
    "\n",
    "4 - Discrete Quantitative data\n",
    "\n",
    "'''"
   ]
  },
  {
   "cell_type": "code",
   "execution_count": null,
   "id": "c2093bfd-697a-43d6-989a-eae20d27871e",
   "metadata": {},
   "outputs": [],
   "source": [
    "#question 5 \n",
    "\n",
    "\"Types of Scale of Measurement\"\n",
    "\n",
    "'''\n",
    "1 - Nominal\n",
    "\n",
    "In this data the order of the data does not matter , it is a type of a categorical data and qualitative data\n",
    "\n",
    "ex - gender \n",
    "\n",
    "2 - Ordinal \n",
    "\n",
    "In this data the order of the data matters , ranking also matters \n",
    "\n",
    "Ex - School Grading system \n",
    "\n",
    "3 - Interval \n",
    "\n",
    "In this data the data does not have a true zero point value , also the order matters and the differnce can be measured \n",
    "\n",
    "Ex - Temprature\n",
    "\n",
    "4 - Ratio\n",
    "\n",
    "In this data the data does  have a true zero point value , also the order matters and the differnce can be measured\n",
    "\n",
    "Ex - Iq test of Students\n",
    "'''"
   ]
  },
  {
   "cell_type": "code",
   "execution_count": null,
   "id": "098df63f-6cba-48a9-92bf-c8ec89dd933d",
   "metadata": {},
   "outputs": [],
   "source": [
    "#question 6 \n",
    "\n",
    "\"Understanding the level of measurement is crucial when analyzing data because it determines the types of statistical analyses that can be appropriately applied to the data and the interpretations that can be made from the results. Applying incorrect statistical methods based on the level of measurement can lead to inaccurate conclusions and misleading insights.\"\n",
    "\n",
    "\"For example if you do a Interval statical test on  adata of a iq of a students then it will give a wrong output as such the iq does not lie or goes below the value of zero so the outcome will be wrong\""
   ]
  },
  {
   "cell_type": "code",
   "execution_count": null,
   "id": "527f3978-abe0-4046-94be-8c81b547c0ee",
   "metadata": {},
   "outputs": [],
   "source": [
    "#question 7 \n",
    "\n",
    "\"The nominal data type is different from the ordinal data type as in the nomainal data type there is no ranking in the data for example we take a data od gender as male and female then we does not say that male are superior than females and if we look at the grading systems in school such as A+,A,B+,b in here the every grade has their own ranking\""
   ]
  },
  {
   "cell_type": "code",
   "execution_count": null,
   "id": "ca62090f-6738-4b23-9294-8dd8c6be9e0f",
   "metadata": {},
   "outputs": [],
   "source": [
    "#question 8 \n",
    "\n",
    "\"Box - plot\""
   ]
  },
  {
   "cell_type": "code",
   "execution_count": null,
   "id": "a54c9b91-7357-4c32-880c-907c41dfc307",
   "metadata": {},
   "outputs": [],
   "source": [
    "#question 9 \n",
    "'''\n",
    "1 Descriptive statistics - In this type the data is begin summarized and a method is applied to it\n",
    "\n",
    "Ex - gathering a heights of students in a class and finding mean median mode or anything on the taken data\n",
    "\n",
    "\n",
    "2 inferential statistics - In this the data is beign related to the conclusion of the data\n",
    "\n",
    "Ex - while taken the data of heights then checking whether the expectd height is correct or not\n",
    "\n",
    "'''\n"
   ]
  },
  {
   "cell_type": "code",
   "execution_count": null,
   "id": "34873035-b5f0-45af-82d0-c07721d18187",
   "metadata": {},
   "outputs": [],
   "source": [
    "#question 10 \n",
    "\n",
    "'''\n",
    "Measures of Central Tendency:\n",
    "\n",
    "Mean: The arithmetic mean is the sum of all values in a dataset divided by the number of values. It's sensitive to outliers and can be influenced by extreme values.\n",
    "\n",
    "Median: The median is the middle value in an ordered dataset. It's less affected by outliers than the mean and provides a better representation of the \"typical\" value.\n",
    "\n",
    "Mode: The mode is the value that appears most frequently in a dataset. A dataset can have multiple modes (multimodal) or no mode if all values are unique.\n",
    "'''\n",
    "\n",
    "'''\n",
    "Measures of Variability (Dispersion):\n",
    "\n",
    "Range: The range is the difference between the maximum and minimum values in a dataset. It's a simple measure of spread but can be greatly affected by outliers.\n",
    "\n",
    "Variance: Variance measures the average squared difference between each data point and the mean. It gives an idea of how much the data points deviate from the mean.\n",
    "\n",
    "Standard Deviation: The standard deviation is the square root of the variance. It provides a measure of the average deviation from the mean and is commonly used due to its relationship with the normal distribution.\n",
    "'''"
   ]
  }
 ],
 "metadata": {
  "kernelspec": {
   "display_name": "Python 3 (ipykernel)",
   "language": "python",
   "name": "python3"
  },
  "language_info": {
   "codemirror_mode": {
    "name": "ipython",
    "version": 3
   },
   "file_extension": ".py",
   "mimetype": "text/x-python",
   "name": "python",
   "nbconvert_exporter": "python",
   "pygments_lexer": "ipython3",
   "version": "3.10.8"
  }
 },
 "nbformat": 4,
 "nbformat_minor": 5
}
