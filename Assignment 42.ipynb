{
 "cells": [
  {
   "cell_type": "code",
   "execution_count": null,
   "id": "5bfba8b2-7e1e-4b2c-a008-2bc7ce684eae",
   "metadata": {},
   "outputs": [],
   "source": [
    "#question 1 \n",
    "\n",
    "\"order encoding is used while there is order in the data and in label encoding tthe data is beign ordered itself by the alphabetical order \""
   ]
  },
  {
   "cell_type": "code",
   "execution_count": null,
   "id": "8e21aa4e-2de4-4146-83bd-807b9c417037",
   "metadata": {},
   "outputs": [],
   "source": [
    "#question 2 \n",
    "\n",
    "\"it uses a target feature to give the order to the data we can use it the house price model \""
   ]
  },
  {
   "cell_type": "code",
   "execution_count": null,
   "id": "e46221b4-d54e-4f7b-b0f4-04638d1d890a",
   "metadata": {},
   "outputs": [],
   "source": [
    "#question 3 \n",
    "\n",
    "\"Covariance is a statistical measure that describes the degree to which two random variables change together. In other words, it quantifies the degree of linear association or relationship between two variables. Covariance indicates whether an increase in one variable corresponds to an increase, decrease, or no change in the other variable.\""
   ]
  },
  {
   "cell_type": "code",
   "execution_count": 3,
   "id": "1f12ecf8-4c0b-4336-9728-2ef240af12c1",
   "metadata": {},
   "outputs": [
    {
     "name": "stdout",
     "output_type": "stream",
     "text": [
      "Encoded Color:  [2 1 0]\n",
      "Encoded Size:  [2 1 0]\n",
      "Encoded Material:  [2 0 1]\n",
      "Decoded Color:  ['red' 'green' 'blue']\n",
      "Decoded Size:  ['small' 'medium' 'large']\n",
      "Decoded Material:  ['wood' 'metal' 'plastic']\n"
     ]
    }
   ],
   "source": [
    "#question 4 \n",
    "\n",
    "from sklearn.preprocessing import LabelEncoder\n",
    "label_encoder_color = LabelEncoder()\n",
    "label_encoder_size = LabelEncoder()\n",
    "label_encoder_material = LabelEncoder()\n",
    "\n",
    "color = ['red', 'green', 'blue']\n",
    "size = ['small', 'medium', 'large']\n",
    "material = ['wood', 'metal', 'plastic']\n",
    "\n",
    "encoded_color = label_encoder_color.fit_transform(color)\n",
    "encoded_size = label_encoder_size.fit_transform(size)\n",
    "encoded_material = label_encoder_material.fit_transform(material)\n",
    "\n",
    "print(\"Encoded Color: \", encoded_color)\n",
    "print(\"Encoded Size: \", encoded_size)\n",
    "print(\"Encoded Material: \", encoded_material)\n",
    "\n",
    "decoded_color = label_encoder_color.inverse_transform(encoded_color)\n",
    "decoded_size = label_encoder_size.inverse_transform(encoded_size)\n",
    "decoded_material = label_encoder_material.inverse_transform(encoded_material)\n",
    "\n",
    "print(\"Decoded Color: \", decoded_color)\n",
    "print(\"Decoded Size: \", decoded_size)\n",
    "print(\"Decoded Material: \", decoded_material)\n"
   ]
  },
  {
   "cell_type": "code",
   "execution_count": 4,
   "id": "4a338155-9ef2-4b61-b16d-8668510f27a5",
   "metadata": {},
   "outputs": [
    {
     "name": "stdout",
     "output_type": "stream",
     "text": [
      "Covariance Matrix:\n",
      "[[4.930e+01 6.675e+04 6.750e+00]\n",
      " [6.675e+04 9.250e+07 8.750e+03]\n",
      " [6.750e+00 8.750e+03 1.000e+00]]\n"
     ]
    }
   ],
   "source": [
    "#question 5 \n",
    "\n",
    "import numpy as np\n",
    "age = [30, 40, 35, 28, 45]\n",
    "income = [50000, 60000, 55000, 45000, 70000]\n",
    "education = [1, 3, 2, 1, 3]\n",
    "data = np.array([age, income, education])\n",
    "\n",
    "cov_matrix = np.cov(data)\n",
    "\n",
    "print(\"Covariance Matrix:\")\n",
    "print(cov_matrix)\n"
   ]
  },
  {
   "cell_type": "code",
   "execution_count": null,
   "id": "12409161-d62e-4b08-90f4-328b9894539d",
   "metadata": {},
   "outputs": [],
   "source": [
    "#question 6 \n",
    "\n",
    "\"Ordinl\""
   ]
  }
 ],
 "metadata": {
  "kernelspec": {
   "display_name": "Python 3 (ipykernel)",
   "language": "python",
   "name": "python3"
  },
  "language_info": {
   "codemirror_mode": {
    "name": "ipython",
    "version": 3
   },
   "file_extension": ".py",
   "mimetype": "text/x-python",
   "name": "python",
   "nbconvert_exporter": "python",
   "pygments_lexer": "ipython3",
   "version": "3.10.8"
  }
 },
 "nbformat": 4,
 "nbformat_minor": 5
}
