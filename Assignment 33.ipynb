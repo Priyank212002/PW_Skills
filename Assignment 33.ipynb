{
 "cells": [
  {
   "cell_type": "code",
   "execution_count": null,
   "id": "310f2016-6361-4918-a8dc-0632a7a3e5c4",
   "metadata": {},
   "outputs": [],
   "source": [
    "#question 1 \n",
    "\n",
    "'''\n",
    "Analysis of Variance (ANOVA) is a statistical technique used to analyze the differences among group means in a study with three or more groups. To use ANOVA effectively and to trust the validity of its results, several assumptions must be met. Violations of these assumptions can impact the accuracy and reliability of ANOVA results\n",
    "\n",
    "Normality\n",
    "Independence of Observations\n",
    "Homogeneity of Variance\n",
    "Equal Sample Sizes\n",
    "'''\n"
   ]
  },
  {
   "cell_type": "code",
   "execution_count": null,
   "id": "1a3ca75c-673d-4711-b588-643030527a44",
   "metadata": {},
   "outputs": [],
   "source": [
    "#question 2 \n",
    "\n",
    "'''\n",
    "one way anova - one factor with atleast 2 levels \n",
    "\n",
    "Repeated Measure anova - one factor with atleast 2 levels where level are dependent\n",
    "\n",
    "Factorial ANOVA - two or more factor of atleast 2 levels \n",
    "'''"
   ]
  },
  {
   "cell_type": "code",
   "execution_count": null,
   "id": "b7243b11-fc71-4c1f-b7c3-c09c8e3af4ee",
   "metadata": {},
   "outputs": [],
   "source": [
    "#question 3 \n",
    "\n",
    "'''\n",
    "\n",
    "The partitioning of variance is a fundamental concept in Analysis of Variance (ANOVA) that helps us understand how the total variance in a dataset is divided into different components or sources of variation. ANOVA is a statistical technique used to analyze the differences among group means, and by partitioning the variance, we gain insights into the relative importance of various factors that contribute to these differences.\n",
    "\n",
    "'''"
   ]
  },
  {
   "cell_type": "code",
   "execution_count": 2,
   "id": "e3d530da-3ec8-4eb0-a6b9-be8e817b0811",
   "metadata": {},
   "outputs": [
    {
     "name": "stdout",
     "output_type": "stream",
     "text": [
      "24.888888888888893 38.666666666666664 -13.777777777777771\n"
     ]
    }
   ],
   "source": [
    "#question 4 \n",
    "\n",
    "import numpy as np\n",
    "import scipy.stats as stats\n",
    "\n",
    "group_a = [1, 2,4 ]  \n",
    "group_b = [3, 2, 2]  \n",
    "group_c = [6, 1,5 ]\n",
    "\n",
    "all_data = group_a + group_b + group_c\n",
    "\n",
    "overall_mean = np.mean(all_data)\n",
    "\n",
    "SST = np.sum((np.array(all_data) - overall_mean) ** 2)\n",
    "\n",
    "mean_group_a = np.mean(group_a)\n",
    "mean_group_b = np.mean(group_b)\n",
    "mean_group_c = np.mean(group_c)\n",
    "\n",
    "n_a = len(group_a)\n",
    "n_b = len(group_b)\n",
    "n_c = len(group_c)\n",
    "\n",
    "SSE = (n_a - 1) * np.var(group_a, ddof=2) + (n_b - 1) * np.var(group_b, ddof=2) + (n_c - 1) * np.var(group_c, ddof=2)\n",
    "\n",
    "SSR = SST - SSE\n",
    "\n",
    "print(SST,SSE,SSR)\n"
   ]
  },
  {
   "cell_type": "code",
   "execution_count": null,
   "id": "16242844-09d3-42ed-98e3-0c5612afb06f",
   "metadata": {},
   "outputs": [],
   "source": [
    "#question 6\n",
    "\n",
    "\"Since the p-value (0.02) is less than 0.05 (assuming a significance level of 0.05), you have evidence to reject the null hypothesis (H0). This means that you have found statistically significant differences among the group means.\""
   ]
  },
  {
   "cell_type": "code",
   "execution_count": null,
   "id": "43d693ca-d4f7-4ead-b557-dc01f2d298a7",
   "metadata": {},
   "outputs": [],
   "source": [
    "#question 7 \n",
    "\n",
    "'''\n",
    "Handling missing data in a repeated measures ANOVA (analysis of variance) is an important aspect of data analysis. Repeated measures ANOVA deals with data collected on the same subjects or entities at multiple time points or under multiple conditions. Missing data can arise for various reasons, such as participant non-response or equipment failure. It's crucial to handle missing data appropriately because different methods can lead to different results and conclusions. \n",
    "\n",
    "Complete Case Analysis\n",
    "Imputation with Mean, Median, or Mode\n",
    "Last Observation Carried Forward\n",
    "Multiple Imputation\n",
    "'''"
   ]
  },
  {
   "cell_type": "code",
   "execution_count": null,
   "id": "935ee425-25ac-43ec-b07c-a10f4b3d1f98",
   "metadata": {},
   "outputs": [],
   "source": [
    "#question 8 \n",
    "\n",
    "\"After conducting an Analysis of Variance (ANOVA) and finding that there are significant differences among group means, post-hoc tests are often necessary to determine which specific group(s) differ from each other. Commonly used post-hoc tests include Tukey's Honestly Significant Difference (HSD), Bonferroni correction, Scheffé's method, and Dunnett's test, among others.\"\n"
   ]
  },
  {
   "cell_type": "code",
   "execution_count": 3,
   "id": "61b81add-2b79-4d48-a805-47a8b7acf056",
   "metadata": {},
   "outputs": [
    {
     "name": "stdout",
     "output_type": "stream",
     "text": [
      "There is no significant difference in mean weight loss between the diets.\n"
     ]
    }
   ],
   "source": [
    "#question 9 \n",
    "\n",
    "import numpy as np\n",
    "import scipy.stats as stats\n",
    "\n",
    "A = [2,3,4,5]\n",
    "B = [2,1,4,5]\n",
    "C = [5,6,4,1]\n",
    "alpha = 0.05\n",
    "\n",
    "f_statistics,p_value = stats.f_oneway(A,B,C) \n",
    "\n",
    "if p_value < alpha:\n",
    "    print(\"There is a significant difference in mean weight loss between at least two diets.\")\n",
    "else:\n",
    "    print(\"There is no significant difference in mean weight loss between the diets.\")"
   ]
  },
  {
   "cell_type": "code",
   "execution_count": 4,
   "id": "0e878213-a65c-4a2c-b501-9b02fe749b14",
   "metadata": {},
   "outputs": [
    {
     "name": "stdout",
     "output_type": "stream",
     "text": [
      "There is no significant difference in test scores between the groups.\n"
     ]
    }
   ],
   "source": [
    "#question 11\n",
    "\n",
    "import numpy as np \n",
    "import scipy.stats as stats\n",
    "\n",
    "control_group = [78, 82, 75, 88, 90]\n",
    "experimental_group = [85, 87, 92, 78, 95]  \n",
    "alpha = 0.05\n",
    "\n",
    "t_statistics,p_value = stats.ttest_ind(control_group,experimental_group)\n",
    "\n",
    "if p_value < alpha:\n",
    "    print(\"There is a significant difference in test scores between the control and experimental groups.\")\n",
    "else:\n",
    "    print(\"There is no significant difference in test scores between the groups.\")\n",
    "\n"
   ]
  },
  {
   "cell_type": "code",
   "execution_count": null,
   "id": "ffac87e1-57ad-4eb1-b3be-4abc4685a6ca",
   "metadata": {},
   "outputs": [],
   "source": [
    "#question 12 \n",
    "\n",
    "import numpy as np \n",
    "import scipy.stats as stats\n",
    "\n",
    "store_a_sales = [1000, 1100, 1050, 1125]\n",
    "store_b_sales = [950, 980, 1055, 1020]\n",
    "store_c_sales = [1050, 1005, 1100, 1080]\n",
    "alpha \n",
    "\n",
    "f_statistics,p_value = stats.f_oneway(store_a_sales, store_b_sales, store_c_sales)\n",
    "\n",
    "if p_value < alpha:\n",
    "    print(\"There is a significant difference in average daily sales between the three stores.\")\n",
    "else:\n",
    "    print(\"There is no significant difference in average daily sales between the stores.\")"
   ]
  }
 ],
 "metadata": {
  "kernelspec": {
   "display_name": "Python 3 (ipykernel)",
   "language": "python",
   "name": "python3"
  },
  "language_info": {
   "codemirror_mode": {
    "name": "ipython",
    "version": 3
   },
   "file_extension": ".py",
   "mimetype": "text/x-python",
   "name": "python",
   "nbconvert_exporter": "python",
   "pygments_lexer": "ipython3",
   "version": "3.10.8"
  }
 },
 "nbformat": 4,
 "nbformat_minor": 5
}
